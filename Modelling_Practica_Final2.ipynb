{
 "cells": [
  {
   "cell_type": "markdown",
   "metadata": {},
   "source": [
    "# MACHINE LEARNING\n",
    "## PRÁCTICA FINAL (2/2)"
   ]
  },
  {
   "cell_type": "code",
   "execution_count": 1,
   "metadata": {},
   "outputs": [
    {
     "name": "stdout",
     "output_type": "stream",
     "text": [
      "Gracias!:  Alejandro Allepuz, Pablo Carcelén, Juan Dorrego, Teresa Fernández, Ricardo Marín y Andrés Piqueras :)\n"
     ]
    }
   ],
   "source": [
    "nombres = \"Alejandro Allepuz, Pablo Carcelén, Juan Dorrego, Teresa Fernández, Ricardo Marín y Andrés Piqueras\"\n",
    "if nombres == \"\":\n",
    "    print(\"Rellena tu nombre completo!\")\n",
    "else:\n",
    "    print(\"Gracias!: \", nombres, \":)\")"
   ]
  },
  {
   "cell_type": "markdown",
   "metadata": {},
   "source": [
    "**Nótese que este *Notebook* se corresponde sólo con la segunda parte del trabajo final de la asignatura. En él, podrá encontrar la parte de *Modelling* de los datos así como las conclusiones y sus comentarios.**"
   ]
  },
  {
   "cell_type": "markdown",
   "metadata": {
    "id": "0uUV3igcvBIY"
   },
   "source": [
    "## 1. Cargar datos"
   ]
  },
  {
   "cell_type": "markdown",
   "metadata": {},
   "source": [
    "Esta parte del trabajo comienza con la Carga y Escala de datos. Anteriormente, utilizamos todo el notebook del preprocessing para realizar el tratamiento de los datos y guardarlos en dos archivos CSV que ahora solo tendremos que importar para seguir trabajando sobre ellos. "
   ]
  },
  {
   "cell_type": "code",
   "execution_count": null,
   "metadata": {
    "colab": {
     "base_uri": "https://localhost:8080/"
    },
    "id": "heu5Vj7rXoTV",
    "outputId": "ca2f0fe0-f3ff-40f2-eda0-f39a577595e9"
   },
   "outputs": [
    {
     "name": "stdout",
     "output_type": "stream",
     "text": [
      "Drive already mounted at /content/folders/; to attempt to forcibly remount, call drive.mount(\"/content/folders/\", force_remount=True).\n"
     ]
    }
   ],
   "source": [
    "from google.colab import drive\n",
    "drive.mount('/content/folders/')"
   ]
  },
  {
   "cell_type": "code",
   "execution_count": null,
   "metadata": {
    "id": "xg3NyMN3YCN4"
   },
   "outputs": [],
   "source": [
    "# cargamos librerías necesarias\n",
    "import pandas as pd\n",
    "import numpy as np\n",
    "import seaborn as sns\n",
    "from matplotlib import pyplot as plt # para dibujar\n",
    "import plotly.express as px\n",
    "%matplotlib inline\n",
    "\n",
    "pd.set_option('display.max_columns', 500)\n",
    "pd.set_option('display.max_rows', 5000)"
   ]
  },
  {
   "cell_type": "code",
   "execution_count": null,
   "metadata": {
    "id": "xfhuk3IxmEps"
   },
   "outputs": [],
   "source": [
    "import sys\n",
    "sys.path.append('/content/folders/MyDrive/Colab Notebooks/Machine_final/')"
   ]
  },
  {
   "cell_type": "code",
   "execution_count": null,
   "metadata": {
    "id": "QeasywC-mGh4"
   },
   "outputs": [],
   "source": [
    "import funciones_auxiliares "
   ]
  },
  {
   "cell_type": "code",
   "execution_count": null,
   "metadata": {
    "colab": {
     "base_uri": "https://localhost:8080/"
    },
    "id": "r7OYQIpIX3NP",
    "outputId": "9e12a4e7-e421-4308-8ba9-03b674197963"
   },
   "outputs": [
    {
     "data": {
      "text/plain": [
       "(169046, 19)"
      ]
     },
     "execution_count": 6,
     "metadata": {},
     "output_type": "execute_result"
    }
   ],
   "source": [
    "df_train = pd.read_csv(\"/content/folders/MyDrive/Colab Notebooks/Machine_final/df_procesado_train\",sep=\"\\t\",low_memory=False)\n",
    "df_test = pd.read_csv(\"/content/folders/MyDrive/Colab Notebooks/Machine_final/df_procesado_test\",sep=\"\\t\",low_memory=False)\n",
    "df_train.shape"
   ]
  },
  {
   "cell_type": "code",
   "execution_count": null,
   "metadata": {
    "colab": {
     "base_uri": "https://localhost:8080/",
     "height": 424
    },
    "id": "lTPpqEOvaGCS",
    "outputId": "634c1d18-29c7-4a80-bfa1-8a220acee863"
   },
   "outputs": [
    {
     "data": {
      "text/html": [
       "\n",
       "  <div id=\"df-e411f846-8596-4d76-858c-6dbe673b677e\">\n",
       "    <div class=\"colab-df-container\">\n",
       "      <div>\n",
       "<style scoped>\n",
       "    .dataframe tbody tr th:only-of-type {\n",
       "        vertical-align: middle;\n",
       "    }\n",
       "\n",
       "    .dataframe tbody tr th {\n",
       "        vertical-align: top;\n",
       "    }\n",
       "\n",
       "    .dataframe thead th {\n",
       "        text-align: right;\n",
       "    }\n",
       "</style>\n",
       "<table border=\"1\" class=\"dataframe\">\n",
       "  <thead>\n",
       "    <tr style=\"text-align: right;\">\n",
       "      <th></th>\n",
       "      <th>Unnamed: 0</th>\n",
       "      <th>C_MNTH</th>\n",
       "      <th>C_WDAY</th>\n",
       "      <th>C_HOUR</th>\n",
       "      <th>C_VEHS</th>\n",
       "      <th>C_CONF</th>\n",
       "      <th>C_RCFG</th>\n",
       "      <th>C_WTHR</th>\n",
       "      <th>C_RSUR</th>\n",
       "      <th>C_RALN</th>\n",
       "      <th>C_TRAF</th>\n",
       "      <th>V_TYPE</th>\n",
       "      <th>P_SEX</th>\n",
       "      <th>P_AGE</th>\n",
       "      <th>P_PSN</th>\n",
       "      <th>P_SAFE</th>\n",
       "      <th>P_USER</th>\n",
       "      <th>V_AGE</th>\n",
       "      <th>C_SEV</th>\n",
       "    </tr>\n",
       "  </thead>\n",
       "  <tbody>\n",
       "    <tr>\n",
       "      <th>0</th>\n",
       "      <td>0</td>\n",
       "      <td>1</td>\n",
       "      <td>4</td>\n",
       "      <td>23</td>\n",
       "      <td>1</td>\n",
       "      <td>6</td>\n",
       "      <td>2</td>\n",
       "      <td>6</td>\n",
       "      <td>2</td>\n",
       "      <td>1</td>\n",
       "      <td>80</td>\n",
       "      <td>1</td>\n",
       "      <td>1</td>\n",
       "      <td>53</td>\n",
       "      <td>11</td>\n",
       "      <td>1</td>\n",
       "      <td>1</td>\n",
       "      <td>12</td>\n",
       "      <td>0</td>\n",
       "    </tr>\n",
       "    <tr>\n",
       "      <th>1</th>\n",
       "      <td>1</td>\n",
       "      <td>12</td>\n",
       "      <td>2</td>\n",
       "      <td>14</td>\n",
       "      <td>2</td>\n",
       "      <td>21</td>\n",
       "      <td>2</td>\n",
       "      <td>1</td>\n",
       "      <td>1</td>\n",
       "      <td>1</td>\n",
       "      <td>1</td>\n",
       "      <td>8</td>\n",
       "      <td>1</td>\n",
       "      <td>49</td>\n",
       "      <td>11</td>\n",
       "      <td>2</td>\n",
       "      <td>1</td>\n",
       "      <td>7</td>\n",
       "      <td>0</td>\n",
       "    </tr>\n",
       "    <tr>\n",
       "      <th>2</th>\n",
       "      <td>2</td>\n",
       "      <td>6</td>\n",
       "      <td>6</td>\n",
       "      <td>0</td>\n",
       "      <td>2</td>\n",
       "      <td>32</td>\n",
       "      <td>2</td>\n",
       "      <td>3</td>\n",
       "      <td>2</td>\n",
       "      <td>2</td>\n",
       "      <td>1</td>\n",
       "      <td>1</td>\n",
       "      <td>1</td>\n",
       "      <td>20</td>\n",
       "      <td>11</td>\n",
       "      <td>2</td>\n",
       "      <td>1</td>\n",
       "      <td>4</td>\n",
       "      <td>0</td>\n",
       "    </tr>\n",
       "    <tr>\n",
       "      <th>3</th>\n",
       "      <td>3</td>\n",
       "      <td>8</td>\n",
       "      <td>2</td>\n",
       "      <td>19</td>\n",
       "      <td>2</td>\n",
       "      <td>35</td>\n",
       "      <td>2</td>\n",
       "      <td>1</td>\n",
       "      <td>1</td>\n",
       "      <td>1</td>\n",
       "      <td>3</td>\n",
       "      <td>14</td>\n",
       "      <td>1</td>\n",
       "      <td>62</td>\n",
       "      <td>11</td>\n",
       "      <td>9</td>\n",
       "      <td>5</td>\n",
       "      <td>12</td>\n",
       "      <td>0</td>\n",
       "    </tr>\n",
       "    <tr>\n",
       "      <th>4</th>\n",
       "      <td>4</td>\n",
       "      <td>6</td>\n",
       "      <td>7</td>\n",
       "      <td>3</td>\n",
       "      <td>2</td>\n",
       "      <td>22</td>\n",
       "      <td>1</td>\n",
       "      <td>1</td>\n",
       "      <td>1</td>\n",
       "      <td>1</td>\n",
       "      <td>18</td>\n",
       "      <td>1</td>\n",
       "      <td>1</td>\n",
       "      <td>17</td>\n",
       "      <td>11</td>\n",
       "      <td>2</td>\n",
       "      <td>1</td>\n",
       "      <td>11</td>\n",
       "      <td>0</td>\n",
       "    </tr>\n",
       "    <tr>\n",
       "      <th>...</th>\n",
       "      <td>...</td>\n",
       "      <td>...</td>\n",
       "      <td>...</td>\n",
       "      <td>...</td>\n",
       "      <td>...</td>\n",
       "      <td>...</td>\n",
       "      <td>...</td>\n",
       "      <td>...</td>\n",
       "      <td>...</td>\n",
       "      <td>...</td>\n",
       "      <td>...</td>\n",
       "      <td>...</td>\n",
       "      <td>...</td>\n",
       "      <td>...</td>\n",
       "      <td>...</td>\n",
       "      <td>...</td>\n",
       "      <td>...</td>\n",
       "      <td>...</td>\n",
       "      <td>...</td>\n",
       "    </tr>\n",
       "    <tr>\n",
       "      <th>169041</th>\n",
       "      <td>169041</td>\n",
       "      <td>2</td>\n",
       "      <td>6</td>\n",
       "      <td>0</td>\n",
       "      <td>2</td>\n",
       "      <td>21</td>\n",
       "      <td>2</td>\n",
       "      <td>2</td>\n",
       "      <td>1</td>\n",
       "      <td>1</td>\n",
       "      <td>18</td>\n",
       "      <td>1</td>\n",
       "      <td>0</td>\n",
       "      <td>18</td>\n",
       "      <td>11</td>\n",
       "      <td>2</td>\n",
       "      <td>1</td>\n",
       "      <td>7</td>\n",
       "      <td>1</td>\n",
       "    </tr>\n",
       "    <tr>\n",
       "      <th>169042</th>\n",
       "      <td>169042</td>\n",
       "      <td>1</td>\n",
       "      <td>1</td>\n",
       "      <td>16</td>\n",
       "      <td>12</td>\n",
       "      <td>21</td>\n",
       "      <td>1</td>\n",
       "      <td>6</td>\n",
       "      <td>3</td>\n",
       "      <td>1</td>\n",
       "      <td>18</td>\n",
       "      <td>1</td>\n",
       "      <td>1</td>\n",
       "      <td>61</td>\n",
       "      <td>11</td>\n",
       "      <td>2</td>\n",
       "      <td>1</td>\n",
       "      <td>0</td>\n",
       "      <td>1</td>\n",
       "    </tr>\n",
       "    <tr>\n",
       "      <th>169043</th>\n",
       "      <td>169043</td>\n",
       "      <td>8</td>\n",
       "      <td>3</td>\n",
       "      <td>20</td>\n",
       "      <td>5</td>\n",
       "      <td>21</td>\n",
       "      <td>2</td>\n",
       "      <td>1</td>\n",
       "      <td>1</td>\n",
       "      <td>1</td>\n",
       "      <td>18</td>\n",
       "      <td>1</td>\n",
       "      <td>1</td>\n",
       "      <td>33</td>\n",
       "      <td>21</td>\n",
       "      <td>2</td>\n",
       "      <td>2</td>\n",
       "      <td>12</td>\n",
       "      <td>1</td>\n",
       "    </tr>\n",
       "    <tr>\n",
       "      <th>169044</th>\n",
       "      <td>169044</td>\n",
       "      <td>8</td>\n",
       "      <td>5</td>\n",
       "      <td>22</td>\n",
       "      <td>2</td>\n",
       "      <td>31</td>\n",
       "      <td>1</td>\n",
       "      <td>6</td>\n",
       "      <td>2</td>\n",
       "      <td>3</td>\n",
       "      <td>18</td>\n",
       "      <td>6</td>\n",
       "      <td>0</td>\n",
       "      <td>37</td>\n",
       "      <td>13</td>\n",
       "      <td>2</td>\n",
       "      <td>2</td>\n",
       "      <td>5</td>\n",
       "      <td>1</td>\n",
       "    </tr>\n",
       "    <tr>\n",
       "      <th>169045</th>\n",
       "      <td>169045</td>\n",
       "      <td>11</td>\n",
       "      <td>1</td>\n",
       "      <td>13</td>\n",
       "      <td>2</td>\n",
       "      <td>31</td>\n",
       "      <td>1</td>\n",
       "      <td>1</td>\n",
       "      <td>2</td>\n",
       "      <td>1</td>\n",
       "      <td>18</td>\n",
       "      <td>1</td>\n",
       "      <td>1</td>\n",
       "      <td>28</td>\n",
       "      <td>11</td>\n",
       "      <td>12</td>\n",
       "      <td>1</td>\n",
       "      <td>8</td>\n",
       "      <td>1</td>\n",
       "    </tr>\n",
       "  </tbody>\n",
       "</table>\n",
       "<p>169046 rows × 19 columns</p>\n",
       "</div>\n",
       "      <button class=\"colab-df-convert\" onclick=\"convertToInteractive('df-e411f846-8596-4d76-858c-6dbe673b677e')\"\n",
       "              title=\"Convert this dataframe to an interactive table.\"\n",
       "              style=\"display:none;\">\n",
       "        \n",
       "  <svg xmlns=\"http://www.w3.org/2000/svg\" height=\"24px\"viewBox=\"0 0 24 24\"\n",
       "       width=\"24px\">\n",
       "    <path d=\"M0 0h24v24H0V0z\" fill=\"none\"/>\n",
       "    <path d=\"M18.56 5.44l.94 2.06.94-2.06 2.06-.94-2.06-.94-.94-2.06-.94 2.06-2.06.94zm-11 1L8.5 8.5l.94-2.06 2.06-.94-2.06-.94L8.5 2.5l-.94 2.06-2.06.94zm10 10l.94 2.06.94-2.06 2.06-.94-2.06-.94-.94-2.06-.94 2.06-2.06.94z\"/><path d=\"M17.41 7.96l-1.37-1.37c-.4-.4-.92-.59-1.43-.59-.52 0-1.04.2-1.43.59L10.3 9.45l-7.72 7.72c-.78.78-.78 2.05 0 2.83L4 21.41c.39.39.9.59 1.41.59.51 0 1.02-.2 1.41-.59l7.78-7.78 2.81-2.81c.8-.78.8-2.07 0-2.86zM5.41 20L4 18.59l7.72-7.72 1.47 1.35L5.41 20z\"/>\n",
       "  </svg>\n",
       "      </button>\n",
       "      \n",
       "  <style>\n",
       "    .colab-df-container {\n",
       "      display:flex;\n",
       "      flex-wrap:wrap;\n",
       "      gap: 12px;\n",
       "    }\n",
       "\n",
       "    .colab-df-convert {\n",
       "      background-color: #E8F0FE;\n",
       "      border: none;\n",
       "      border-radius: 50%;\n",
       "      cursor: pointer;\n",
       "      display: none;\n",
       "      fill: #1967D2;\n",
       "      height: 32px;\n",
       "      padding: 0 0 0 0;\n",
       "      width: 32px;\n",
       "    }\n",
       "\n",
       "    .colab-df-convert:hover {\n",
       "      background-color: #E2EBFA;\n",
       "      box-shadow: 0px 1px 2px rgba(60, 64, 67, 0.3), 0px 1px 3px 1px rgba(60, 64, 67, 0.15);\n",
       "      fill: #174EA6;\n",
       "    }\n",
       "\n",
       "    [theme=dark] .colab-df-convert {\n",
       "      background-color: #3B4455;\n",
       "      fill: #D2E3FC;\n",
       "    }\n",
       "\n",
       "    [theme=dark] .colab-df-convert:hover {\n",
       "      background-color: #434B5C;\n",
       "      box-shadow: 0px 1px 3px 1px rgba(0, 0, 0, 0.15);\n",
       "      filter: drop-shadow(0px 1px 2px rgba(0, 0, 0, 0.3));\n",
       "      fill: #FFFFFF;\n",
       "    }\n",
       "  </style>\n",
       "\n",
       "      <script>\n",
       "        const buttonEl =\n",
       "          document.querySelector('#df-e411f846-8596-4d76-858c-6dbe673b677e button.colab-df-convert');\n",
       "        buttonEl.style.display =\n",
       "          google.colab.kernel.accessAllowed ? 'block' : 'none';\n",
       "\n",
       "        async function convertToInteractive(key) {\n",
       "          const element = document.querySelector('#df-e411f846-8596-4d76-858c-6dbe673b677e');\n",
       "          const dataTable =\n",
       "            await google.colab.kernel.invokeFunction('convertToInteractive',\n",
       "                                                     [key], {});\n",
       "          if (!dataTable) return;\n",
       "\n",
       "          const docLinkHtml = 'Like what you see? Visit the ' +\n",
       "            '<a target=\"_blank\" href=https://colab.research.google.com/notebooks/data_table.ipynb>data table notebook</a>'\n",
       "            + ' to learn more about interactive tables.';\n",
       "          element.innerHTML = '';\n",
       "          dataTable['output_type'] = 'display_data';\n",
       "          await google.colab.output.renderOutput(dataTable, element);\n",
       "          const docLink = document.createElement('div');\n",
       "          docLink.innerHTML = docLinkHtml;\n",
       "          element.appendChild(docLink);\n",
       "        }\n",
       "      </script>\n",
       "    </div>\n",
       "  </div>\n",
       "  "
      ],
      "text/plain": [
       "        Unnamed: 0  C_MNTH  C_WDAY  C_HOUR  C_VEHS  C_CONF  C_RCFG  C_WTHR  \\\n",
       "0                0       1       4      23       1       6       2       6   \n",
       "1                1      12       2      14       2      21       2       1   \n",
       "2                2       6       6       0       2      32       2       3   \n",
       "3                3       8       2      19       2      35       2       1   \n",
       "4                4       6       7       3       2      22       1       1   \n",
       "...            ...     ...     ...     ...     ...     ...     ...     ...   \n",
       "169041      169041       2       6       0       2      21       2       2   \n",
       "169042      169042       1       1      16      12      21       1       6   \n",
       "169043      169043       8       3      20       5      21       2       1   \n",
       "169044      169044       8       5      22       2      31       1       6   \n",
       "169045      169045      11       1      13       2      31       1       1   \n",
       "\n",
       "        C_RSUR  C_RALN  C_TRAF  V_TYPE  P_SEX  P_AGE  P_PSN  P_SAFE  P_USER  \\\n",
       "0            2       1      80       1      1     53     11       1       1   \n",
       "1            1       1       1       8      1     49     11       2       1   \n",
       "2            2       2       1       1      1     20     11       2       1   \n",
       "3            1       1       3      14      1     62     11       9       5   \n",
       "4            1       1      18       1      1     17     11       2       1   \n",
       "...        ...     ...     ...     ...    ...    ...    ...     ...     ...   \n",
       "169041       1       1      18       1      0     18     11       2       1   \n",
       "169042       3       1      18       1      1     61     11       2       1   \n",
       "169043       1       1      18       1      1     33     21       2       2   \n",
       "169044       2       3      18       6      0     37     13       2       2   \n",
       "169045       2       1      18       1      1     28     11      12       1   \n",
       "\n",
       "        V_AGE  C_SEV  \n",
       "0          12      0  \n",
       "1           7      0  \n",
       "2           4      0  \n",
       "3          12      0  \n",
       "4          11      0  \n",
       "...       ...    ...  \n",
       "169041      7      1  \n",
       "169042      0      1  \n",
       "169043     12      1  \n",
       "169044      5      1  \n",
       "169045      8      1  \n",
       "\n",
       "[169046 rows x 19 columns]"
      ]
     },
     "execution_count": 7,
     "metadata": {},
     "output_type": "execute_result"
    }
   ],
   "source": [
    "df_train"
   ]
  },
  {
   "cell_type": "code",
   "execution_count": null,
   "metadata": {
    "colab": {
     "base_uri": "https://localhost:8080/",
     "height": 424
    },
    "id": "1cD_pfOfe0Ht",
    "outputId": "7317c54f-c878-4878-c339-1b32e946a95c"
   },
   "outputs": [
    {
     "data": {
      "text/html": [
       "\n",
       "  <div id=\"df-bd6ff941-789d-4498-a45c-0510c94bc8b1\">\n",
       "    <div class=\"colab-df-container\">\n",
       "      <div>\n",
       "<style scoped>\n",
       "    .dataframe tbody tr th:only-of-type {\n",
       "        vertical-align: middle;\n",
       "    }\n",
       "\n",
       "    .dataframe tbody tr th {\n",
       "        vertical-align: top;\n",
       "    }\n",
       "\n",
       "    .dataframe thead th {\n",
       "        text-align: right;\n",
       "    }\n",
       "</style>\n",
       "<table border=\"1\" class=\"dataframe\">\n",
       "  <thead>\n",
       "    <tr style=\"text-align: right;\">\n",
       "      <th></th>\n",
       "      <th>C_MNTH</th>\n",
       "      <th>C_WDAY</th>\n",
       "      <th>C_HOUR</th>\n",
       "      <th>C_VEHS</th>\n",
       "      <th>C_CONF</th>\n",
       "      <th>C_RCFG</th>\n",
       "      <th>C_WTHR</th>\n",
       "      <th>C_RSUR</th>\n",
       "      <th>C_RALN</th>\n",
       "      <th>C_TRAF</th>\n",
       "      <th>V_TYPE</th>\n",
       "      <th>P_SEX</th>\n",
       "      <th>P_AGE</th>\n",
       "      <th>P_PSN</th>\n",
       "      <th>P_SAFE</th>\n",
       "      <th>P_USER</th>\n",
       "      <th>V_AGE</th>\n",
       "      <th>C_SEV</th>\n",
       "    </tr>\n",
       "  </thead>\n",
       "  <tbody>\n",
       "    <tr>\n",
       "      <th>0</th>\n",
       "      <td>1</td>\n",
       "      <td>4</td>\n",
       "      <td>23</td>\n",
       "      <td>1</td>\n",
       "      <td>6</td>\n",
       "      <td>2</td>\n",
       "      <td>6</td>\n",
       "      <td>2</td>\n",
       "      <td>1</td>\n",
       "      <td>80</td>\n",
       "      <td>1</td>\n",
       "      <td>1</td>\n",
       "      <td>53</td>\n",
       "      <td>11</td>\n",
       "      <td>1</td>\n",
       "      <td>1</td>\n",
       "      <td>12</td>\n",
       "      <td>0</td>\n",
       "    </tr>\n",
       "    <tr>\n",
       "      <th>1</th>\n",
       "      <td>12</td>\n",
       "      <td>2</td>\n",
       "      <td>14</td>\n",
       "      <td>2</td>\n",
       "      <td>21</td>\n",
       "      <td>2</td>\n",
       "      <td>1</td>\n",
       "      <td>1</td>\n",
       "      <td>1</td>\n",
       "      <td>1</td>\n",
       "      <td>8</td>\n",
       "      <td>1</td>\n",
       "      <td>49</td>\n",
       "      <td>11</td>\n",
       "      <td>2</td>\n",
       "      <td>1</td>\n",
       "      <td>7</td>\n",
       "      <td>0</td>\n",
       "    </tr>\n",
       "    <tr>\n",
       "      <th>2</th>\n",
       "      <td>6</td>\n",
       "      <td>6</td>\n",
       "      <td>0</td>\n",
       "      <td>2</td>\n",
       "      <td>32</td>\n",
       "      <td>2</td>\n",
       "      <td>3</td>\n",
       "      <td>2</td>\n",
       "      <td>2</td>\n",
       "      <td>1</td>\n",
       "      <td>1</td>\n",
       "      <td>1</td>\n",
       "      <td>20</td>\n",
       "      <td>11</td>\n",
       "      <td>2</td>\n",
       "      <td>1</td>\n",
       "      <td>4</td>\n",
       "      <td>0</td>\n",
       "    </tr>\n",
       "    <tr>\n",
       "      <th>3</th>\n",
       "      <td>8</td>\n",
       "      <td>2</td>\n",
       "      <td>19</td>\n",
       "      <td>2</td>\n",
       "      <td>35</td>\n",
       "      <td>2</td>\n",
       "      <td>1</td>\n",
       "      <td>1</td>\n",
       "      <td>1</td>\n",
       "      <td>3</td>\n",
       "      <td>14</td>\n",
       "      <td>1</td>\n",
       "      <td>62</td>\n",
       "      <td>11</td>\n",
       "      <td>9</td>\n",
       "      <td>5</td>\n",
       "      <td>12</td>\n",
       "      <td>0</td>\n",
       "    </tr>\n",
       "    <tr>\n",
       "      <th>4</th>\n",
       "      <td>6</td>\n",
       "      <td>7</td>\n",
       "      <td>3</td>\n",
       "      <td>2</td>\n",
       "      <td>22</td>\n",
       "      <td>1</td>\n",
       "      <td>1</td>\n",
       "      <td>1</td>\n",
       "      <td>1</td>\n",
       "      <td>18</td>\n",
       "      <td>1</td>\n",
       "      <td>1</td>\n",
       "      <td>17</td>\n",
       "      <td>11</td>\n",
       "      <td>2</td>\n",
       "      <td>1</td>\n",
       "      <td>11</td>\n",
       "      <td>0</td>\n",
       "    </tr>\n",
       "    <tr>\n",
       "      <th>...</th>\n",
       "      <td>...</td>\n",
       "      <td>...</td>\n",
       "      <td>...</td>\n",
       "      <td>...</td>\n",
       "      <td>...</td>\n",
       "      <td>...</td>\n",
       "      <td>...</td>\n",
       "      <td>...</td>\n",
       "      <td>...</td>\n",
       "      <td>...</td>\n",
       "      <td>...</td>\n",
       "      <td>...</td>\n",
       "      <td>...</td>\n",
       "      <td>...</td>\n",
       "      <td>...</td>\n",
       "      <td>...</td>\n",
       "      <td>...</td>\n",
       "      <td>...</td>\n",
       "    </tr>\n",
       "    <tr>\n",
       "      <th>169041</th>\n",
       "      <td>2</td>\n",
       "      <td>6</td>\n",
       "      <td>0</td>\n",
       "      <td>2</td>\n",
       "      <td>21</td>\n",
       "      <td>2</td>\n",
       "      <td>2</td>\n",
       "      <td>1</td>\n",
       "      <td>1</td>\n",
       "      <td>18</td>\n",
       "      <td>1</td>\n",
       "      <td>0</td>\n",
       "      <td>18</td>\n",
       "      <td>11</td>\n",
       "      <td>2</td>\n",
       "      <td>1</td>\n",
       "      <td>7</td>\n",
       "      <td>1</td>\n",
       "    </tr>\n",
       "    <tr>\n",
       "      <th>169042</th>\n",
       "      <td>1</td>\n",
       "      <td>1</td>\n",
       "      <td>16</td>\n",
       "      <td>12</td>\n",
       "      <td>21</td>\n",
       "      <td>1</td>\n",
       "      <td>6</td>\n",
       "      <td>3</td>\n",
       "      <td>1</td>\n",
       "      <td>18</td>\n",
       "      <td>1</td>\n",
       "      <td>1</td>\n",
       "      <td>61</td>\n",
       "      <td>11</td>\n",
       "      <td>2</td>\n",
       "      <td>1</td>\n",
       "      <td>0</td>\n",
       "      <td>1</td>\n",
       "    </tr>\n",
       "    <tr>\n",
       "      <th>169043</th>\n",
       "      <td>8</td>\n",
       "      <td>3</td>\n",
       "      <td>20</td>\n",
       "      <td>5</td>\n",
       "      <td>21</td>\n",
       "      <td>2</td>\n",
       "      <td>1</td>\n",
       "      <td>1</td>\n",
       "      <td>1</td>\n",
       "      <td>18</td>\n",
       "      <td>1</td>\n",
       "      <td>1</td>\n",
       "      <td>33</td>\n",
       "      <td>21</td>\n",
       "      <td>2</td>\n",
       "      <td>2</td>\n",
       "      <td>12</td>\n",
       "      <td>1</td>\n",
       "    </tr>\n",
       "    <tr>\n",
       "      <th>169044</th>\n",
       "      <td>8</td>\n",
       "      <td>5</td>\n",
       "      <td>22</td>\n",
       "      <td>2</td>\n",
       "      <td>31</td>\n",
       "      <td>1</td>\n",
       "      <td>6</td>\n",
       "      <td>2</td>\n",
       "      <td>3</td>\n",
       "      <td>18</td>\n",
       "      <td>6</td>\n",
       "      <td>0</td>\n",
       "      <td>37</td>\n",
       "      <td>13</td>\n",
       "      <td>2</td>\n",
       "      <td>2</td>\n",
       "      <td>5</td>\n",
       "      <td>1</td>\n",
       "    </tr>\n",
       "    <tr>\n",
       "      <th>169045</th>\n",
       "      <td>11</td>\n",
       "      <td>1</td>\n",
       "      <td>13</td>\n",
       "      <td>2</td>\n",
       "      <td>31</td>\n",
       "      <td>1</td>\n",
       "      <td>1</td>\n",
       "      <td>2</td>\n",
       "      <td>1</td>\n",
       "      <td>18</td>\n",
       "      <td>1</td>\n",
       "      <td>1</td>\n",
       "      <td>28</td>\n",
       "      <td>11</td>\n",
       "      <td>12</td>\n",
       "      <td>1</td>\n",
       "      <td>8</td>\n",
       "      <td>1</td>\n",
       "    </tr>\n",
       "  </tbody>\n",
       "</table>\n",
       "<p>169046 rows × 18 columns</p>\n",
       "</div>\n",
       "      <button class=\"colab-df-convert\" onclick=\"convertToInteractive('df-bd6ff941-789d-4498-a45c-0510c94bc8b1')\"\n",
       "              title=\"Convert this dataframe to an interactive table.\"\n",
       "              style=\"display:none;\">\n",
       "        \n",
       "  <svg xmlns=\"http://www.w3.org/2000/svg\" height=\"24px\"viewBox=\"0 0 24 24\"\n",
       "       width=\"24px\">\n",
       "    <path d=\"M0 0h24v24H0V0z\" fill=\"none\"/>\n",
       "    <path d=\"M18.56 5.44l.94 2.06.94-2.06 2.06-.94-2.06-.94-.94-2.06-.94 2.06-2.06.94zm-11 1L8.5 8.5l.94-2.06 2.06-.94-2.06-.94L8.5 2.5l-.94 2.06-2.06.94zm10 10l.94 2.06.94-2.06 2.06-.94-2.06-.94-.94-2.06-.94 2.06-2.06.94z\"/><path d=\"M17.41 7.96l-1.37-1.37c-.4-.4-.92-.59-1.43-.59-.52 0-1.04.2-1.43.59L10.3 9.45l-7.72 7.72c-.78.78-.78 2.05 0 2.83L4 21.41c.39.39.9.59 1.41.59.51 0 1.02-.2 1.41-.59l7.78-7.78 2.81-2.81c.8-.78.8-2.07 0-2.86zM5.41 20L4 18.59l7.72-7.72 1.47 1.35L5.41 20z\"/>\n",
       "  </svg>\n",
       "      </button>\n",
       "      \n",
       "  <style>\n",
       "    .colab-df-container {\n",
       "      display:flex;\n",
       "      flex-wrap:wrap;\n",
       "      gap: 12px;\n",
       "    }\n",
       "\n",
       "    .colab-df-convert {\n",
       "      background-color: #E8F0FE;\n",
       "      border: none;\n",
       "      border-radius: 50%;\n",
       "      cursor: pointer;\n",
       "      display: none;\n",
       "      fill: #1967D2;\n",
       "      height: 32px;\n",
       "      padding: 0 0 0 0;\n",
       "      width: 32px;\n",
       "    }\n",
       "\n",
       "    .colab-df-convert:hover {\n",
       "      background-color: #E2EBFA;\n",
       "      box-shadow: 0px 1px 2px rgba(60, 64, 67, 0.3), 0px 1px 3px 1px rgba(60, 64, 67, 0.15);\n",
       "      fill: #174EA6;\n",
       "    }\n",
       "\n",
       "    [theme=dark] .colab-df-convert {\n",
       "      background-color: #3B4455;\n",
       "      fill: #D2E3FC;\n",
       "    }\n",
       "\n",
       "    [theme=dark] .colab-df-convert:hover {\n",
       "      background-color: #434B5C;\n",
       "      box-shadow: 0px 1px 3px 1px rgba(0, 0, 0, 0.15);\n",
       "      filter: drop-shadow(0px 1px 2px rgba(0, 0, 0, 0.3));\n",
       "      fill: #FFFFFF;\n",
       "    }\n",
       "  </style>\n",
       "\n",
       "      <script>\n",
       "        const buttonEl =\n",
       "          document.querySelector('#df-bd6ff941-789d-4498-a45c-0510c94bc8b1 button.colab-df-convert');\n",
       "        buttonEl.style.display =\n",
       "          google.colab.kernel.accessAllowed ? 'block' : 'none';\n",
       "\n",
       "        async function convertToInteractive(key) {\n",
       "          const element = document.querySelector('#df-bd6ff941-789d-4498-a45c-0510c94bc8b1');\n",
       "          const dataTable =\n",
       "            await google.colab.kernel.invokeFunction('convertToInteractive',\n",
       "                                                     [key], {});\n",
       "          if (!dataTable) return;\n",
       "\n",
       "          const docLinkHtml = 'Like what you see? Visit the ' +\n",
       "            '<a target=\"_blank\" href=https://colab.research.google.com/notebooks/data_table.ipynb>data table notebook</a>'\n",
       "            + ' to learn more about interactive tables.';\n",
       "          element.innerHTML = '';\n",
       "          dataTable['output_type'] = 'display_data';\n",
       "          await google.colab.output.renderOutput(dataTable, element);\n",
       "          const docLink = document.createElement('div');\n",
       "          docLink.innerHTML = docLinkHtml;\n",
       "          element.appendChild(docLink);\n",
       "        }\n",
       "      </script>\n",
       "    </div>\n",
       "  </div>\n",
       "  "
      ],
      "text/plain": [
       "        C_MNTH  C_WDAY  C_HOUR  C_VEHS  C_CONF  C_RCFG  C_WTHR  C_RSUR  \\\n",
       "0            1       4      23       1       6       2       6       2   \n",
       "1           12       2      14       2      21       2       1       1   \n",
       "2            6       6       0       2      32       2       3       2   \n",
       "3            8       2      19       2      35       2       1       1   \n",
       "4            6       7       3       2      22       1       1       1   \n",
       "...        ...     ...     ...     ...     ...     ...     ...     ...   \n",
       "169041       2       6       0       2      21       2       2       1   \n",
       "169042       1       1      16      12      21       1       6       3   \n",
       "169043       8       3      20       5      21       2       1       1   \n",
       "169044       8       5      22       2      31       1       6       2   \n",
       "169045      11       1      13       2      31       1       1       2   \n",
       "\n",
       "        C_RALN  C_TRAF  V_TYPE  P_SEX  P_AGE  P_PSN  P_SAFE  P_USER  V_AGE  \\\n",
       "0            1      80       1      1     53     11       1       1     12   \n",
       "1            1       1       8      1     49     11       2       1      7   \n",
       "2            2       1       1      1     20     11       2       1      4   \n",
       "3            1       3      14      1     62     11       9       5     12   \n",
       "4            1      18       1      1     17     11       2       1     11   \n",
       "...        ...     ...     ...    ...    ...    ...     ...     ...    ...   \n",
       "169041       1      18       1      0     18     11       2       1      7   \n",
       "169042       1      18       1      1     61     11       2       1      0   \n",
       "169043       1      18       1      1     33     21       2       2     12   \n",
       "169044       3      18       6      0     37     13       2       2      5   \n",
       "169045       1      18       1      1     28     11      12       1      8   \n",
       "\n",
       "        C_SEV  \n",
       "0           0  \n",
       "1           0  \n",
       "2           0  \n",
       "3           0  \n",
       "4           0  \n",
       "...       ...  \n",
       "169041      1  \n",
       "169042      1  \n",
       "169043      1  \n",
       "169044      1  \n",
       "169045      1  \n",
       "\n",
       "[169046 rows x 18 columns]"
      ]
     },
     "execution_count": 8,
     "metadata": {},
     "output_type": "execute_result"
    }
   ],
   "source": [
    "df_train=df_train.drop(columns=df_train.columns[0])\n",
    "df_train"
   ]
  },
  {
   "cell_type": "code",
   "execution_count": null,
   "metadata": {
    "colab": {
     "base_uri": "https://localhost:8080/"
    },
    "id": "Zupxu21RfcTf",
    "outputId": "061f4943-7ac9-4807-9b5d-ef8260a37687"
   },
   "outputs": [
    {
     "data": {
      "text/plain": [
       "0         0\n",
       "1         0\n",
       "2         0\n",
       "3         0\n",
       "4         0\n",
       "         ..\n",
       "169041    1\n",
       "169042    1\n",
       "169043    1\n",
       "169044    1\n",
       "169045    1\n",
       "Name: C_SEV, Length: 169046, dtype: int64"
      ]
     },
     "execution_count": 9,
     "metadata": {},
     "output_type": "execute_result"
    }
   ],
   "source": [
    "y_train=df_train['C_SEV'].copy()\n",
    "y_train"
   ]
  },
  {
   "cell_type": "code",
   "execution_count": null,
   "metadata": {
    "id": "r6r6KFe5gFoz"
   },
   "outputs": [],
   "source": [
    "df_train.drop('C_SEV',axis=1, inplace=True)"
   ]
  },
  {
   "cell_type": "code",
   "execution_count": null,
   "metadata": {
    "colab": {
     "base_uri": "https://localhost:8080/"
    },
    "id": "zIznsU7FgO2k",
    "outputId": "04a35bc7-dd3f-4bfa-835a-d6a235698946"
   },
   "outputs": [
    {
     "data": {
      "text/html": [
       "\n",
       "  <div id=\"df-a9e4c370-2eca-4ecb-bd22-9c0a8ea050c9\">\n",
       "    <div class=\"colab-df-container\">\n",
       "      <div>\n",
       "<style scoped>\n",
       "    .dataframe tbody tr th:only-of-type {\n",
       "        vertical-align: middle;\n",
       "    }\n",
       "\n",
       "    .dataframe tbody tr th {\n",
       "        vertical-align: top;\n",
       "    }\n",
       "\n",
       "    .dataframe thead th {\n",
       "        text-align: right;\n",
       "    }\n",
       "</style>\n",
       "<table border=\"1\" class=\"dataframe\">\n",
       "  <thead>\n",
       "    <tr style=\"text-align: right;\">\n",
       "      <th></th>\n",
       "      <th>C_MNTH</th>\n",
       "      <th>C_WDAY</th>\n",
       "      <th>C_HOUR</th>\n",
       "      <th>C_VEHS</th>\n",
       "      <th>C_CONF</th>\n",
       "      <th>C_RCFG</th>\n",
       "      <th>C_WTHR</th>\n",
       "      <th>C_RSUR</th>\n",
       "      <th>C_RALN</th>\n",
       "      <th>C_TRAF</th>\n",
       "      <th>V_TYPE</th>\n",
       "      <th>P_SEX</th>\n",
       "      <th>P_AGE</th>\n",
       "      <th>P_PSN</th>\n",
       "      <th>P_SAFE</th>\n",
       "      <th>P_USER</th>\n",
       "      <th>V_AGE</th>\n",
       "    </tr>\n",
       "  </thead>\n",
       "  <tbody>\n",
       "    <tr>\n",
       "      <th>0</th>\n",
       "      <td>1</td>\n",
       "      <td>4</td>\n",
       "      <td>23</td>\n",
       "      <td>1</td>\n",
       "      <td>6</td>\n",
       "      <td>2</td>\n",
       "      <td>6</td>\n",
       "      <td>2</td>\n",
       "      <td>1</td>\n",
       "      <td>80</td>\n",
       "      <td>1</td>\n",
       "      <td>1</td>\n",
       "      <td>53</td>\n",
       "      <td>11</td>\n",
       "      <td>1</td>\n",
       "      <td>1</td>\n",
       "      <td>12</td>\n",
       "    </tr>\n",
       "    <tr>\n",
       "      <th>1</th>\n",
       "      <td>12</td>\n",
       "      <td>2</td>\n",
       "      <td>14</td>\n",
       "      <td>2</td>\n",
       "      <td>21</td>\n",
       "      <td>2</td>\n",
       "      <td>1</td>\n",
       "      <td>1</td>\n",
       "      <td>1</td>\n",
       "      <td>1</td>\n",
       "      <td>8</td>\n",
       "      <td>1</td>\n",
       "      <td>49</td>\n",
       "      <td>11</td>\n",
       "      <td>2</td>\n",
       "      <td>1</td>\n",
       "      <td>7</td>\n",
       "    </tr>\n",
       "    <tr>\n",
       "      <th>2</th>\n",
       "      <td>6</td>\n",
       "      <td>6</td>\n",
       "      <td>0</td>\n",
       "      <td>2</td>\n",
       "      <td>32</td>\n",
       "      <td>2</td>\n",
       "      <td>3</td>\n",
       "      <td>2</td>\n",
       "      <td>2</td>\n",
       "      <td>1</td>\n",
       "      <td>1</td>\n",
       "      <td>1</td>\n",
       "      <td>20</td>\n",
       "      <td>11</td>\n",
       "      <td>2</td>\n",
       "      <td>1</td>\n",
       "      <td>4</td>\n",
       "    </tr>\n",
       "    <tr>\n",
       "      <th>3</th>\n",
       "      <td>8</td>\n",
       "      <td>2</td>\n",
       "      <td>19</td>\n",
       "      <td>2</td>\n",
       "      <td>35</td>\n",
       "      <td>2</td>\n",
       "      <td>1</td>\n",
       "      <td>1</td>\n",
       "      <td>1</td>\n",
       "      <td>3</td>\n",
       "      <td>14</td>\n",
       "      <td>1</td>\n",
       "      <td>62</td>\n",
       "      <td>11</td>\n",
       "      <td>9</td>\n",
       "      <td>5</td>\n",
       "      <td>12</td>\n",
       "    </tr>\n",
       "    <tr>\n",
       "      <th>4</th>\n",
       "      <td>6</td>\n",
       "      <td>7</td>\n",
       "      <td>3</td>\n",
       "      <td>2</td>\n",
       "      <td>22</td>\n",
       "      <td>1</td>\n",
       "      <td>1</td>\n",
       "      <td>1</td>\n",
       "      <td>1</td>\n",
       "      <td>18</td>\n",
       "      <td>1</td>\n",
       "      <td>1</td>\n",
       "      <td>17</td>\n",
       "      <td>11</td>\n",
       "      <td>2</td>\n",
       "      <td>1</td>\n",
       "      <td>11</td>\n",
       "    </tr>\n",
       "    <tr>\n",
       "      <th>...</th>\n",
       "      <td>...</td>\n",
       "      <td>...</td>\n",
       "      <td>...</td>\n",
       "      <td>...</td>\n",
       "      <td>...</td>\n",
       "      <td>...</td>\n",
       "      <td>...</td>\n",
       "      <td>...</td>\n",
       "      <td>...</td>\n",
       "      <td>...</td>\n",
       "      <td>...</td>\n",
       "      <td>...</td>\n",
       "      <td>...</td>\n",
       "      <td>...</td>\n",
       "      <td>...</td>\n",
       "      <td>...</td>\n",
       "      <td>...</td>\n",
       "    </tr>\n",
       "    <tr>\n",
       "      <th>169041</th>\n",
       "      <td>2</td>\n",
       "      <td>6</td>\n",
       "      <td>0</td>\n",
       "      <td>2</td>\n",
       "      <td>21</td>\n",
       "      <td>2</td>\n",
       "      <td>2</td>\n",
       "      <td>1</td>\n",
       "      <td>1</td>\n",
       "      <td>18</td>\n",
       "      <td>1</td>\n",
       "      <td>0</td>\n",
       "      <td>18</td>\n",
       "      <td>11</td>\n",
       "      <td>2</td>\n",
       "      <td>1</td>\n",
       "      <td>7</td>\n",
       "    </tr>\n",
       "    <tr>\n",
       "      <th>169042</th>\n",
       "      <td>1</td>\n",
       "      <td>1</td>\n",
       "      <td>16</td>\n",
       "      <td>12</td>\n",
       "      <td>21</td>\n",
       "      <td>1</td>\n",
       "      <td>6</td>\n",
       "      <td>3</td>\n",
       "      <td>1</td>\n",
       "      <td>18</td>\n",
       "      <td>1</td>\n",
       "      <td>1</td>\n",
       "      <td>61</td>\n",
       "      <td>11</td>\n",
       "      <td>2</td>\n",
       "      <td>1</td>\n",
       "      <td>0</td>\n",
       "    </tr>\n",
       "    <tr>\n",
       "      <th>169043</th>\n",
       "      <td>8</td>\n",
       "      <td>3</td>\n",
       "      <td>20</td>\n",
       "      <td>5</td>\n",
       "      <td>21</td>\n",
       "      <td>2</td>\n",
       "      <td>1</td>\n",
       "      <td>1</td>\n",
       "      <td>1</td>\n",
       "      <td>18</td>\n",
       "      <td>1</td>\n",
       "      <td>1</td>\n",
       "      <td>33</td>\n",
       "      <td>21</td>\n",
       "      <td>2</td>\n",
       "      <td>2</td>\n",
       "      <td>12</td>\n",
       "    </tr>\n",
       "    <tr>\n",
       "      <th>169044</th>\n",
       "      <td>8</td>\n",
       "      <td>5</td>\n",
       "      <td>22</td>\n",
       "      <td>2</td>\n",
       "      <td>31</td>\n",
       "      <td>1</td>\n",
       "      <td>6</td>\n",
       "      <td>2</td>\n",
       "      <td>3</td>\n",
       "      <td>18</td>\n",
       "      <td>6</td>\n",
       "      <td>0</td>\n",
       "      <td>37</td>\n",
       "      <td>13</td>\n",
       "      <td>2</td>\n",
       "      <td>2</td>\n",
       "      <td>5</td>\n",
       "    </tr>\n",
       "    <tr>\n",
       "      <th>169045</th>\n",
       "      <td>11</td>\n",
       "      <td>1</td>\n",
       "      <td>13</td>\n",
       "      <td>2</td>\n",
       "      <td>31</td>\n",
       "      <td>1</td>\n",
       "      <td>1</td>\n",
       "      <td>2</td>\n",
       "      <td>1</td>\n",
       "      <td>18</td>\n",
       "      <td>1</td>\n",
       "      <td>1</td>\n",
       "      <td>28</td>\n",
       "      <td>11</td>\n",
       "      <td>12</td>\n",
       "      <td>1</td>\n",
       "      <td>8</td>\n",
       "    </tr>\n",
       "  </tbody>\n",
       "</table>\n",
       "<p>169046 rows × 17 columns</p>\n",
       "</div>\n",
       "      <button class=\"colab-df-convert\" onclick=\"convertToInteractive('df-a9e4c370-2eca-4ecb-bd22-9c0a8ea050c9')\"\n",
       "              title=\"Convert this dataframe to an interactive table.\"\n",
       "              style=\"display:none;\">\n",
       "        \n",
       "  <svg xmlns=\"http://www.w3.org/2000/svg\" height=\"24px\"viewBox=\"0 0 24 24\"\n",
       "       width=\"24px\">\n",
       "    <path d=\"M0 0h24v24H0V0z\" fill=\"none\"/>\n",
       "    <path d=\"M18.56 5.44l.94 2.06.94-2.06 2.06-.94-2.06-.94-.94-2.06-.94 2.06-2.06.94zm-11 1L8.5 8.5l.94-2.06 2.06-.94-2.06-.94L8.5 2.5l-.94 2.06-2.06.94zm10 10l.94 2.06.94-2.06 2.06-.94-2.06-.94-.94-2.06-.94 2.06-2.06.94z\"/><path d=\"M17.41 7.96l-1.37-1.37c-.4-.4-.92-.59-1.43-.59-.52 0-1.04.2-1.43.59L10.3 9.45l-7.72 7.72c-.78.78-.78 2.05 0 2.83L4 21.41c.39.39.9.59 1.41.59.51 0 1.02-.2 1.41-.59l7.78-7.78 2.81-2.81c.8-.78.8-2.07 0-2.86zM5.41 20L4 18.59l7.72-7.72 1.47 1.35L5.41 20z\"/>\n",
       "  </svg>\n",
       "      </button>\n",
       "      \n",
       "  <style>\n",
       "    .colab-df-container {\n",
       "      display:flex;\n",
       "      flex-wrap:wrap;\n",
       "      gap: 12px;\n",
       "    }\n",
       "\n",
       "    .colab-df-convert {\n",
       "      background-color: #E8F0FE;\n",
       "      border: none;\n",
       "      border-radius: 50%;\n",
       "      cursor: pointer;\n",
       "      display: none;\n",
       "      fill: #1967D2;\n",
       "      height: 32px;\n",
       "      padding: 0 0 0 0;\n",
       "      width: 32px;\n",
       "    }\n",
       "\n",
       "    .colab-df-convert:hover {\n",
       "      background-color: #E2EBFA;\n",
       "      box-shadow: 0px 1px 2px rgba(60, 64, 67, 0.3), 0px 1px 3px 1px rgba(60, 64, 67, 0.15);\n",
       "      fill: #174EA6;\n",
       "    }\n",
       "\n",
       "    [theme=dark] .colab-df-convert {\n",
       "      background-color: #3B4455;\n",
       "      fill: #D2E3FC;\n",
       "    }\n",
       "\n",
       "    [theme=dark] .colab-df-convert:hover {\n",
       "      background-color: #434B5C;\n",
       "      box-shadow: 0px 1px 3px 1px rgba(0, 0, 0, 0.15);\n",
       "      filter: drop-shadow(0px 1px 2px rgba(0, 0, 0, 0.3));\n",
       "      fill: #FFFFFF;\n",
       "    }\n",
       "  </style>\n",
       "\n",
       "      <script>\n",
       "        const buttonEl =\n",
       "          document.querySelector('#df-a9e4c370-2eca-4ecb-bd22-9c0a8ea050c9 button.colab-df-convert');\n",
       "        buttonEl.style.display =\n",
       "          google.colab.kernel.accessAllowed ? 'block' : 'none';\n",
       "\n",
       "        async function convertToInteractive(key) {\n",
       "          const element = document.querySelector('#df-a9e4c370-2eca-4ecb-bd22-9c0a8ea050c9');\n",
       "          const dataTable =\n",
       "            await google.colab.kernel.invokeFunction('convertToInteractive',\n",
       "                                                     [key], {});\n",
       "          if (!dataTable) return;\n",
       "\n",
       "          const docLinkHtml = 'Like what you see? Visit the ' +\n",
       "            '<a target=\"_blank\" href=https://colab.research.google.com/notebooks/data_table.ipynb>data table notebook</a>'\n",
       "            + ' to learn more about interactive tables.';\n",
       "          element.innerHTML = '';\n",
       "          dataTable['output_type'] = 'display_data';\n",
       "          await google.colab.output.renderOutput(dataTable, element);\n",
       "          const docLink = document.createElement('div');\n",
       "          docLink.innerHTML = docLinkHtml;\n",
       "          element.appendChild(docLink);\n",
       "        }\n",
       "      </script>\n",
       "    </div>\n",
       "  </div>\n",
       "  "
      ],
      "text/plain": [
       "        C_MNTH  C_WDAY  C_HOUR  C_VEHS  C_CONF  C_RCFG  C_WTHR  C_RSUR  \\\n",
       "0            1       4      23       1       6       2       6       2   \n",
       "1           12       2      14       2      21       2       1       1   \n",
       "2            6       6       0       2      32       2       3       2   \n",
       "3            8       2      19       2      35       2       1       1   \n",
       "4            6       7       3       2      22       1       1       1   \n",
       "...        ...     ...     ...     ...     ...     ...     ...     ...   \n",
       "169041       2       6       0       2      21       2       2       1   \n",
       "169042       1       1      16      12      21       1       6       3   \n",
       "169043       8       3      20       5      21       2       1       1   \n",
       "169044       8       5      22       2      31       1       6       2   \n",
       "169045      11       1      13       2      31       1       1       2   \n",
       "\n",
       "        C_RALN  C_TRAF  V_TYPE  P_SEX  P_AGE  P_PSN  P_SAFE  P_USER  V_AGE  \n",
       "0            1      80       1      1     53     11       1       1     12  \n",
       "1            1       1       8      1     49     11       2       1      7  \n",
       "2            2       1       1      1     20     11       2       1      4  \n",
       "3            1       3      14      1     62     11       9       5     12  \n",
       "4            1      18       1      1     17     11       2       1     11  \n",
       "...        ...     ...     ...    ...    ...    ...     ...     ...    ...  \n",
       "169041       1      18       1      0     18     11       2       1      7  \n",
       "169042       1      18       1      1     61     11       2       1      0  \n",
       "169043       1      18       1      1     33     21       2       2     12  \n",
       "169044       3      18       6      0     37     13       2       2      5  \n",
       "169045       1      18       1      1     28     11      12       1      8  \n",
       "\n",
       "[169046 rows x 17 columns]"
      ]
     },
     "execution_count": 10,
     "metadata": {},
     "output_type": "execute_result"
    }
   ],
   "source": [
    "df_train"
   ]
  },
  {
   "cell_type": "code",
   "execution_count": null,
   "metadata": {
    "id": "dIR2TYu7h8yI"
   },
   "outputs": [],
   "source": [
    "df_test=df_test.drop(columns=df_test.columns[0])\n",
    "y_test=df_test['C_SEV'].copy()\n",
    "df_test.drop('C_SEV',axis=1, inplace=True)\n"
   ]
  },
  {
   "cell_type": "code",
   "execution_count": null,
   "metadata": {
    "colab": {
     "base_uri": "https://localhost:8080/",
     "height": 424
    },
    "id": "r3YJnr8TiEtX",
    "outputId": "434b599a-e3f0-40f2-e9af-8a9dcc3c413f"
   },
   "outputs": [
    {
     "data": {
      "text/html": [
       "\n",
       "  <div id=\"df-34005010-bc4d-425e-bb28-f3f303df661d\">\n",
       "    <div class=\"colab-df-container\">\n",
       "      <div>\n",
       "<style scoped>\n",
       "    .dataframe tbody tr th:only-of-type {\n",
       "        vertical-align: middle;\n",
       "    }\n",
       "\n",
       "    .dataframe tbody tr th {\n",
       "        vertical-align: top;\n",
       "    }\n",
       "\n",
       "    .dataframe thead th {\n",
       "        text-align: right;\n",
       "    }\n",
       "</style>\n",
       "<table border=\"1\" class=\"dataframe\">\n",
       "  <thead>\n",
       "    <tr style=\"text-align: right;\">\n",
       "      <th></th>\n",
       "      <th>C_MNTH</th>\n",
       "      <th>C_WDAY</th>\n",
       "      <th>C_HOUR</th>\n",
       "      <th>C_VEHS</th>\n",
       "      <th>C_CONF</th>\n",
       "      <th>C_RCFG</th>\n",
       "      <th>C_WTHR</th>\n",
       "      <th>C_RSUR</th>\n",
       "      <th>C_RALN</th>\n",
       "      <th>C_TRAF</th>\n",
       "      <th>V_TYPE</th>\n",
       "      <th>P_SEX</th>\n",
       "      <th>P_AGE</th>\n",
       "      <th>P_PSN</th>\n",
       "      <th>P_SAFE</th>\n",
       "      <th>P_USER</th>\n",
       "      <th>V_AGE</th>\n",
       "    </tr>\n",
       "  </thead>\n",
       "  <tbody>\n",
       "    <tr>\n",
       "      <th>0</th>\n",
       "      <td>12</td>\n",
       "      <td>6</td>\n",
       "      <td>11</td>\n",
       "      <td>2</td>\n",
       "      <td>36</td>\n",
       "      <td>2</td>\n",
       "      <td>1</td>\n",
       "      <td>1</td>\n",
       "      <td>1</td>\n",
       "      <td>3</td>\n",
       "      <td>1</td>\n",
       "      <td>1</td>\n",
       "      <td>49</td>\n",
       "      <td>11</td>\n",
       "      <td>2</td>\n",
       "      <td>1</td>\n",
       "      <td>13</td>\n",
       "    </tr>\n",
       "    <tr>\n",
       "      <th>1</th>\n",
       "      <td>8</td>\n",
       "      <td>3</td>\n",
       "      <td>14</td>\n",
       "      <td>2</td>\n",
       "      <td>35</td>\n",
       "      <td>2</td>\n",
       "      <td>1</td>\n",
       "      <td>1</td>\n",
       "      <td>1</td>\n",
       "      <td>1</td>\n",
       "      <td>1</td>\n",
       "      <td>1</td>\n",
       "      <td>33</td>\n",
       "      <td>11</td>\n",
       "      <td>2</td>\n",
       "      <td>1</td>\n",
       "      <td>11</td>\n",
       "    </tr>\n",
       "    <tr>\n",
       "      <th>2</th>\n",
       "      <td>10</td>\n",
       "      <td>1</td>\n",
       "      <td>15</td>\n",
       "      <td>2</td>\n",
       "      <td>35</td>\n",
       "      <td>2</td>\n",
       "      <td>1</td>\n",
       "      <td>1</td>\n",
       "      <td>1</td>\n",
       "      <td>3</td>\n",
       "      <td>1</td>\n",
       "      <td>1</td>\n",
       "      <td>35</td>\n",
       "      <td>11</td>\n",
       "      <td>2</td>\n",
       "      <td>1</td>\n",
       "      <td>8</td>\n",
       "    </tr>\n",
       "    <tr>\n",
       "      <th>3</th>\n",
       "      <td>4</td>\n",
       "      <td>5</td>\n",
       "      <td>9</td>\n",
       "      <td>2</td>\n",
       "      <td>21</td>\n",
       "      <td>4</td>\n",
       "      <td>2</td>\n",
       "      <td>1</td>\n",
       "      <td>1</td>\n",
       "      <td>18</td>\n",
       "      <td>7</td>\n",
       "      <td>1</td>\n",
       "      <td>31</td>\n",
       "      <td>11</td>\n",
       "      <td>1</td>\n",
       "      <td>1</td>\n",
       "      <td>1</td>\n",
       "    </tr>\n",
       "    <tr>\n",
       "      <th>4</th>\n",
       "      <td>7</td>\n",
       "      <td>2</td>\n",
       "      <td>16</td>\n",
       "      <td>1</td>\n",
       "      <td>31</td>\n",
       "      <td>1</td>\n",
       "      <td>2</td>\n",
       "      <td>1</td>\n",
       "      <td>1</td>\n",
       "      <td>18</td>\n",
       "      <td>5</td>\n",
       "      <td>1</td>\n",
       "      <td>4</td>\n",
       "      <td>32</td>\n",
       "      <td>2</td>\n",
       "      <td>2</td>\n",
       "      <td>15</td>\n",
       "    </tr>\n",
       "    <tr>\n",
       "      <th>...</th>\n",
       "      <td>...</td>\n",
       "      <td>...</td>\n",
       "      <td>...</td>\n",
       "      <td>...</td>\n",
       "      <td>...</td>\n",
       "      <td>...</td>\n",
       "      <td>...</td>\n",
       "      <td>...</td>\n",
       "      <td>...</td>\n",
       "      <td>...</td>\n",
       "      <td>...</td>\n",
       "      <td>...</td>\n",
       "      <td>...</td>\n",
       "      <td>...</td>\n",
       "      <td>...</td>\n",
       "      <td>...</td>\n",
       "      <td>...</td>\n",
       "    </tr>\n",
       "    <tr>\n",
       "      <th>50632</th>\n",
       "      <td>12</td>\n",
       "      <td>7</td>\n",
       "      <td>5</td>\n",
       "      <td>1</td>\n",
       "      <td>4</td>\n",
       "      <td>1</td>\n",
       "      <td>2</td>\n",
       "      <td>1</td>\n",
       "      <td>4</td>\n",
       "      <td>18</td>\n",
       "      <td>1</td>\n",
       "      <td>1</td>\n",
       "      <td>18</td>\n",
       "      <td>23</td>\n",
       "      <td>2</td>\n",
       "      <td>2</td>\n",
       "      <td>9</td>\n",
       "    </tr>\n",
       "    <tr>\n",
       "      <th>50633</th>\n",
       "      <td>11</td>\n",
       "      <td>6</td>\n",
       "      <td>18</td>\n",
       "      <td>2</td>\n",
       "      <td>33</td>\n",
       "      <td>1</td>\n",
       "      <td>6</td>\n",
       "      <td>2</td>\n",
       "      <td>1</td>\n",
       "      <td>18</td>\n",
       "      <td>1</td>\n",
       "      <td>1</td>\n",
       "      <td>5</td>\n",
       "      <td>13</td>\n",
       "      <td>2</td>\n",
       "      <td>2</td>\n",
       "      <td>6</td>\n",
       "    </tr>\n",
       "    <tr>\n",
       "      <th>50634</th>\n",
       "      <td>7</td>\n",
       "      <td>7</td>\n",
       "      <td>17</td>\n",
       "      <td>2</td>\n",
       "      <td>21</td>\n",
       "      <td>2</td>\n",
       "      <td>1</td>\n",
       "      <td>1</td>\n",
       "      <td>1</td>\n",
       "      <td>18</td>\n",
       "      <td>80</td>\n",
       "      <td>1</td>\n",
       "      <td>19</td>\n",
       "      <td>11</td>\n",
       "      <td>13</td>\n",
       "      <td>1</td>\n",
       "      <td>3</td>\n",
       "    </tr>\n",
       "    <tr>\n",
       "      <th>50635</th>\n",
       "      <td>9</td>\n",
       "      <td>5</td>\n",
       "      <td>18</td>\n",
       "      <td>2</td>\n",
       "      <td>35</td>\n",
       "      <td>2</td>\n",
       "      <td>1</td>\n",
       "      <td>1</td>\n",
       "      <td>1</td>\n",
       "      <td>3</td>\n",
       "      <td>1</td>\n",
       "      <td>1</td>\n",
       "      <td>22</td>\n",
       "      <td>13</td>\n",
       "      <td>2</td>\n",
       "      <td>2</td>\n",
       "      <td>4</td>\n",
       "    </tr>\n",
       "    <tr>\n",
       "      <th>50636</th>\n",
       "      <td>5</td>\n",
       "      <td>2</td>\n",
       "      <td>12</td>\n",
       "      <td>2</td>\n",
       "      <td>33</td>\n",
       "      <td>1</td>\n",
       "      <td>3</td>\n",
       "      <td>2</td>\n",
       "      <td>1</td>\n",
       "      <td>18</td>\n",
       "      <td>1</td>\n",
       "      <td>0</td>\n",
       "      <td>25</td>\n",
       "      <td>11</td>\n",
       "      <td>2</td>\n",
       "      <td>1</td>\n",
       "      <td>5</td>\n",
       "    </tr>\n",
       "  </tbody>\n",
       "</table>\n",
       "<p>50637 rows × 17 columns</p>\n",
       "</div>\n",
       "      <button class=\"colab-df-convert\" onclick=\"convertToInteractive('df-34005010-bc4d-425e-bb28-f3f303df661d')\"\n",
       "              title=\"Convert this dataframe to an interactive table.\"\n",
       "              style=\"display:none;\">\n",
       "        \n",
       "  <svg xmlns=\"http://www.w3.org/2000/svg\" height=\"24px\"viewBox=\"0 0 24 24\"\n",
       "       width=\"24px\">\n",
       "    <path d=\"M0 0h24v24H0V0z\" fill=\"none\"/>\n",
       "    <path d=\"M18.56 5.44l.94 2.06.94-2.06 2.06-.94-2.06-.94-.94-2.06-.94 2.06-2.06.94zm-11 1L8.5 8.5l.94-2.06 2.06-.94-2.06-.94L8.5 2.5l-.94 2.06-2.06.94zm10 10l.94 2.06.94-2.06 2.06-.94-2.06-.94-.94-2.06-.94 2.06-2.06.94z\"/><path d=\"M17.41 7.96l-1.37-1.37c-.4-.4-.92-.59-1.43-.59-.52 0-1.04.2-1.43.59L10.3 9.45l-7.72 7.72c-.78.78-.78 2.05 0 2.83L4 21.41c.39.39.9.59 1.41.59.51 0 1.02-.2 1.41-.59l7.78-7.78 2.81-2.81c.8-.78.8-2.07 0-2.86zM5.41 20L4 18.59l7.72-7.72 1.47 1.35L5.41 20z\"/>\n",
       "  </svg>\n",
       "      </button>\n",
       "      \n",
       "  <style>\n",
       "    .colab-df-container {\n",
       "      display:flex;\n",
       "      flex-wrap:wrap;\n",
       "      gap: 12px;\n",
       "    }\n",
       "\n",
       "    .colab-df-convert {\n",
       "      background-color: #E8F0FE;\n",
       "      border: none;\n",
       "      border-radius: 50%;\n",
       "      cursor: pointer;\n",
       "      display: none;\n",
       "      fill: #1967D2;\n",
       "      height: 32px;\n",
       "      padding: 0 0 0 0;\n",
       "      width: 32px;\n",
       "    }\n",
       "\n",
       "    .colab-df-convert:hover {\n",
       "      background-color: #E2EBFA;\n",
       "      box-shadow: 0px 1px 2px rgba(60, 64, 67, 0.3), 0px 1px 3px 1px rgba(60, 64, 67, 0.15);\n",
       "      fill: #174EA6;\n",
       "    }\n",
       "\n",
       "    [theme=dark] .colab-df-convert {\n",
       "      background-color: #3B4455;\n",
       "      fill: #D2E3FC;\n",
       "    }\n",
       "\n",
       "    [theme=dark] .colab-df-convert:hover {\n",
       "      background-color: #434B5C;\n",
       "      box-shadow: 0px 1px 3px 1px rgba(0, 0, 0, 0.15);\n",
       "      filter: drop-shadow(0px 1px 2px rgba(0, 0, 0, 0.3));\n",
       "      fill: #FFFFFF;\n",
       "    }\n",
       "  </style>\n",
       "\n",
       "      <script>\n",
       "        const buttonEl =\n",
       "          document.querySelector('#df-34005010-bc4d-425e-bb28-f3f303df661d button.colab-df-convert');\n",
       "        buttonEl.style.display =\n",
       "          google.colab.kernel.accessAllowed ? 'block' : 'none';\n",
       "\n",
       "        async function convertToInteractive(key) {\n",
       "          const element = document.querySelector('#df-34005010-bc4d-425e-bb28-f3f303df661d');\n",
       "          const dataTable =\n",
       "            await google.colab.kernel.invokeFunction('convertToInteractive',\n",
       "                                                     [key], {});\n",
       "          if (!dataTable) return;\n",
       "\n",
       "          const docLinkHtml = 'Like what you see? Visit the ' +\n",
       "            '<a target=\"_blank\" href=https://colab.research.google.com/notebooks/data_table.ipynb>data table notebook</a>'\n",
       "            + ' to learn more about interactive tables.';\n",
       "          element.innerHTML = '';\n",
       "          dataTable['output_type'] = 'display_data';\n",
       "          await google.colab.output.renderOutput(dataTable, element);\n",
       "          const docLink = document.createElement('div');\n",
       "          docLink.innerHTML = docLinkHtml;\n",
       "          element.appendChild(docLink);\n",
       "        }\n",
       "      </script>\n",
       "    </div>\n",
       "  </div>\n",
       "  "
      ],
      "text/plain": [
       "       C_MNTH  C_WDAY  C_HOUR  C_VEHS  C_CONF  C_RCFG  C_WTHR  C_RSUR  C_RALN  \\\n",
       "0          12       6      11       2      36       2       1       1       1   \n",
       "1           8       3      14       2      35       2       1       1       1   \n",
       "2          10       1      15       2      35       2       1       1       1   \n",
       "3           4       5       9       2      21       4       2       1       1   \n",
       "4           7       2      16       1      31       1       2       1       1   \n",
       "...       ...     ...     ...     ...     ...     ...     ...     ...     ...   \n",
       "50632      12       7       5       1       4       1       2       1       4   \n",
       "50633      11       6      18       2      33       1       6       2       1   \n",
       "50634       7       7      17       2      21       2       1       1       1   \n",
       "50635       9       5      18       2      35       2       1       1       1   \n",
       "50636       5       2      12       2      33       1       3       2       1   \n",
       "\n",
       "       C_TRAF  V_TYPE  P_SEX  P_AGE  P_PSN  P_SAFE  P_USER  V_AGE  \n",
       "0           3       1      1     49     11       2       1     13  \n",
       "1           1       1      1     33     11       2       1     11  \n",
       "2           3       1      1     35     11       2       1      8  \n",
       "3          18       7      1     31     11       1       1      1  \n",
       "4          18       5      1      4     32       2       2     15  \n",
       "...       ...     ...    ...    ...    ...     ...     ...    ...  \n",
       "50632      18       1      1     18     23       2       2      9  \n",
       "50633      18       1      1      5     13       2       2      6  \n",
       "50634      18      80      1     19     11      13       1      3  \n",
       "50635       3       1      1     22     13       2       2      4  \n",
       "50636      18       1      0     25     11       2       1      5  \n",
       "\n",
       "[50637 rows x 17 columns]"
      ]
     },
     "execution_count": 12,
     "metadata": {},
     "output_type": "execute_result"
    }
   ],
   "source": [
    "df_test"
   ]
  },
  {
   "cell_type": "code",
   "execution_count": null,
   "metadata": {
    "colab": {
     "base_uri": "https://localhost:8080/"
    },
    "id": "eWBLAG6Zip9y",
    "outputId": "4dab49f3-d8f7-484f-fa86-85e1e3bdb25b"
   },
   "outputs": [
    {
     "data": {
      "text/plain": [
       "(169046, 17)"
      ]
     },
     "execution_count": 14,
     "metadata": {},
     "output_type": "execute_result"
    }
   ],
   "source": [
    "df_train.shape"
   ]
  },
  {
   "cell_type": "code",
   "execution_count": null,
   "metadata": {
    "colab": {
     "base_uri": "https://localhost:8080/"
    },
    "id": "iec8WW2Uixis",
    "outputId": "a30dfa7a-e5bb-4d1e-f012-a12c3819f55e"
   },
   "outputs": [
    {
     "data": {
      "text/plain": [
       "(50637, 17)"
      ]
     },
     "execution_count": 15,
     "metadata": {},
     "output_type": "execute_result"
    }
   ],
   "source": [
    "df_test.shape"
   ]
  },
  {
   "cell_type": "code",
   "execution_count": null,
   "metadata": {
    "colab": {
     "base_uri": "https://localhost:8080/"
    },
    "id": "lFQgjsdckpP0",
    "outputId": "fc139b9b-cbc0-4d1e-bb3f-bddb3293d899"
   },
   "outputs": [
    {
     "data": {
      "text/plain": [
       "0         0\n",
       "1         0\n",
       "2         0\n",
       "3         0\n",
       "4         0\n",
       "         ..\n",
       "169041    1\n",
       "169042    1\n",
       "169043    1\n",
       "169044    1\n",
       "169045    1\n",
       "Name: C_SEV, Length: 169046, dtype: int64"
      ]
     },
     "execution_count": 16,
     "metadata": {},
     "output_type": "execute_result"
    }
   ],
   "source": [
    "y_train"
   ]
  },
  {
   "cell_type": "code",
   "execution_count": null,
   "metadata": {
    "colab": {
     "base_uri": "https://localhost:8080/"
    },
    "id": "YuWzM6FSkrY0",
    "outputId": "595dd691-6d78-4e5a-89f7-df122334ece8"
   },
   "outputs": [
    {
     "data": {
      "text/plain": [
       "0        0\n",
       "1        0\n",
       "2        0\n",
       "3        0\n",
       "4        0\n",
       "        ..\n",
       "50632    0\n",
       "50633    0\n",
       "50634    0\n",
       "50635    0\n",
       "50636    0\n",
       "Name: C_SEV, Length: 50637, dtype: int64"
      ]
     },
     "execution_count": 17,
     "metadata": {},
     "output_type": "execute_result"
    }
   ],
   "source": [
    "y_test"
   ]
  },
  {
   "cell_type": "code",
   "execution_count": null,
   "metadata": {
    "id": "gv_X6jDoZKDL"
   },
   "outputs": [],
   "source": [
    "from sklearn.tree import DecisionTreeClassifier\n",
    "from sklearn.model_selection import GridSearchCV\n",
    "from sklearn import tree\n",
    "#Calculamos el mejor árbol como el árbol cuyos hiperparámetros maximizan el accuracy"
   ]
  },
  {
   "cell_type": "code",
   "execution_count": null,
   "metadata": {
    "id": "FTICRIRCnfmm"
   },
   "outputs": [],
   "source": [
    "from sklearn.metrics import mean_squared_error, r2_score\n",
    "from sklearn.metrics import confusion_matrix\n",
    "from sklearn import metrics\n",
    "from sklearn.metrics import roc_curve\n",
    "from sklearn.metrics import roc_auc_score\n",
    "from sklearn.metrics import f1_score\n",
    "from sklearn.metrics import auc\n",
    "import matplotlib.pyplot as plt"
   ]
  },
  {
   "cell_type": "markdown",
   "metadata": {
    "id": "nQqlgh9_sKEj"
   },
   "source": []
  },
  {
   "cell_type": "markdown",
   "metadata": {
    "id": "qOJfZvp4yxRe"
   },
   "source": [
    "## 2. Escalar datos"
   ]
  },
  {
   "cell_type": "markdown",
   "metadata": {},
   "source": [
    "Como sabemos, la escala de datos no es necesaria para todos los modelos pero si que lo será para la regresión logística, KNN y SVM. Por lo que lo realizamos a continuación. "
   ]
  },
  {
   "cell_type": "code",
   "execution_count": null,
   "metadata": {
    "id": "3gOmsR_Zy0Lf"
   },
   "outputs": [],
   "source": [
    "\n",
    "df_train_normal=(df_train-df_train.mean())/df_train.std()\n",
    "df_test_normal=(df_test-df_test.mean())/df_test.std()"
   ]
  },
  {
   "cell_type": "code",
   "execution_count": null,
   "metadata": {
    "colab": {
     "base_uri": "https://localhost:8080/",
     "height": 451
    },
    "id": "8zCYCqUZzLlE",
    "outputId": "984edc5b-0bdd-4ab7-fc5d-3f0a98fca75b"
   },
   "outputs": [
    {
     "data": {
      "text/html": [
       "\n",
       "  <div id=\"df-e3004f1f-9db0-4e9d-87fb-fe90c33e9413\">\n",
       "    <div class=\"colab-df-container\">\n",
       "      <div>\n",
       "<style scoped>\n",
       "    .dataframe tbody tr th:only-of-type {\n",
       "        vertical-align: middle;\n",
       "    }\n",
       "\n",
       "    .dataframe tbody tr th {\n",
       "        vertical-align: top;\n",
       "    }\n",
       "\n",
       "    .dataframe thead th {\n",
       "        text-align: right;\n",
       "    }\n",
       "</style>\n",
       "<table border=\"1\" class=\"dataframe\">\n",
       "  <thead>\n",
       "    <tr style=\"text-align: right;\">\n",
       "      <th></th>\n",
       "      <th>C_MNTH</th>\n",
       "      <th>C_WDAY</th>\n",
       "      <th>C_HOUR</th>\n",
       "      <th>C_VEHS</th>\n",
       "      <th>C_CONF</th>\n",
       "      <th>C_RCFG</th>\n",
       "      <th>C_WTHR</th>\n",
       "      <th>C_RSUR</th>\n",
       "      <th>C_RALN</th>\n",
       "      <th>C_TRAF</th>\n",
       "      <th>V_TYPE</th>\n",
       "      <th>P_SEX</th>\n",
       "      <th>P_AGE</th>\n",
       "      <th>P_PSN</th>\n",
       "      <th>P_SAFE</th>\n",
       "      <th>P_USER</th>\n",
       "      <th>V_AGE</th>\n",
       "    </tr>\n",
       "  </thead>\n",
       "  <tbody>\n",
       "    <tr>\n",
       "      <th>count</th>\n",
       "      <td>1.690460e+05</td>\n",
       "      <td>1.690460e+05</td>\n",
       "      <td>1.690460e+05</td>\n",
       "      <td>1.690460e+05</td>\n",
       "      <td>1.690460e+05</td>\n",
       "      <td>1.690460e+05</td>\n",
       "      <td>1.690460e+05</td>\n",
       "      <td>1.690460e+05</td>\n",
       "      <td>1.690460e+05</td>\n",
       "      <td>1.690460e+05</td>\n",
       "      <td>1.690460e+05</td>\n",
       "      <td>1.690460e+05</td>\n",
       "      <td>1.690460e+05</td>\n",
       "      <td>1.690460e+05</td>\n",
       "      <td>1.690460e+05</td>\n",
       "      <td>1.690460e+05</td>\n",
       "      <td>1.690460e+05</td>\n",
       "    </tr>\n",
       "    <tr>\n",
       "      <th>mean</th>\n",
       "      <td>-1.151922e-14</td>\n",
       "      <td>2.890948e-14</td>\n",
       "      <td>-5.358898e-14</td>\n",
       "      <td>4.474768e-14</td>\n",
       "      <td>3.971553e-14</td>\n",
       "      <td>-3.234462e-15</td>\n",
       "      <td>-1.189305e-15</td>\n",
       "      <td>7.182934e-15</td>\n",
       "      <td>4.725964e-14</td>\n",
       "      <td>3.662801e-14</td>\n",
       "      <td>6.403756e-14</td>\n",
       "      <td>-5.068886e-14</td>\n",
       "      <td>5.352229e-16</td>\n",
       "      <td>1.667196e-14</td>\n",
       "      <td>-7.233437e-15</td>\n",
       "      <td>-7.816323e-14</td>\n",
       "      <td>2.202084e-14</td>\n",
       "    </tr>\n",
       "    <tr>\n",
       "      <th>std</th>\n",
       "      <td>1.000000e+00</td>\n",
       "      <td>1.000000e+00</td>\n",
       "      <td>1.000000e+00</td>\n",
       "      <td>1.000000e+00</td>\n",
       "      <td>1.000000e+00</td>\n",
       "      <td>1.000000e+00</td>\n",
       "      <td>1.000000e+00</td>\n",
       "      <td>1.000000e+00</td>\n",
       "      <td>1.000000e+00</td>\n",
       "      <td>1.000000e+00</td>\n",
       "      <td>1.000000e+00</td>\n",
       "      <td>1.000000e+00</td>\n",
       "      <td>1.000000e+00</td>\n",
       "      <td>1.000000e+00</td>\n",
       "      <td>1.000000e+00</td>\n",
       "      <td>1.000000e+00</td>\n",
       "      <td>1.000000e+00</td>\n",
       "    </tr>\n",
       "    <tr>\n",
       "      <th>min</th>\n",
       "      <td>-1.695927e+00</td>\n",
       "      <td>-1.611677e+00</td>\n",
       "      <td>-2.303469e+00</td>\n",
       "      <td>-3.647893e-01</td>\n",
       "      <td>-1.402994e+00</td>\n",
       "      <td>-2.089766e-01</td>\n",
       "      <td>-2.096662e-01</td>\n",
       "      <td>-2.334508e-01</td>\n",
       "      <td>-1.900474e-01</td>\n",
       "      <td>-1.168778e+00</td>\n",
       "      <td>-2.831353e-01</td>\n",
       "      <td>-1.284405e+00</td>\n",
       "      <td>-1.852609e+00</td>\n",
       "      <td>-2.967280e-01</td>\n",
       "      <td>-2.658179e-01</td>\n",
       "      <td>-5.939118e-01</td>\n",
       "      <td>-1.343501e+00</td>\n",
       "    </tr>\n",
       "    <tr>\n",
       "      <th>25%</th>\n",
       "      <td>-8.141946e-01</td>\n",
       "      <td>-1.101982e+00</td>\n",
       "      <td>-7.490380e-01</td>\n",
       "      <td>-3.647893e-01</td>\n",
       "      <td>-1.108285e+00</td>\n",
       "      <td>-2.089766e-01</td>\n",
       "      <td>-2.096662e-01</td>\n",
       "      <td>-2.334508e-01</td>\n",
       "      <td>-1.900474e-01</td>\n",
       "      <td>-9.889118e-01</td>\n",
       "      <td>-2.831353e-01</td>\n",
       "      <td>-1.284405e+00</td>\n",
       "      <td>-8.509390e-01</td>\n",
       "      <td>-2.967280e-01</td>\n",
       "      <td>-1.498887e-01</td>\n",
       "      <td>-5.939118e-01</td>\n",
       "      <td>-8.162724e-01</td>\n",
       "    </tr>\n",
       "    <tr>\n",
       "      <th>50%</th>\n",
       "      <td>6.753760e-02</td>\n",
       "      <td>-8.259044e-02</td>\n",
       "      <td>1.145348e-01</td>\n",
       "      <td>-4.946937e-02</td>\n",
       "      <td>-1.652148e-01</td>\n",
       "      <td>-1.267998e-01</td>\n",
       "      <td>-2.096662e-01</td>\n",
       "      <td>-2.334508e-01</td>\n",
       "      <td>-1.900474e-01</td>\n",
       "      <td>3.600874e-01</td>\n",
       "      <td>-2.831353e-01</td>\n",
       "      <td>7.785658e-01</td>\n",
       "      <td>-1.655855e-01</td>\n",
       "      <td>-2.967280e-01</td>\n",
       "      <td>-1.498887e-01</td>\n",
       "      <td>-5.939118e-01</td>\n",
       "      <td>-1.133005e-01</td>\n",
       "    </tr>\n",
       "    <tr>\n",
       "      <th>75%</th>\n",
       "      <td>9.492698e-01</td>\n",
       "      <td>9.368009e-01</td>\n",
       "      <td>8.053930e-01</td>\n",
       "      <td>-4.946937e-02</td>\n",
       "      <td>5.420876e-01</td>\n",
       "      <td>-1.267998e-01</td>\n",
       "      <td>2.586987e-02</td>\n",
       "      <td>-1.645225e-01</td>\n",
       "      <td>4.004409e-02</td>\n",
       "      <td>3.600874e-01</td>\n",
       "      <td>-2.831353e-01</td>\n",
       "      <td>7.785658e-01</td>\n",
       "      <td>6.779264e-01</td>\n",
       "      <td>-1.281926e-01</td>\n",
       "      <td>-1.498887e-01</td>\n",
       "      <td>6.801313e-01</td>\n",
       "      <td>5.896714e-01</td>\n",
       "    </tr>\n",
       "    <tr>\n",
       "      <th>max</th>\n",
       "      <td>1.537091e+00</td>\n",
       "      <td>1.446497e+00</td>\n",
       "      <td>1.668966e+00</td>\n",
       "      <td>2.359952e+01</td>\n",
       "      <td>3.253413e+00</td>\n",
       "      <td>6.282991e+00</td>\n",
       "      <td>1.839768e+01</td>\n",
       "      <td>5.211883e+00</td>\n",
       "      <td>1.798718e+01</td>\n",
       "      <td>5.935951e+00</td>\n",
       "      <td>1.179585e+01</td>\n",
       "      <td>7.785658e-01</td>\n",
       "      <td>3.313901e+00</td>\n",
       "      <td>7.034561e+00</td>\n",
       "      <td>8.892593e+00</td>\n",
       "      <td>4.502261e+00</td>\n",
       "      <td>1.605505e+01</td>\n",
       "    </tr>\n",
       "  </tbody>\n",
       "</table>\n",
       "</div>\n",
       "      <button class=\"colab-df-convert\" onclick=\"convertToInteractive('df-e3004f1f-9db0-4e9d-87fb-fe90c33e9413')\"\n",
       "              title=\"Convert this dataframe to an interactive table.\"\n",
       "              style=\"display:none;\">\n",
       "        \n",
       "  <svg xmlns=\"http://www.w3.org/2000/svg\" height=\"24px\"viewBox=\"0 0 24 24\"\n",
       "       width=\"24px\">\n",
       "    <path d=\"M0 0h24v24H0V0z\" fill=\"none\"/>\n",
       "    <path d=\"M18.56 5.44l.94 2.06.94-2.06 2.06-.94-2.06-.94-.94-2.06-.94 2.06-2.06.94zm-11 1L8.5 8.5l.94-2.06 2.06-.94-2.06-.94L8.5 2.5l-.94 2.06-2.06.94zm10 10l.94 2.06.94-2.06 2.06-.94-2.06-.94-.94-2.06-.94 2.06-2.06.94z\"/><path d=\"M17.41 7.96l-1.37-1.37c-.4-.4-.92-.59-1.43-.59-.52 0-1.04.2-1.43.59L10.3 9.45l-7.72 7.72c-.78.78-.78 2.05 0 2.83L4 21.41c.39.39.9.59 1.41.59.51 0 1.02-.2 1.41-.59l7.78-7.78 2.81-2.81c.8-.78.8-2.07 0-2.86zM5.41 20L4 18.59l7.72-7.72 1.47 1.35L5.41 20z\"/>\n",
       "  </svg>\n",
       "      </button>\n",
       "      \n",
       "  <style>\n",
       "    .colab-df-container {\n",
       "      display:flex;\n",
       "      flex-wrap:wrap;\n",
       "      gap: 12px;\n",
       "    }\n",
       "\n",
       "    .colab-df-convert {\n",
       "      background-color: #E8F0FE;\n",
       "      border: none;\n",
       "      border-radius: 50%;\n",
       "      cursor: pointer;\n",
       "      display: none;\n",
       "      fill: #1967D2;\n",
       "      height: 32px;\n",
       "      padding: 0 0 0 0;\n",
       "      width: 32px;\n",
       "    }\n",
       "\n",
       "    .colab-df-convert:hover {\n",
       "      background-color: #E2EBFA;\n",
       "      box-shadow: 0px 1px 2px rgba(60, 64, 67, 0.3), 0px 1px 3px 1px rgba(60, 64, 67, 0.15);\n",
       "      fill: #174EA6;\n",
       "    }\n",
       "\n",
       "    [theme=dark] .colab-df-convert {\n",
       "      background-color: #3B4455;\n",
       "      fill: #D2E3FC;\n",
       "    }\n",
       "\n",
       "    [theme=dark] .colab-df-convert:hover {\n",
       "      background-color: #434B5C;\n",
       "      box-shadow: 0px 1px 3px 1px rgba(0, 0, 0, 0.15);\n",
       "      filter: drop-shadow(0px 1px 2px rgba(0, 0, 0, 0.3));\n",
       "      fill: #FFFFFF;\n",
       "    }\n",
       "  </style>\n",
       "\n",
       "      <script>\n",
       "        const buttonEl =\n",
       "          document.querySelector('#df-e3004f1f-9db0-4e9d-87fb-fe90c33e9413 button.colab-df-convert');\n",
       "        buttonEl.style.display =\n",
       "          google.colab.kernel.accessAllowed ? 'block' : 'none';\n",
       "\n",
       "        async function convertToInteractive(key) {\n",
       "          const element = document.querySelector('#df-e3004f1f-9db0-4e9d-87fb-fe90c33e9413');\n",
       "          const dataTable =\n",
       "            await google.colab.kernel.invokeFunction('convertToInteractive',\n",
       "                                                     [key], {});\n",
       "          if (!dataTable) return;\n",
       "\n",
       "          const docLinkHtml = 'Like what you see? Visit the ' +\n",
       "            '<a target=\"_blank\" href=https://colab.research.google.com/notebooks/data_table.ipynb>data table notebook</a>'\n",
       "            + ' to learn more about interactive tables.';\n",
       "          element.innerHTML = '';\n",
       "          dataTable['output_type'] = 'display_data';\n",
       "          await google.colab.output.renderOutput(dataTable, element);\n",
       "          const docLink = document.createElement('div');\n",
       "          docLink.innerHTML = docLinkHtml;\n",
       "          element.appendChild(docLink);\n",
       "        }\n",
       "      </script>\n",
       "    </div>\n",
       "  </div>\n",
       "  "
      ],
      "text/plain": [
       "             C_MNTH        C_WDAY        C_HOUR        C_VEHS        C_CONF  \\\n",
       "count  1.690460e+05  1.690460e+05  1.690460e+05  1.690460e+05  1.690460e+05   \n",
       "mean  -1.151922e-14  2.890948e-14 -5.358898e-14  4.474768e-14  3.971553e-14   \n",
       "std    1.000000e+00  1.000000e+00  1.000000e+00  1.000000e+00  1.000000e+00   \n",
       "min   -1.695927e+00 -1.611677e+00 -2.303469e+00 -3.647893e-01 -1.402994e+00   \n",
       "25%   -8.141946e-01 -1.101982e+00 -7.490380e-01 -3.647893e-01 -1.108285e+00   \n",
       "50%    6.753760e-02 -8.259044e-02  1.145348e-01 -4.946937e-02 -1.652148e-01   \n",
       "75%    9.492698e-01  9.368009e-01  8.053930e-01 -4.946937e-02  5.420876e-01   \n",
       "max    1.537091e+00  1.446497e+00  1.668966e+00  2.359952e+01  3.253413e+00   \n",
       "\n",
       "             C_RCFG        C_WTHR        C_RSUR        C_RALN        C_TRAF  \\\n",
       "count  1.690460e+05  1.690460e+05  1.690460e+05  1.690460e+05  1.690460e+05   \n",
       "mean  -3.234462e-15 -1.189305e-15  7.182934e-15  4.725964e-14  3.662801e-14   \n",
       "std    1.000000e+00  1.000000e+00  1.000000e+00  1.000000e+00  1.000000e+00   \n",
       "min   -2.089766e-01 -2.096662e-01 -2.334508e-01 -1.900474e-01 -1.168778e+00   \n",
       "25%   -2.089766e-01 -2.096662e-01 -2.334508e-01 -1.900474e-01 -9.889118e-01   \n",
       "50%   -1.267998e-01 -2.096662e-01 -2.334508e-01 -1.900474e-01  3.600874e-01   \n",
       "75%   -1.267998e-01  2.586987e-02 -1.645225e-01  4.004409e-02  3.600874e-01   \n",
       "max    6.282991e+00  1.839768e+01  5.211883e+00  1.798718e+01  5.935951e+00   \n",
       "\n",
       "             V_TYPE         P_SEX         P_AGE         P_PSN        P_SAFE  \\\n",
       "count  1.690460e+05  1.690460e+05  1.690460e+05  1.690460e+05  1.690460e+05   \n",
       "mean   6.403756e-14 -5.068886e-14  5.352229e-16  1.667196e-14 -7.233437e-15   \n",
       "std    1.000000e+00  1.000000e+00  1.000000e+00  1.000000e+00  1.000000e+00   \n",
       "min   -2.831353e-01 -1.284405e+00 -1.852609e+00 -2.967280e-01 -2.658179e-01   \n",
       "25%   -2.831353e-01 -1.284405e+00 -8.509390e-01 -2.967280e-01 -1.498887e-01   \n",
       "50%   -2.831353e-01  7.785658e-01 -1.655855e-01 -2.967280e-01 -1.498887e-01   \n",
       "75%   -2.831353e-01  7.785658e-01  6.779264e-01 -1.281926e-01 -1.498887e-01   \n",
       "max    1.179585e+01  7.785658e-01  3.313901e+00  7.034561e+00  8.892593e+00   \n",
       "\n",
       "             P_USER         V_AGE  \n",
       "count  1.690460e+05  1.690460e+05  \n",
       "mean  -7.816323e-14  2.202084e-14  \n",
       "std    1.000000e+00  1.000000e+00  \n",
       "min   -5.939118e-01 -1.343501e+00  \n",
       "25%   -5.939118e-01 -8.162724e-01  \n",
       "50%   -5.939118e-01 -1.133005e-01  \n",
       "75%    6.801313e-01  5.896714e-01  \n",
       "max    4.502261e+00  1.605505e+01  "
      ]
     },
     "execution_count": 49,
     "metadata": {},
     "output_type": "execute_result"
    }
   ],
   "source": [
    "df_train_normal.describe()"
   ]
  },
  {
   "cell_type": "markdown",
   "metadata": {
    "id": "xuAe30oniG4p"
   },
   "source": [
    "# 3. Modelos:\n"
   ]
  },
  {
   "cell_type": "markdown",
   "metadata": {
    "id": "dffeiyx9oBFF"
   },
   "source": [
    "#### **Comentario importante respecto a la selección de scoring functions**:\n",
    "\n",
    "\n",
    "Pasamos ahora a realizar los modelos de clasifiación sobre nuestros datos.\n",
    "\n",
    "Lo más importante en este punto no es tanto qué modelos vamos a utilizar (veremos varios y compararemos resultados) como con respecto a qué scoring function vamos a evaluar los modelos.\n",
    "\n",
    "Por defecto, los modelos de clasificación suelen evaluarse conforme al accuracy general. En nuestro caso, **contamos con una base de datos muy desbalanceada** (menos del 10% de observaciones con accidente mortal) y sin embargo, esta es la clase que más nos interesa para el análisis.\n",
    "\n",
    "Desde el punto de vista de la administración pública, parece más razonable querer predecir con exactitud qué accidentes serán mortales frente a cuales no. Naturalmente, siempre será preferible mejorar ambas estimaciones, pero **es habitual que exista un trade-off entre mejorar la exactitud con la que reducimos los falsos negativos (recall) y la precisión.**\n",
    "\n",
    "En este sentido, parece tener más sentido de negocio y de objetivos de los stakeholders el querer estar sesgado hacia minimizar el error de tipo 2 en la clase de accidentes con fallecidos, es decir, **tenemos un sesgo positivo hacia predecir mejor la clase minoritaria.**\n",
    "\n",
    "Con este objetivo en mente, existen una serie de métricas mejores que el accuracy (que trata ambas clases por igual) a la hora de entrenar nuestros modelos. Hemos considerado razonable aplicar a ambos modelos un entrenamiento por las 2 siguientes métricas:\n",
    "\n",
    "1) **F2-Score**: \n",
    "\n",
    "F2-score es una métrica perteneciente a la familia de las funciones F-score, caracterizadas de la siguiente manera:\n",
    "\n",
    "$$ F_{\\beta} = (1+\\beta^2) \\cdot \\frac{precision \\cdot recall}{(\\beta^2 \\cdot precision) + recall}$$\n",
    "\n",
    "\n",
    "F2 (β=2) tiene un mayor sesgo hacia los falsos negativos que la clásica F1, que toma como igual de importantes los falsos negativos y los falsos positivos.\n",
    "\n",
    "**Con esta métrica, consideramos más importante predecir todos los accidentes con fallecidos (Minimizar falsos negativos en clase minoritaria)**, pese a que a veces predeciremos como accidentes mortales algunos que no lo serán, reduciendo precision y accuracy acosta de una recall en la clase minoritaria muy alta.\n",
    "\n",
    "El uso de esta métrica corresponderá con un stakeholder que quiera minimizar los accidentes mortales, pese a predecirlos de más. Esto último podría repercutir en determinados gastos adicionales (gastos en ambulancias, equipos preparados para intervenciones de urgencia) que en última instancia quedarían en desuso. Sin embargo, este tipo de decisiones pueden ocurrir y ocurren en algunas actividades y partidas que desempeña la administración pública.\n",
    "\n",
    "2) **Average precision**\n",
    "\n",
    "Average precision es la aproximación discreta al área debajo de la curva de precision-recall. Esta curva refleja el comportamiento de la precisión del modelo conforme aumentamos el recall, con lo que en el fondo **nos informa de cómo de bien nuestro modelo es capaz de aumentar recall sin disminuir precisión**. Esta curva es más relevante para el estudio que la curva ROC, ya que la curva P-R hace un mayor hincapié en la clase minoritaria en caso de datos desbalanceados. Así, usar average precision como scoring function consiste en maximizar el área debajo de la curva P-R. Su fórmula consiste en la aproximación discreta a la integral (área debajo de la curva):\n",
    "\n",
    "$$Avg. Precision=\\sum_{k=1}^{N}{Precision(k) \\cdot \\Delta Recall(k)} $$\n",
    "\n",
    "Por la naturaleza de la métrica, average precision también tiene un sesgo hacia la clase minoritaria, pero no a costa de una precisión baja. Es decir, **conforma una métrica más equilibrada, para un stakeholder que quiera priorizar ligeramente accidentes mortales, pero no a costa de una accuracy baja y una peor estimación para los accidentes sin fallecidos.** El trade-off será, naturalmente, que quedarán muchos accidentes mortales falsamente clasificados como no mortales (menos recall clase minoritaria o mas falsos negativos).\n",
    "\n",
    "\n",
    "Una vez planteadas las métricas, la estructura que seguiremos será:\n",
    "\n",
    "Aplicaremos los modelos de clasificación. En cada uno de ellos calcularemos:\n",
    "\n",
    "1) El mejor modelo utilizando GridSearch\n",
    "\n",
    "2) Matriz de confusión\n",
    "\n",
    "3) Curva P-R y área\n",
    "\n",
    "Haremos esto en cada modelo para las 2 score functions: F2-score y Avg. Precision\n"
   ]
  },
  {
   "cell_type": "code",
   "execution_count": null,
   "metadata": {
    "id": "APn2ugz1o53x"
   },
   "outputs": [],
   "source": [
    "#todas las librerías \n",
    "from sklearn.model_selection import GridSearchCV\n",
    "from sklearn.linear_model import LogisticRegression\n",
    "from sklearn.neighbors import KNeighborsClassifier\n",
    "from sklearn.tree import DecisionTreeClassifier\n",
    "from sklearn.ensemble import RandomForestClassifier\n",
    "\n",
    "from sklearn.metrics import accuracy_score, confusion_matrix, classification_report\n",
    "from sklearn.metrics import auc\n",
    "from sklearn.metrics import precision_recall_curve\n",
    "\n",
    "from sklearn.feature_selection import RFE, RFECV"
   ]
  },
  {
   "cell_type": "code",
   "execution_count": null,
   "metadata": {
    "id": "jI_CGUzUpYqw"
   },
   "outputs": [],
   "source": [
    "#F2 score no existe por defecto. Hemos de construir una función auxiliar:\n",
    "from sklearn.metrics import make_scorer,fbeta_score\n",
    "def f2_func(y_true, y_pred):\n",
    "    f2_score = fbeta_score(y_true, y_pred, beta=2)\n",
    "    return f2_score\n",
    "\n",
    "def my_f2_scorer():\n",
    "    return make_scorer(f2_func)"
   ]
  },
  {
   "cell_type": "markdown",
   "metadata": {
    "id": "m3wPFZqciR1D"
   },
   "source": [
    "# 3.1 Regresión Logística\n",
    "\n",
    "El modelo de regresión logística es un algoritmo de clasificación que nos permite, a través de una regresión modificada para dar un resultado entre 0 y 1, predecir si, en base a un determinado imput, se va a dar una determinada característica o no. A diferencia de la regresión lineal, en el que la variable a predecir puede tomar cualquier valor, en el caso de la logística sólo podrá tomar los valores 0 y 1. Por este motivo, se trata de un algoritmo de clasificación.\n",
    "\n",
    "En nuestro caso, vamos a utilizar una serie de datos para intentar predecir si en un determinado accidente va a haber víctimas mortales (1) o si no (0). En base al valor al que más se acerque nuestra regresión interpretaremos que es más probable una cosa o la otra.\n",
    "\n",
    "Por tanto, el primer paso es entrenar el modelo con el conjunto de datos de entrenamiento de la forma, $X_1, \\cdots,X_{n}$, asociados respectivamente a un valor binario $Y_i \\in \\left\\lbrace0,1\\right\\rbrace$. De aquí obtenemos un conjunto de coeficientes $\\beta$.\n",
    "\n",
    "Así, tendremos que:\n",
    "$$\n",
    "P(Y_i = 1) = \\mathrm{logistic}(\\sum \\beta_i X_i),\n",
    "$$\n",
    "\n",
    "donde sabemos que:\n",
    "\n",
    "$$\n",
    "\\mathrm{logistic}(x) = \\frac{1}{1+e^{-x}}.\n",
    "$$\n",
    "\n",
    "Utilizar este modelo tienen numerosas ventajas, entre las cuales están:\n",
    "\n",
    "-Es fácil de entrenar y su interpretación es sencilla (El valor de la regresión es la $P(Y_i = 1)$)\n",
    "\n",
    "-Puede interpretar los coeficientes del modelo como indicadores de importancia de características\n",
    "\n",
    "-Buena precisión para muchos conjuntos de datos simples y funciona bien cuando el conjunto de datos es separable linealmente.\n",
    "\n",
    "-Puede extenderse fácilmente a múltiples clases (regresión multinomial) y una vista probabilística natural de las predicciones de clases.\n",
    "\n",
    "Por otra parte, tiene también algunas desventajas:\n",
    "\n",
    "-La principal limitación de la regresión logística es el supuesto de linealidad entre la variable dependiente y las variables independientes.\n",
    "\n",
    "-Solo se puede usar para predecir funciones discretas. Por tanto, la variable dependiente de Regresión logística está ligada al conjunto de números discretos. No podemos diferenciar entre heridos leves, graves y muertos, sino que sólo consideramos los estados fallecidos y no fallecidos\n",
    "\n",
    "-Es difícil obtener relaciones complejas mediante regresión logística. Los algoritmos más potentes y compactos, como las redes neuronales, pueden superar fácilmente a este algoritmo.\n",
    "\n",
    "-Está sesgada hacia la clase mayoritaria.\n"
   ]
  },
  {
   "cell_type": "markdown",
   "metadata": {
    "id": "OFfUpbgyowZM"
   },
   "source": [
    "## 3.1.1 Regresión logística con F2-score\n",
    "\n",
    "Fijaremos class_weight='balanced' para que balancee de acuerdo al peso de cada clase, si bien nuestros datos de entrenamiento ya están balanceados."
   ]
  },
  {
   "cell_type": "code",
   "execution_count": null,
   "metadata": {
    "colab": {
     "base_uri": "https://localhost:8080/"
    },
    "id": "HEnbg6sro0ra",
    "outputId": "dad092e3-432a-4d4c-ed4d-8aca8386d45c"
   },
   "outputs": [
    {
     "name": "stdout",
     "output_type": "stream",
     "text": [
      "Fitting 5 folds for each of 21 candidates, totalling 105 fits\n",
      "best mean cross-validation score: 0.621\n",
      "best parameters: {'C': 0.501187233627272}\n"
     ]
    }
   ],
   "source": [
    "vectorC = np.logspace(-3,3,21)\n",
    "param_grid = {'C': vectorC}\n",
    "\n",
    "logreg_f2 = GridSearchCV(LogisticRegression(random_state=0, class_weight='balanced'),\n",
    "                    scoring=my_f2_scorer(), \n",
    "                    param_grid=param_grid, \n",
    "                    cv = 5,\n",
    "                    verbose = 1)\n",
    "\n",
    "logreg_f2.fit(df_train_normal, y_train)\n",
    "\n",
    "print(\"best mean cross-validation score: {:.3f}\".format(logreg_f2.best_score_))\n",
    "print(\"best parameters: {}\".format(logreg_f2.best_params_))\n"
   ]
  },
  {
   "cell_type": "markdown",
   "metadata": {
    "id": "UuSir5x7eS8Y"
   },
   "source": [
    "Como vemos, después de hacer las combinaciones de variables indicadas, el parámetro para la regresión logística que nos selecciona este método es C=0.501."
   ]
  },
  {
   "cell_type": "code",
   "execution_count": null,
   "metadata": {
    "id": "REel5s8iucXO"
   },
   "outputs": [],
   "source": [
    "y_predlogreg_f2=logreg_f2.predict(df_test_normal)"
   ]
  },
  {
   "cell_type": "markdown",
   "metadata": {
    "id": "1TgRI1qrukDV"
   },
   "source": [
    "### 3.1.1.1 Matriz de confusión"
   ]
  },
  {
   "cell_type": "markdown",
   "metadata": {
    "id": "pwVh69cMe31c"
   },
   "source": [
    "Observamos cómo se comporta este algoritmo de clasificación con la matriz de confusión. La matriz de confusión es una metrica que utilizaremos de ahora en adelante para todos los modelos y que será clave para la interpretación de estos. Esta métrica es utilizada para analizar como de bueno es un modelo, consiste en una matriz en la que (en este caso pues es el tema que estamos tratando) podemos ver cuantos accidentes se han caracterizado correctamentes y cuantos lo han hecho incorrectamente. En su diagonal encontramos aquellos sucesos clasificados adecuadamente (Accidente grave o no). "
   ]
  },
  {
   "cell_type": "code",
   "execution_count": null,
   "metadata": {
    "colab": {
     "base_uri": "https://localhost:8080/",
     "height": 439
    },
    "id": "5pP7iAUUujTR",
    "outputId": "1e7a2005-eaf8-4958-ed27-5c5541f84cee"
   },
   "outputs": [
    {
     "data": {
      "image/png": "[encoded data removed]",
      "text/plain": [
       "<Figure size 432x360 with 2 Axes>"
      ]
     },
     "metadata": {
      "needs_background": "light"
     },
     "output_type": "display_data"
    },
    {
     "name": "stdout",
     "output_type": "stream",
     "text": [
      "Accuracy: 0.5315085806821099 \n",
      "Precision SIN Fallecidos:  0.9916672950757861 \n",
      "Precision CON Fallecidos:  0.02541986315571221 \n",
      "Recall SIN Fallecidos:  0.5281007168242877 \n",
      "Recall CON Fallecidos:  0.7350119904076738\n"
     ]
    }
   ],
   "source": [
    "conf_matrixlogreg_f2 = confusion_matrix(y_test, y_predlogreg_f2)\n",
    "plt.figure(figsize=(6, 5))\n",
    "labels = ['0: SIN Fallecidos','1: CON Fallecidos']\n",
    "sns.heatmap(conf_matrixlogreg_f2, xticklabels=labels, yticklabels=labels, annot=True, fmt=\"d\");\n",
    "plt.title(\"Confusion matrix Logistic Regression F2-Score\")\n",
    "plt.ylabel('True class')\n",
    "plt.xlabel('Predicted class')\n",
    "plt.show()\n",
    "\n",
    "Accuracy_logreg_f2 = (conf_matrixlogreg_f2[0][0]+conf_matrixlogreg_f2[1][1])/(conf_matrixlogreg_f2[0][0]+conf_matrixlogreg_f2[0][1]+conf_matrixlogreg_f2[1][0]+conf_matrixlogreg_f2[1][1])\n",
    "Precision_sin_fall_logreg_f2=(conf_matrixlogreg_f2[0][0])/(conf_matrixlogreg_f2[0][0]+conf_matrixlogreg_f2[1][0])\n",
    "Precision_con_fall_logreg_f2=(conf_matrixlogreg_f2[1][1])/(conf_matrixlogreg_f2[1][1]+conf_matrixlogreg_f2[0][1])\n",
    "Recall_sin_fall_logreg_f2=(conf_matrixlogreg_f2[0][0])/(conf_matrixlogreg_f2[0][0]+conf_matrixlogreg_f2[0][1])\n",
    "Recall_con_fall_logreg_f2=(conf_matrixlogreg_f2[1][1])/(conf_matrixlogreg_f2[1][1]+conf_matrixlogreg_f2[1][0])\n",
    "\n",
    "\n",
    "print('Accuracy:', Accuracy_logreg_f2, '\\n'\n",
    "      'Precision SIN Fallecidos: ', Precision_sin_fall_logreg_f2, '\\n'\n",
    "      'Precision CON Fallecidos: ', Precision_con_fall_logreg_f2, '\\n'\n",
    "      'Recall SIN Fallecidos: ', Recall_sin_fall_logreg_f2, '\\n'\n",
    "      'Recall CON Fallecidos: ', Recall_con_fall_logreg_f2)"
   ]
  },
  {
   "cell_type": "markdown",
   "metadata": {
    "id": "VkLlgzsMYint"
   },
   "source": [
    "Vemos cómo este modelo no es demasiado eficaz a la hora de predecir accidentes mortales, debido a que tan sólo es capaz de anticipar un 73.5% de estos, quedando un porcentaje significativo sin detectar, lo que podría llevar a grandes ineficiencias a la hora de prestar atención sanitaria a estos.\n",
    "\n",
    "Sin embargo, esto no es lo más grave. El modelo predice de manera errónea que un 47.2%, 23502 accidentes, van a presentar víctimas mortales cuando no sucede así en la realidad, por lo que la utilización de este modelo podría llevarnos a un enorme gasto en atención que se desperdiciaría en víctimas menos graves de lo supuesto, a la vez que un gran porcentaje de víctimas fatales quedaría sin detectar."
   ]
  },
  {
   "cell_type": "markdown",
   "metadata": {
    "id": "UbGIzJx_vdsY"
   },
   "source": [
    "### 3.1.1.2 Curva precision-recall"
   ]
  },
  {
   "cell_type": "markdown",
   "metadata": {
    "id": "_tlI00zZeukp"
   },
   "source": [
    "A continuación vamos a representar la curva P-R, que ya hemos indicado en la introducción que nos indica el tradeoff entre precisión y recall."
   ]
  },
  {
   "cell_type": "code",
   "execution_count": null,
   "metadata": {
    "colab": {
     "base_uri": "https://localhost:8080/",
     "height": 297
    },
    "id": "oiM79g6jwId1",
    "outputId": "1b105c4d-6421-4e7f-fc58-6f1058c754d1"
   },
   "outputs": [
    {
     "data": {
      "image/png": "[encoded data removed]",
      "text/plain": [
       "<Figure size 432x288 with 1 Axes>"
      ]
     },
     "metadata": {
      "needs_background": "light"
     },
     "output_type": "display_data"
    },
    {
     "name": "stdout",
     "output_type": "stream",
     "text": [
      "0.030950458761451846\n"
     ]
    }
   ],
   "source": [
    "y_scoreslogreg_f2 = logreg_f2.predict_proba(df_test_normal)\n",
    "\n",
    "precision_logreg_f2, recall_logreg_f2, thresholds_logreg_f2 = precision_recall_curve(y_test, y_scoreslogreg_f2[:, 1])\n",
    "\n",
    "no_skill = len(y_test[y_test==1]) / len(y_test)\n",
    "plt.plot([0,1], [no_skill,no_skill], linestyle='--', label='No Skill')\n",
    "plt.plot(recall_logreg_f2, precision_logreg_f2, marker='.', label='Logistic Regression F2')\n",
    "\n",
    "plt.xlabel('Recall')\n",
    "plt.ylabel('Precision')\n",
    "plt.legend()\n",
    "\n",
    "plt.show()\n",
    "\n",
    "auc_precision_recall_logreg_f2 = auc(recall_logreg_f2, precision_logreg_f2)\n",
    "print(auc_precision_recall_logreg_f2)"
   ]
  },
  {
   "cell_type": "markdown",
   "metadata": {
    "id": "MrQRuAZuhatT"
   },
   "source": [
    "Como puede observarse, el área debajo de la curva es muy pequeña, por lo que a priori podemos concluir que, como ya esterábamos, este método no es demasiado efectivo a la hora de clasificar. La precisión es muy baja en todo momento, ya que a pesar de utilizar un recall muy reducido, su valor no supera el 0.2.\n",
    "\n",
    "Así, concluimos que lo que le falta a este algoritmo es precisión, como hemos mencionado anteriormente, reforzando nuestra conclusión.\n",
    "\n"
   ]
  },
  {
   "cell_type": "markdown",
   "metadata": {
    "id": "f7poqXAYxh1Z"
   },
   "source": [
    "## 3.1.2 Regresión logística con Average-precision\n"
   ]
  },
  {
   "cell_type": "markdown",
   "metadata": {
    "id": "YNRU6MzMkj0G"
   },
   "source": [
    "Ahora utilizaremos el método de Average-precision, explicado anteriormente."
   ]
  },
  {
   "cell_type": "code",
   "execution_count": null,
   "metadata": {
    "colab": {
     "base_uri": "https://localhost:8080/"
    },
    "id": "VbR1Frpfxh1a",
    "outputId": "d2103eb4-b6a4-4341-a414-ac29907d6faf"
   },
   "outputs": [
    {
     "name": "stdout",
     "output_type": "stream",
     "text": [
      "Fitting 5 folds for each of 21 candidates, totalling 105 fits\n",
      "best mean cross-validation score: 0.636\n",
      "best parameters: {'C': 3.981071705534969}\n"
     ]
    }
   ],
   "source": [
    "vectorC = np.logspace(-3,3,21)\n",
    "param_grid = {'C': vectorC}\n",
    "\n",
    "logreg_pr = GridSearchCV(LogisticRegression(random_state=0, class_weight='balanced'),\n",
    "                    scoring='average_precision', \n",
    "                    param_grid=param_grid, \n",
    "                    cv = 5,\n",
    "                    verbose = 1)\n",
    "\n",
    "logreg_pr.fit(df_train_normal, y_train)\n",
    "\n",
    "print(\"best mean cross-validation score: {:.3f}\".format(logreg_pr.best_score_))\n",
    "print(\"best parameters: {}\".format(logreg_pr.best_params_))\n"
   ]
  },
  {
   "cell_type": "code",
   "execution_count": null,
   "metadata": {
    "id": "wYNK-BE9xh1a"
   },
   "outputs": [],
   "source": [
    "y_predlogreg_pr=logreg_pr.predict(df_test_normal)"
   ]
  },
  {
   "cell_type": "markdown",
   "metadata": {
    "id": "eTSe1bGNkvau"
   },
   "source": [
    "Aquí tenemos el nuevo parámetro que nos proporciona para la regresión logística, C=3.98."
   ]
  },
  {
   "cell_type": "markdown",
   "metadata": {
    "id": "dgkIYZkzxh1a"
   },
   "source": [
    "### 3.1.2.1 Matriz de confusión"
   ]
  },
  {
   "cell_type": "code",
   "execution_count": null,
   "metadata": {
    "colab": {
     "base_uri": "https://localhost:8080/",
     "height": 439
    },
    "id": "OYlkpYjmxh1a",
    "outputId": "2a7a1b4f-0586-415e-d7b5-ee84dbe4d98b"
   },
   "outputs": [
    {
     "data": {
      "image/png": "[encoded data removed]",
      "text/plain": [
       "<Figure size 432x360 with 2 Axes>"
      ]
     },
     "metadata": {
      "needs_background": "light"
     },
     "output_type": "display_data"
    },
    {
     "name": "stdout",
     "output_type": "stream",
     "text": [
      "Accuracy: 0.5315085806821099 \n",
      "Precision SIN Fallecidos:  0.9916672950757861 \n",
      "Precision CON Fallecidos:  0.02541986315571221 \n",
      "Recall SIN Fallecidos:  0.5281007168242877 \n",
      "Recall CON Fallecidos:  0.7350119904076738\n"
     ]
    }
   ],
   "source": [
    "conf_matrixlogreg_pr = confusion_matrix(y_test, y_predlogreg_pr)\n",
    "plt.figure(figsize=(6, 5))\n",
    "labels = ['0: SIN Fallecidos','1: CON Fallecidos']\n",
    "sns.heatmap(conf_matrixlogreg_pr, xticklabels=labels, yticklabels=labels, annot=True, fmt=\"d\");\n",
    "plt.title(\"Confusion matrix Logistic Regression Average-Precision\")\n",
    "plt.ylabel('True class')\n",
    "plt.xlabel('Predicted class')\n",
    "plt.show()\n",
    "\n",
    "Accuracy_logreg_pr = (conf_matrixlogreg_pr[0][0]+conf_matrixlogreg_pr[1][1])/(conf_matrixlogreg_pr[0][0]+conf_matrixlogreg_pr[0][1]+conf_matrixlogreg_pr[1][0]+conf_matrixlogreg_pr[1][1])\n",
    "Precision_sin_fall_logreg_pr=(conf_matrixlogreg_pr[0][0])/(conf_matrixlogreg_pr[0][0]+conf_matrixlogreg_pr[1][0])\n",
    "Precision_con_fall_logreg_pr=(conf_matrixlogreg_pr[1][1])/(conf_matrixlogreg_pr[1][1]+conf_matrixlogreg_pr[0][1])\n",
    "Recall_sin_fall_logreg_pr=(conf_matrixlogreg_pr[0][0])/(conf_matrixlogreg_pr[0][0]+conf_matrixlogreg_pr[0][1])\n",
    "Recall_con_fall_logreg_pr=(conf_matrixlogreg_pr[1][1])/(conf_matrixlogreg_pr[1][1]+conf_matrixlogreg_pr[1][0])\n",
    "\n",
    "\n",
    "print('Accuracy:', Accuracy_logreg_pr, '\\n'\n",
    "      'Precision SIN Fallecidos: ', Precision_sin_fall_logreg_pr, '\\n'\n",
    "      'Precision CON Fallecidos: ', Precision_con_fall_logreg_pr, '\\n'\n",
    "      'Recall SIN Fallecidos: ', Recall_sin_fall_logreg_pr, '\\n'\n",
    "      'Recall CON Fallecidos: ', Recall_con_fall_logreg_pr)"
   ]
  },
  {
   "cell_type": "markdown",
   "metadata": {
    "id": "tHsN31XtFObz"
   },
   "source": [
    "Vemos cómo este modelo no es demasiado eficaz a la hora de predecir accidentes mortales, debido a que tan sólo es capaz de anticipar un 73.5% de estos, quedando un porcentaje significativo sin detectar, lo que podría llevar a grandes ineficiencias a la hora de prestar atención sanitaria a estos.\n",
    "\n",
    "Sin embargo, esto no es lo más grave. El modelo predice de manera errónea que un 47.2%, 23502 accidentes, van a presentar víctimas mortales cuando no sucede así en la realidad, por lo que la utilización de este modelo podría llevarnos a un enorme gasto en atención que se desperdiciaría en víctimas menos graves de lo supuesto, a la vez que un gran porcentaje de víctimas fatales quedaría sin detectar."
   ]
  },
  {
   "cell_type": "markdown",
   "metadata": {
    "id": "r5tnCM7mxh1b"
   },
   "source": [
    "### 3.1.2.2 Curva precision-recall"
   ]
  },
  {
   "cell_type": "code",
   "execution_count": null,
   "metadata": {
    "colab": {
     "base_uri": "https://localhost:8080/",
     "height": 297
    },
    "id": "KVdvxX6Exh1b",
    "outputId": "427304fd-6eb0-4050-81dd-c7208ede7b7b"
   },
   "outputs": [
    {
     "data": {
      "image/png": "[encoded data removed]",
      "text/plain": [
       "<Figure size 432x288 with 1 Axes>"
      ]
     },
     "metadata": {
      "needs_background": "light"
     },
     "output_type": "display_data"
    },
    {
     "name": "stdout",
     "output_type": "stream",
     "text": [
      "0.03095036673084608\n"
     ]
    }
   ],
   "source": [
    "y_scoreslogreg_pr = logreg_pr.predict_proba(df_test_normal)\n",
    "\n",
    "precision_logreg_pr, recall_logreg_pr, thresholds_logreg_pr = precision_recall_curve(y_test, y_scoreslogreg_pr[:, 1])\n",
    "\n",
    "no_skill = len(y_test[y_test==1]) / len(y_test)\n",
    "plt.plot([0,1], [no_skill,no_skill], linestyle='--', label='No Skill')\n",
    "plt.plot(recall_logreg_pr, precision_logreg_pr, marker='.', label='Logistic Regression F2')\n",
    "\n",
    "plt.xlabel('Recall')\n",
    "plt.ylabel('Precision')\n",
    "plt.legend()\n",
    "\n",
    "plt.show()\n",
    "\n",
    "auc_precision_recall_logreg_pr = auc(recall_logreg_pr, precision_logreg_pr)\n",
    "print(auc_precision_recall_logreg_pr)"
   ]
  },
  {
   "cell_type": "markdown",
   "metadata": {
    "id": "BmmRiNBSFVQ1"
   },
   "source": [
    "Como puede observarse, el área debajo de la curva es muy pequeña, por lo que a priori podemos concluir que, como ya esterábamos, este método no es demasiado efectivo a la hora de clasificar. La precisión es muy baja en todo momento, ya que a pesar de utilizar un recall muy reducido, su valor no supera el 0.2.\n",
    "\n",
    "Así, concluimos que lo que le falta a este algoritmo es precisión, como hemos mencionado anteriormente, reforzando nuestra conclusión."
   ]
  },
  {
   "cell_type": "markdown",
   "metadata": {
    "id": "U-43OjFasLBp"
   },
   "source": [
    "\n",
    "# 3.2 Árboles de Decisión\n",
    "\n",
    "Este método se basa en ir haciendo particiones de la población a analizar con el fin de encontrar aquellas características que mejor la clasifican. De este modo, se comienza con el total de la población (ya sea la de entrenamiento o test), y se trata de encontrar mediante métodos de selección la mejor forma de separarla en clases. A continuación, se establece un nodo que controla para cada muestra si se tiene dicha característica o no, y se vuelve a clasificar cada elemento de las subpoblaciones que han resultado de la primera partición. Así, se genera un árbol de decisión, que nos servirá para, analizando por fases las características de un individuo, clasificarlo de la manera correcta, en nuestro caso asignándole el valor 0 si, por las características del accidente, creemos que no va a dar como resultado víctimas mortales, o el valor 1 en caso contrario.\n",
    "\n",
    "La ventaja de este método consiste en que es de una interpretación muy sencilla, ya que su forma de clasificar se basa en la que utiliza el cerebro humano y es muy lógica. Además, ordena de manera jerárquica las cualidades que hay que observar en cada fase para clasificar, de manera que nos indica en qñue hay que fijarse intuitivamente para saber cuál va a ser el resultado de un determinado accidente.\n",
    "\n",
    "Sin embargo, no suele ser el método que reporte la tasa de acierto más alta o mayor precisión de la predicción.\n"
   ]
  },
  {
   "cell_type": "markdown",
   "metadata": {
    "id": "O12XnRsEsTXg"
   },
   "source": [
    "## 3.2.1 Árbol de decisión con F2-score"
   ]
  },
  {
   "cell_type": "markdown",
   "metadata": {
    "id": "gsFAJ5dobPqg"
   },
   "source": [
    "Repetimos Decision Tree con scoring=f2."
   ]
  },
  {
   "cell_type": "code",
   "execution_count": null,
   "metadata": {
    "colab": {
     "base_uri": "https://localhost:8080/"
    },
    "id": "wukOaCLobgzO",
    "outputId": "589e05eb-340c-40be-8c8a-f41fb8baab7d"
   },
   "outputs": [
    {
     "data": {
      "text/plain": [
       "GridSearchCV(cv=5, estimator=DecisionTreeClassifier(),\n",
       "             param_grid={'criterion': ['gini', 'entropy'],\n",
       "                         'max_depth': array([ 1,  2,  3,  4,  5,  6,  7,  8,  9, 10, 11, 12, 13, 14, 15, 16, 17,\n",
       "       18, 19, 20])},\n",
       "             scoring=make_scorer(f2_func))"
      ]
     },
     "execution_count": 49,
     "metadata": {},
     "output_type": "execute_result"
    }
   ],
   "source": [
    "#mejoraArbol_f2=DecisionTreeClassifier() \n",
    "\n",
    "#criterion_rej=['gini','entropy'] #rejilla\n",
    "#max_depth_rej=np.linspace(1,20,20).astype(int)  #cuantos nodos de profundidad queremos\n",
    "#h_parameters = {'criterion':criterion_rej, 'max_depth':max_depth_rej} \n",
    "#cv_f2 = GridSearchCV(mejoraArbol_f2, h_parameters, cv=5, scoring=my_f2_scorer()) #el scoring es la medida de error que evalua\n",
    "#cv_f2.fit(df_train, y_train)"
   ]
  },
  {
   "cell_type": "code",
   "execution_count": null,
   "metadata": {
    "id": "q2YSfjpukisA"
   },
   "outputs": [],
   "source": [
    "#mejorArbol_f2=cv_f2.best_estimator_   #Calculamos el arbol con los parametros dados"
   ]
  },
  {
   "cell_type": "markdown",
   "metadata": {
    "id": "jITZAoxZsgbf"
   },
   "source": [
    "### 3.1.1.1 Vista del Árbol"
   ]
  },
  {
   "cell_type": "markdown",
   "metadata": {
    "id": "7yfd82ws5D86"
   },
   "source": [
    "Aquí tenemos el mejor árbol generado mediante F2, por el que vamos a ir dividiendo las muestras de nuestro dataset de test."
   ]
  },
  {
   "cell_type": "code",
   "execution_count": null,
   "metadata": {
    "colab": {
     "base_uri": "https://localhost:8080/",
     "height": 1000
    },
    "id": "50cNZSppcns4",
    "outputId": "9c210205-4fb5-4721-bf9e-d47811ab2877"
   },
   "outputs": [
    {
     "data": {
      "image/png": "[encoded data removed]",
      "text/plain": [
       "<Figure size 1080x1440 with 1 Axes>"
      ]
     },
     "metadata": {
      "needs_background": "light"
     },
     "output_type": "display_data"
    }
   ],
   "source": [
    "mejorArbol_f2=DecisionTreeClassifier(criterion='gini',max_depth=2)\n",
    "mejorArbol_f2.fit(df_train,y_train)\n",
    "y_predDT_f2=mejorArbol_f2.predict(df_test)\n",
    "\n",
    "plt.figure(figsize=(15, 20)) \n",
    "tree.plot_tree(mejorArbol_f2);"
   ]
  },
  {
   "cell_type": "markdown",
   "metadata": {
    "id": "6IIzDzkvsl50"
   },
   "source": [
    "### 3.1.1.2 Matriz de confusión"
   ]
  },
  {
   "cell_type": "code",
   "execution_count": null,
   "metadata": {
    "colab": {
     "base_uri": "https://localhost:8080/",
     "height": 439
    },
    "id": "T9VL8Xyucrbs",
    "outputId": "f9f1dd8c-cb57-482e-dd86-cb86ef642487"
   },
   "outputs": [
    {
     "data": {
      "image/png": "[encoded data removed]",
      "text/plain": [
       "<Figure size 432x360 with 2 Axes>"
      ]
     },
     "metadata": {
      "needs_background": "light"
     },
     "output_type": "display_data"
    },
    {
     "name": "stdout",
     "output_type": "stream",
     "text": [
      "Accuracy: 0.29484369137192173 \n",
      "Precision Fully paid:  0.9964778810932657 \n",
      "Precision Charged off :  0.021514228478911115 \n",
      "Recall Fully paid :  0.2840391141095918 \n",
      "Recall Charged off:  0.9400479616306955\n"
     ]
    }
   ],
   "source": [
    "#Matriz:\n",
    "\n",
    "conf_matrixDT_f2 = confusion_matrix(y_test, y_predDT_f2)\n",
    "plt.figure(figsize=(6, 5))\n",
    "labels = ['0: SIN fallecidos','1: CON Fallecidos']\n",
    "sns.heatmap(conf_matrixDT_f2, xticklabels=labels, yticklabels=labels, annot=True, fmt=\"d\");\n",
    "plt.title(\"Confusion matrix DT F2-SCORE\")\n",
    "plt.ylabel('True class')\n",
    "plt.xlabel('Predicted class')\n",
    "plt.show()\n",
    "\n",
    "Accuracy_DT_f2 = (conf_matrixDT_f2[0][0]+conf_matrixDT_f2[1][1])/(conf_matrixDT_f2[0][0]+conf_matrixDT_f2[0][1]+conf_matrixDT_f2[1][0]+conf_matrixDT_f2[1][1])\n",
    "Precision_sin_fall_DT_f2=(conf_matrixDT_f2[0][0])/(conf_matrixDT_f2[0][0]+conf_matrixDT_f2[1][0])\n",
    "Precision_con_fall_DT_f2=(conf_matrixDT_f2[1][1])/(conf_matrixDT_f2[1][1]+conf_matrixDT_f2[0][1])\n",
    "Recall_sin_fall_DT_f2=(conf_matrixDT_f2[0][0])/(conf_matrixDT_f2[0][0]+conf_matrixDT_f2[0][1])\n",
    "Recall_con_fall_DT_f2=(conf_matrixDT_f2[1][1])/(conf_matrixDT_f2[1][1]+conf_matrixDT_f2[1][0])\n",
    "\n",
    "\n",
    "print('Accuracy:', Accuracy_DT_f2, '\\n'\n",
    "      'Precision Sin Fallecidos: ', Precision_sin_fall_DT_f2, '\\n'\n",
    "      'Precision Con Fallecidos: ', Precision_con_fall_DT_f2, '\\n'\n",
    "      'Recall Sin Fallecidos: ', Recall_sin_fall_DT_f2, '\\n'\n",
    "      'Recall Con Fallecidos: ', Recall_con_fall_DT_f2 ) "
   ]
  },
  {
   "cell_type": "markdown",
   "metadata": {
    "id": "7ZyI-wHb5rw8"
   },
   "source": [
    "Vemos cómo este método mejora significativamente frente al de regresión logística en cuanto a precisión. Conseguimos que el 94.0% de los positivos sean ciertos. Sin embargo, aún seguimos detectando demasiados fallecidos que luego no ocurren, por lo que en este sentido el modelo no funciona tan bien, pero puede ser útil si lo que queremos es asegurarnos de predecir accidentesa mortales y nos importa menos dedicar recursos a otros que finalmente no lo son."
   ]
  },
  {
   "cell_type": "markdown",
   "metadata": {
    "id": "VjeZlY_msqRE"
   },
   "source": [
    "### 3.1.1.3 Curva Precision-Recall"
   ]
  },
  {
   "cell_type": "code",
   "execution_count": null,
   "metadata": {
    "colab": {
     "base_uri": "https://localhost:8080/",
     "height": 297
    },
    "id": "du12D-rGmGQZ",
    "outputId": "186e6408-cb8c-4e88-87a6-f54e6f007c37"
   },
   "outputs": [
    {
     "data": {
      "image/png": "[encoded data removed]",
      "text/plain": [
       "<Figure size 432x288 with 1 Axes>"
      ]
     },
     "metadata": {
      "needs_background": "light"
     },
     "output_type": "display_data"
    },
    {
     "name": "stdout",
     "output_type": "stream",
     "text": [
      "0.14321927917020755\n"
     ]
    }
   ],
   "source": [
    "#curva precision-recall\n",
    "from sklearn.metrics import auc\n",
    "from sklearn.metrics import precision_recall_curve\n",
    "\n",
    "y_scoresDT_f2 = mejorArbol_f2.predict_proba(df_test)\n",
    "\n",
    "precision_DT_f2, recall_DT_f2, thresholds = precision_recall_curve(y_test, y_scoresDT_f2[:, 1])\n",
    "\n",
    "no_skill = len(y_test[y_test==1]) / len(y_test)\n",
    "plt.plot([0,1], [no_skill,no_skill], linestyle='--', label='No Skill')\n",
    "plt.plot(recall_DT_f2, precision_DT_f2, marker='.', label='DT F2')\n",
    "\n",
    "plt.xlabel('Recall')\n",
    "plt.ylabel('Precision')\n",
    "plt.legend()\n",
    "\n",
    "plt.show()\n",
    "\n",
    "auc_precision_recall_DT_f2 = auc(recall_DT_f2, precision_DT_f2)\n",
    "print(auc_precision_recall_DT_f2)"
   ]
  },
  {
   "cell_type": "markdown",
   "metadata": {
    "id": "k8xmbxVG6gpc"
   },
   "source": [
    "De este modo, vemos cómo la curva P-R contiene más área, 0.14, debajo de ella, debido a que hemos conseguido una precisión muy aceptable. Sin embargo, este valor dista de ser alto, ya que esto sucede a costa de perder recall."
   ]
  },
  {
   "cell_type": "markdown",
   "metadata": {
    "id": "SvF0-Rf0st7y"
   },
   "source": [
    "## 3.2.2 Árbol de decisión con Average-precision"
   ]
  },
  {
   "cell_type": "markdown",
   "metadata": {
    "id": "uOCNGermdggx"
   },
   "source": [
    "Realizamos ahora la clasificación mediante average precision, que es un proxy para calcular el precision-recall AUC.\n",
    "\n",
    "Este proxy consiste en:"
   ]
  },
  {
   "cell_type": "code",
   "execution_count": null,
   "metadata": {
    "id": "91SJxFZwdEpS"
   },
   "outputs": [],
   "source": [
    "#mejoraArbol=DecisionTreeClassifier() \n",
    "\n",
    "#criterion_rej=['gini','entropy'] #rejilla\n",
    "#max_depth_rej=np.linspace(1,20,20).astype(int)  #cuantos nodos de profundidad queremos\n",
    "#h_parameters = {'criterion':criterion_rej, 'max_depth':max_depth_rej} \n",
    "#cv_pr = GridSearchCV(mejoraArbol, h_parameters, cv=5, scoring='average_precision') #el scoring es la medida de error que evalua\n",
    "#cv_pr.fit(df_train, y_train)\n",
    "\n",
    "\n",
    "\n",
    "#mejorArbol_pr=cv_pr.best_estimator_   #Calculamos el arbol con los parametros dados"
   ]
  },
  {
   "cell_type": "code",
   "execution_count": null,
   "metadata": {
    "colab": {
     "base_uri": "https://localhost:8080/"
    },
    "id": "hrG-_ZaliT2X",
    "outputId": "e884875d-e9cf-47b6-ec55-6b9cb6362c61"
   },
   "outputs": [
    {
     "data": {
      "text/plain": [
       "DecisionTreeClassifier(criterion='entropy', max_depth=10)"
      ]
     },
     "execution_count": 44,
     "metadata": {},
     "output_type": "execute_result"
    }
   ],
   "source": [
    "#cv_pr.best_estimator_ "
   ]
  },
  {
   "cell_type": "markdown",
   "metadata": {
    "id": "55y4va0ztNp2"
   },
   "source": [
    "### 3.1.2.1 Vista del árbol"
   ]
  },
  {
   "cell_type": "markdown",
   "metadata": {
    "id": "TroRqSvB7GF2"
   },
   "source": [
    "Aquí representamos el mejor árbol seleccionado mediante este algoritmo."
   ]
  },
  {
   "cell_type": "code",
   "execution_count": null,
   "metadata": {
    "colab": {
     "base_uri": "https://localhost:8080/",
     "height": 1000
    },
    "id": "-_INaFXchA5R",
    "outputId": "ec3376db-5e4b-4efa-c78e-9139484db3a4"
   },
   "outputs": [
    {
     "data": {
      "image/png": "[encoded data removed]",
      "text/plain": [
       "<Figure size 1080x1440 with 1 Axes>"
      ]
     },
     "metadata": {
      "needs_background": "light"
     },
     "output_type": "display_data"
    }
   ],
   "source": [
    "mejorArbol_pr=DecisionTreeClassifier(criterion='entropy',max_depth=10)\n",
    "mejorArbol_pr.fit(df_train,y_train)\n",
    "y_predDT_pr=mejorArbol_pr.predict(df_test)\n",
    "\n",
    "plt.figure(figsize=(15, 20)) \n",
    "tree.plot_tree(mejorArbol_pr);"
   ]
  },
  {
   "cell_type": "markdown",
   "metadata": {
    "id": "Wwv92o7ktR3O"
   },
   "source": [
    "### 3.1.2.2 Matriz de confusión"
   ]
  },
  {
   "cell_type": "code",
   "execution_count": null,
   "metadata": {
    "colab": {
     "base_uri": "https://localhost:8080/",
     "height": 439
    },
    "id": "6hCpodxqiXir",
    "outputId": "58565461-67d6-453d-98da-b98a37e20889"
   },
   "outputs": [
    {
     "data": {
      "image/png": "[encoded data removed]",
      "text/plain": [
       "<Figure size 432x360 with 2 Axes>"
      ]
     },
     "metadata": {
      "needs_background": "light"
     },
     "output_type": "display_data"
    },
    {
     "name": "stdout",
     "output_type": "stream",
     "text": [
      "Accuracy: 0.7500641823172779 \n",
      "Precision Fully paid:  0.9948842290373291 \n",
      "Precision Charged off :  0.048985197619410954 \n",
      "Recall Fully paid :  0.7497339517699737 \n",
      "Recall Charged off:  0.7697841726618705\n"
     ]
    }
   ],
   "source": [
    "#Matriz:\n",
    "\n",
    "from sklearn.metrics import accuracy_score, confusion_matrix, classification_report\n",
    "conf_matrixDT_pr = confusion_matrix(y_test, y_predDT_pr)\n",
    "plt.figure(figsize=(6, 5))\n",
    "labels = ['0: SIN Fallecidos','1: CON Fallecidos']\n",
    "sns.heatmap(conf_matrixDT_pr, xticklabels=labels, yticklabels=labels, annot=True, fmt=\"d\");\n",
    "plt.title(\"Confusion matrix DT Average Precision\")\n",
    "plt.ylabel('True class')\n",
    "plt.xlabel('Predicted class')\n",
    "plt.show()\n",
    "\n",
    "Accuracy_DT_pr = (conf_matrixDT_pr[0][0]+conf_matrixDT_pr[1][1])/(conf_matrixDT_pr[0][0]+conf_matrixDT_pr[0][1]+conf_matrixDT_pr[1][0]+conf_matrixDT_pr[1][1])\n",
    "Precision_sin_fall_DT_pr=(conf_matrixDT_pr[0][0])/(conf_matrixDT_pr[0][0]+conf_matrixDT_pr[1][0])\n",
    "Precision_con_fall_DT_pr=(conf_matrixDT_pr[1][1])/(conf_matrixDT_pr[1][1]+conf_matrixDT_pr[0][1])\n",
    "Recall_sin_fall_DT_pr=(conf_matrixDT_pr[0][0])/(conf_matrixDT_pr[0][0]+conf_matrixDT_pr[0][1])\n",
    "Recall_con_fall_DT_pr=(conf_matrixDT_pr[1][1])/(conf_matrixDT_pr[1][1]+conf_matrixDT_pr[1][0])\n",
    "\n",
    "\n",
    "print('Accuracy:', Accuracy_DT_pr, '\\n'\n",
    "      'Precision Sin Fallecidos: ', Precision_sin_fall_DT_pr, '\\n'\n",
    "      'Precision Con Fallecidos: ', Precision_con_fall_DT_pr, '\\n'\n",
    "      'Recall Sin Fallecidos: ', Recall_sin_fall_DT_pr, '\\n'\n",
    "      'Recall Con Fallecidos: ', Recall_con_fall_DT_pr ) "
   ]
  },
  {
   "cell_type": "markdown",
   "metadata": {
    "id": "ePZaqUYE7Okz"
   },
   "source": [
    "Los resultados mediante este modelo son más equilibrados que los del anterior. Vemos cómo hemos perdido precisión a la hora de detectar un fallecido verdadero, pero hemos reducido muy considerablemente el error de un falso diagnóstico con fallecidos, por lo que podríamos ahorrar recursos a la hora de gestionar accidentes con este modelo, pero a costa de perder más vidas."
   ]
  },
  {
   "cell_type": "markdown",
   "metadata": {
    "id": "0yHDyRQctXJc"
   },
   "source": [
    "### 3.1.2.3 Curva Precision-recall"
   ]
  },
  {
   "cell_type": "code",
   "execution_count": null,
   "metadata": {
    "colab": {
     "base_uri": "https://localhost:8080/",
     "height": 297
    },
    "id": "HUkxBI-mjJ7C",
    "outputId": "d49033c2-3345-4452-c764-9666b21cbd6c"
   },
   "outputs": [
    {
     "data": {
      "image/png": "[encoded data removed]",
      "text/plain": [
       "<Figure size 432x288 with 1 Axes>"
      ]
     },
     "metadata": {
      "needs_background": "light"
     },
     "output_type": "display_data"
    },
    {
     "name": "stdout",
     "output_type": "stream",
     "text": [
      "0.10266951502393806\n"
     ]
    }
   ],
   "source": [
    "#curva precision-recall\n",
    "from sklearn.metrics import auc\n",
    "from sklearn.metrics import precision_recall_curve\n",
    "\n",
    "y_scoresDT_pr = mejorArbol_pr.predict_proba(df_test)\n",
    "\n",
    "precision_DT_pr, recall_DT_pr, thresholds_DT_pr = precision_recall_curve(y_test, y_scoresDT_pr[:, 1])\n",
    "\n",
    "no_skill = len(y_test[y_test==1]) / len(y_test)\n",
    "plt.plot([0,1], [no_skill,no_skill], linestyle='--', label='No Skill')\n",
    "plt.plot(recall_DT_pr, precision_DT_pr, marker='.', label='KNN')\n",
    "\n",
    "plt.xlabel('Recall')\n",
    "plt.ylabel('Precision')\n",
    "plt.legend()\n",
    "\n",
    "plt.show()\n",
    "\n",
    "auc_precision_recall_DT_pr = auc(recall_DT_pr, precision_DT_pr)\n",
    "print(auc_precision_recall_DT_pr)"
   ]
  },
  {
   "cell_type": "markdown",
   "metadata": {
    "id": "cbt4Cm1x7qAv"
   },
   "source": [
    "Lo que hemos expuesto anteriormente se observa en este gráfico. Vemos que el área bajo la curva es similar al 0.14 del caso anterior, ya que en abos modelos tenemos un tradeoff muy similar entre precisión y recall, pareciendo este último algo peor, ya que el área bajo la curva es inferior, denotando perores valores a la hora de realizar ese tradeoff."
   ]
  },
  {
   "cell_type": "markdown",
   "metadata": {
    "id": "8W0Kw0GStqx8"
   },
   "source": [
    "# 3.3 Random Forest\n",
    "\n",
    "Los modelos Random Forest están formados por un conjunto de árboles de decisión individuales, cada uno entrenado con una muestra ligeramente distinta de los datos de entrenamiento generada mediante bootstrapping. La predicción de una nueva observación se obtiene agregando las predicciones de todos los árboles individuales que forman el modelo.\n",
    "\n",
    "De este modo se consigue que la eficacia del modelo aumente, al precio de un mayor coste computacional.\n",
    "\n",
    "Ventajas:\n",
    "\n",
    "-Ser uno de los algoritmos de aprendizaje más certeros que hay disponible\n",
    "\n",
    "-Dar estimaciones de qué variables son importantes en la clasificación\n",
    "\n",
    "-Tener un método eficaz para estimar datos perdidos y mantener la exactitud cuando una gran proporción de los datos está perdida.\n",
    "\n",
    "Inconvenientes:\n",
    "\n",
    "-Sobreajusta en ciertos grupos de datos con tareas de clasificación/regresión si la varianza es alta.\n",
    "\n",
    "-A diferencia de los árboles de decisión, la clasificación hecha por random forests es difícil de interpretar.\n",
    "\n",
    "-Si los datos contienen grupos de atributos correlacionados con similar relevancia para el rendimiento, entonces los grupos más pequeños están favorecidos sobre los grupos más grandes."
   ]
  },
  {
   "cell_type": "markdown",
   "metadata": {
    "id": "0QoKSBIxyD4p"
   },
   "source": [
    "## 3.3.1 Random Forest con F2-score"
   ]
  },
  {
   "cell_type": "markdown",
   "metadata": {
    "id": "E6cuaSdy8dmS"
   },
   "source": [
    "En primer lugar, generamos un random forest de tamaño n=200 mediante F2-score."
   ]
  },
  {
   "cell_type": "code",
   "execution_count": null,
   "metadata": {
    "colab": {
     "base_uri": "https://localhost:8080/"
    },
    "id": "rw8ABmx2yTn4",
    "outputId": "c8b3d134-cd05-409e-8d8d-1b76560c848a"
   },
   "outputs": [
    {
     "name": "stdout",
     "output_type": "stream",
     "text": [
      "Fitting 5 folds for each of 40 candidates, totalling 200 fits\n",
      "[CV 1/5] END .......criterion=gini, max_depth=1;, score=0.703 total time=   6.3s\n",
      "[CV 2/5] END .......criterion=gini, max_depth=1;, score=0.718 total time=   6.4s\n",
      "[CV 3/5] END .......criterion=gini, max_depth=1;, score=0.707 total time=   6.2s\n",
      "[CV 4/5] END .......criterion=gini, max_depth=1;, score=0.710 total time=   7.1s\n",
      "[CV 5/5] END .......criterion=gini, max_depth=1;, score=0.697 total time=   9.1s\n",
      "[CV 1/5] END .......criterion=gini, max_depth=2;, score=0.700 total time=  10.7s\n",
      "[CV 2/5] END .......criterion=gini, max_depth=2;, score=0.724 total time=  10.7s\n",
      "[CV 3/5] END .......criterion=gini, max_depth=2;, score=0.725 total time=   8.8s\n",
      "[CV 4/5] END .......criterion=gini, max_depth=2;, score=0.714 total time=  11.3s\n",
      "[CV 5/5] END .......criterion=gini, max_depth=2;, score=0.726 total time=   8.3s\n",
      "[CV 1/5] END .......criterion=gini, max_depth=3;, score=0.711 total time=  10.2s\n",
      "[CV 2/5] END .......criterion=gini, max_depth=3;, score=0.704 total time=  12.6s\n",
      "[CV 3/5] END .......criterion=gini, max_depth=3;, score=0.707 total time=  10.2s\n",
      "[CV 4/5] END .......criterion=gini, max_depth=3;, score=0.726 total time=  10.6s\n",
      "[CV 5/5] END .......criterion=gini, max_depth=3;, score=0.722 total time=  10.6s\n",
      "[CV 1/5] END .......criterion=gini, max_depth=4;, score=0.714 total time=  12.4s\n",
      "[CV 2/5] END .......criterion=gini, max_depth=4;, score=0.715 total time=  12.7s\n",
      "[CV 3/5] END .......criterion=gini, max_depth=4;, score=0.719 total time=  13.0s\n",
      "[CV 4/5] END .......criterion=gini, max_depth=4;, score=0.723 total time=  12.0s\n",
      "[CV 5/5] END .......criterion=gini, max_depth=4;, score=0.727 total time=  12.5s\n",
      "[CV 1/5] END .......criterion=gini, max_depth=5;, score=0.722 total time=  16.0s\n",
      "[CV 2/5] END .......criterion=gini, max_depth=5;, score=0.723 total time=  15.0s\n",
      "[CV 3/5] END .......criterion=gini, max_depth=5;, score=0.725 total time=  14.4s\n",
      "[CV 4/5] END .......criterion=gini, max_depth=5;, score=0.722 total time=  27.8s\n",
      "[CV 5/5] END .......criterion=gini, max_depth=5;, score=0.728 total time=  15.7s\n",
      "[CV 1/5] END .......criterion=gini, max_depth=6;, score=0.729 total time=  16.2s\n",
      "[CV 2/5] END .......criterion=gini, max_depth=6;, score=0.724 total time=  16.8s\n",
      "[CV 3/5] END .......criterion=gini, max_depth=6;, score=0.725 total time=  17.0s\n",
      "[CV 4/5] END .......criterion=gini, max_depth=6;, score=0.726 total time=  16.5s\n",
      "[CV 5/5] END .......criterion=gini, max_depth=6;, score=0.735 total time=  18.1s\n",
      "[CV 1/5] END .......criterion=gini, max_depth=7;, score=0.730 total time=  19.2s\n",
      "[CV 2/5] END .......criterion=gini, max_depth=7;, score=0.739 total time=  18.8s\n",
      "[CV 3/5] END .......criterion=gini, max_depth=7;, score=0.735 total time=  19.0s\n",
      "[CV 4/5] END .......criterion=gini, max_depth=7;, score=0.744 total time=  18.2s\n",
      "[CV 5/5] END .......criterion=gini, max_depth=7;, score=0.747 total time=  19.1s\n",
      "[CV 1/5] END .......criterion=gini, max_depth=8;, score=0.740 total time=  20.9s\n",
      "[CV 2/5] END .......criterion=gini, max_depth=8;, score=0.739 total time=  20.8s\n",
      "[CV 3/5] END .......criterion=gini, max_depth=8;, score=0.746 total time=  20.5s\n",
      "[CV 4/5] END .......criterion=gini, max_depth=8;, score=0.748 total time=  24.7s\n",
      "[CV 5/5] END .......criterion=gini, max_depth=8;, score=0.751 total time=  26.0s\n",
      "[CV 1/5] END .......criterion=gini, max_depth=9;, score=0.745 total time=  22.3s\n",
      "[CV 2/5] END .......criterion=gini, max_depth=9;, score=0.744 total time=  26.7s\n",
      "[CV 3/5] END .......criterion=gini, max_depth=9;, score=0.749 total time=  23.2s\n",
      "[CV 4/5] END .......criterion=gini, max_depth=9;, score=0.752 total time=  38.8s\n",
      "[CV 5/5] END .......criterion=gini, max_depth=9;, score=0.751 total time=  23.0s\n",
      "[CV 1/5] END ......criterion=gini, max_depth=10;, score=0.747 total time=  24.7s\n",
      "[CV 2/5] END ......criterion=gini, max_depth=10;, score=0.747 total time=  24.3s\n",
      "[CV 3/5] END ......criterion=gini, max_depth=10;, score=0.751 total time=  24.7s\n",
      "[CV 4/5] END ......criterion=gini, max_depth=10;, score=0.757 total time=  24.0s\n",
      "[CV 5/5] END ......criterion=gini, max_depth=10;, score=0.756 total time=  24.5s\n",
      "[CV 1/5] END ......criterion=gini, max_depth=11;, score=0.752 total time=  25.1s\n",
      "[CV 2/5] END ......criterion=gini, max_depth=11;, score=0.750 total time=  24.9s\n",
      "[CV 3/5] END ......criterion=gini, max_depth=11;, score=0.753 total time=  24.7s\n",
      "[CV 4/5] END ......criterion=gini, max_depth=11;, score=0.759 total time=  24.5s\n",
      "[CV 5/5] END ......criterion=gini, max_depth=11;, score=0.757 total time=  24.7s\n",
      "[CV 1/5] END ......criterion=gini, max_depth=12;, score=0.755 total time=  28.2s\n",
      "[CV 2/5] END ......criterion=gini, max_depth=12;, score=0.754 total time=  27.0s\n",
      "[CV 3/5] END ......criterion=gini, max_depth=12;, score=0.758 total time=  26.8s\n",
      "[CV 4/5] END ......criterion=gini, max_depth=12;, score=0.764 total time=  27.0s\n",
      "[CV 5/5] END ......criterion=gini, max_depth=12;, score=0.760 total time=  26.8s\n",
      "[CV 1/5] END ......criterion=gini, max_depth=13;, score=0.759 total time=  30.8s\n",
      "[CV 2/5] END ......criterion=gini, max_depth=13;, score=0.760 total time=  28.2s\n",
      "[CV 3/5] END ......criterion=gini, max_depth=13;, score=0.759 total time=  29.5s\n",
      "[CV 4/5] END ......criterion=gini, max_depth=13;, score=0.768 total time=  29.5s\n",
      "[CV 5/5] END ......criterion=gini, max_depth=13;, score=0.764 total time=  29.2s\n",
      "[CV 1/5] END ......criterion=gini, max_depth=14;, score=0.764 total time=  31.9s\n",
      "[CV 2/5] END ......criterion=gini, max_depth=14;, score=0.766 total time=  30.3s\n",
      "[CV 3/5] END ......criterion=gini, max_depth=14;, score=0.764 total time=  30.9s\n",
      "[CV 4/5] END ......criterion=gini, max_depth=14;, score=0.773 total time=  30.3s\n",
      "[CV 5/5] END ......criterion=gini, max_depth=14;, score=0.769 total time=  30.6s\n",
      "[CV 1/5] END ......criterion=gini, max_depth=15;, score=0.767 total time=  35.1s\n",
      "[CV 2/5] END ......criterion=gini, max_depth=15;, score=0.768 total time=  32.0s\n",
      "[CV 3/5] END ......criterion=gini, max_depth=15;, score=0.768 total time=  32.1s\n",
      "[CV 4/5] END ......criterion=gini, max_depth=15;, score=0.776 total time=  31.5s\n",
      "[CV 5/5] END ......criterion=gini, max_depth=15;, score=0.774 total time=  32.7s\n",
      "[CV 1/5] END ......criterion=gini, max_depth=16;, score=0.773 total time=  34.6s\n",
      "[CV 2/5] END ......criterion=gini, max_depth=16;, score=0.773 total time=  34.1s\n",
      "[CV 3/5] END ......criterion=gini, max_depth=16;, score=0.773 total time=  33.9s\n",
      "[CV 4/5] END ......criterion=gini, max_depth=16;, score=0.780 total time=  33.7s\n",
      "[CV 5/5] END ......criterion=gini, max_depth=16;, score=0.780 total time=  34.3s\n",
      "[CV 1/5] END ......criterion=gini, max_depth=17;, score=0.778 total time=  35.7s\n",
      "[CV 2/5] END ......criterion=gini, max_depth=17;, score=0.777 total time=  35.6s\n",
      "[CV 3/5] END ......criterion=gini, max_depth=17;, score=0.777 total time=  35.3s\n",
      "[CV 4/5] END ......criterion=gini, max_depth=17;, score=0.783 total time=  35.4s\n",
      "[CV 5/5] END ......criterion=gini, max_depth=17;, score=0.784 total time=  36.0s\n",
      "[CV 1/5] END ......criterion=gini, max_depth=18;, score=0.781 total time=  39.0s\n",
      "[CV 2/5] END ......criterion=gini, max_depth=18;, score=0.781 total time=  38.6s\n",
      "[CV 3/5] END ......criterion=gini, max_depth=18;, score=0.780 total time=  38.5s\n",
      "[CV 4/5] END ......criterion=gini, max_depth=18;, score=0.786 total time=  38.3s\n",
      "[CV 5/5] END ......criterion=gini, max_depth=18;, score=0.786 total time=  38.7s\n",
      "[CV 1/5] END ......criterion=gini, max_depth=19;, score=0.784 total time=  40.2s\n",
      "[CV 2/5] END ......criterion=gini, max_depth=19;, score=0.785 total time=  39.8s\n",
      "[CV 3/5] END ......criterion=gini, max_depth=19;, score=0.785 total time=  39.9s\n",
      "[CV 4/5] END ......criterion=gini, max_depth=19;, score=0.791 total time=  39.8s\n",
      "[CV 5/5] END ......criterion=gini, max_depth=19;, score=0.791 total time=  40.0s\n",
      "[CV 1/5] END ......criterion=gini, max_depth=20;, score=0.787 total time=  41.1s\n",
      "[CV 2/5] END ......criterion=gini, max_depth=20;, score=0.788 total time=  41.0s\n",
      "[CV 3/5] END ......criterion=gini, max_depth=20;, score=0.788 total time=  40.9s\n",
      "[CV 4/5] END ......criterion=gini, max_depth=20;, score=0.795 total time=  40.9s\n",
      "[CV 5/5] END ......criterion=gini, max_depth=20;, score=0.793 total time=  41.3s\n",
      "[CV 1/5] END ....criterion=entropy, max_depth=1;, score=0.703 total time=   5.8s\n",
      "[CV 2/5] END ....criterion=entropy, max_depth=1;, score=0.721 total time=   5.5s\n",
      "[CV 3/5] END ....criterion=entropy, max_depth=1;, score=0.708 total time=   5.6s\n",
      "[CV 4/5] END ....criterion=entropy, max_depth=1;, score=0.699 total time=   5.7s\n",
      "[CV 5/5] END ....criterion=entropy, max_depth=1;, score=0.695 total time=   5.6s\n",
      "[CV 1/5] END ....criterion=entropy, max_depth=2;, score=0.722 total time=   7.5s\n",
      "[CV 2/5] END ....criterion=entropy, max_depth=2;, score=0.702 total time=   7.5s\n",
      "[CV 3/5] END ....criterion=entropy, max_depth=2;, score=0.715 total time=   7.5s\n",
      "[CV 4/5] END ....criterion=entropy, max_depth=2;, score=0.696 total time=   7.5s\n",
      "[CV 5/5] END ....criterion=entropy, max_depth=2;, score=0.722 total time=   7.5s\n",
      "[CV 1/5] END ....criterion=entropy, max_depth=3;, score=0.715 total time=   9.4s\n",
      "[CV 2/5] END ....criterion=entropy, max_depth=3;, score=0.710 total time=  10.3s\n",
      "[CV 3/5] END ....criterion=entropy, max_depth=3;, score=0.718 total time=  10.8s\n",
      "[CV 4/5] END ....criterion=entropy, max_depth=3;, score=0.719 total time=  18.4s\n",
      "[CV 5/5] END ....criterion=entropy, max_depth=3;, score=0.727 total time=  12.3s\n",
      "[CV 1/5] END ....criterion=entropy, max_depth=4;, score=0.715 total time=  14.4s\n",
      "[CV 2/5] END ....criterion=entropy, max_depth=4;, score=0.724 total time=  16.4s\n",
      "[CV 3/5] END ....criterion=entropy, max_depth=4;, score=0.719 total time=  14.0s\n",
      "[CV 4/5] END ....criterion=entropy, max_depth=4;, score=0.729 total time=  11.5s\n",
      "[CV 5/5] END ....criterion=entropy, max_depth=4;, score=0.729 total time=  11.3s\n",
      "[CV 1/5] END ....criterion=entropy, max_depth=5;, score=0.720 total time=  13.3s\n",
      "[CV 2/5] END ....criterion=entropy, max_depth=5;, score=0.719 total time=  13.3s\n",
      "[CV 3/5] END ....criterion=entropy, max_depth=5;, score=0.719 total time=  13.4s\n",
      "[CV 4/5] END ....criterion=entropy, max_depth=5;, score=0.724 total time=  13.3s\n",
      "[CV 5/5] END ....criterion=entropy, max_depth=5;, score=0.729 total time=  13.5s\n",
      "[CV 1/5] END ....criterion=entropy, max_depth=6;, score=0.724 total time=  15.7s\n",
      "[CV 2/5] END ....criterion=entropy, max_depth=6;, score=0.729 total time=  15.3s\n",
      "[CV 3/5] END ....criterion=entropy, max_depth=6;, score=0.727 total time=  15.6s\n",
      "[CV 4/5] END ....criterion=entropy, max_depth=6;, score=0.739 total time=  15.5s\n",
      "[CV 5/5] END ....criterion=entropy, max_depth=6;, score=0.734 total time=  15.2s\n",
      "[CV 1/5] END ....criterion=entropy, max_depth=7;, score=0.738 total time=  17.5s\n",
      "[CV 2/5] END ....criterion=entropy, max_depth=7;, score=0.735 total time=  17.4s\n",
      "[CV 3/5] END ....criterion=entropy, max_depth=7;, score=0.732 total time=  17.2s\n",
      "[CV 4/5] END ....criterion=entropy, max_depth=7;, score=0.740 total time=  18.7s\n",
      "[CV 5/5] END ....criterion=entropy, max_depth=7;, score=0.740 total time=  28.0s\n",
      "[CV 1/5] END ....criterion=entropy, max_depth=8;, score=0.740 total time=  30.8s\n",
      "[CV 2/5] END ....criterion=entropy, max_depth=8;, score=0.739 total time=  32.4s\n",
      "[CV 3/5] END ....criterion=entropy, max_depth=8;, score=0.742 total time=  35.0s\n",
      "[CV 4/5] END ....criterion=entropy, max_depth=8;, score=0.748 total time=  33.7s\n",
      "[CV 5/5] END ....criterion=entropy, max_depth=8;, score=0.744 total time=  24.2s\n",
      "[CV 1/5] END ....criterion=entropy, max_depth=9;, score=0.743 total time=  39.3s\n",
      "[CV 2/5] END ....criterion=entropy, max_depth=9;, score=0.743 total time=  24.8s\n",
      "[CV 3/5] END ....criterion=entropy, max_depth=9;, score=0.747 total time=  31.7s\n",
      "[CV 4/5] END ....criterion=entropy, max_depth=9;, score=0.752 total time=  21.4s\n",
      "[CV 5/5] END ....criterion=entropy, max_depth=9;, score=0.750 total time=  21.7s\n",
      "[CV 1/5] END ...criterion=entropy, max_depth=10;, score=0.747 total time=  23.2s\n",
      "[CV 2/5] END ...criterion=entropy, max_depth=10;, score=0.748 total time=  22.9s\n",
      "[CV 3/5] END ...criterion=entropy, max_depth=10;, score=0.748 total time=  23.0s\n",
      "[CV 4/5] END ...criterion=entropy, max_depth=10;, score=0.755 total time=  24.0s\n",
      "[CV 5/5] END ...criterion=entropy, max_depth=10;, score=0.754 total time=  35.4s\n",
      "[CV 1/5] END ...criterion=entropy, max_depth=11;, score=0.751 total time=  37.4s\n",
      "[CV 2/5] END ...criterion=entropy, max_depth=11;, score=0.749 total time=  25.1s\n",
      "[CV 3/5] END ...criterion=entropy, max_depth=11;, score=0.753 total time=  25.7s\n",
      "[CV 4/5] END ...criterion=entropy, max_depth=11;, score=0.760 total time=  25.4s\n",
      "[CV 5/5] END ...criterion=entropy, max_depth=11;, score=0.755 total time=  25.3s\n",
      "[CV 1/5] END ...criterion=entropy, max_depth=12;, score=0.754 total time=  27.6s\n",
      "[CV 2/5] END ...criterion=entropy, max_depth=12;, score=0.754 total time=  27.3s\n",
      "[CV 3/5] END ...criterion=entropy, max_depth=12;, score=0.756 total time=  30.3s\n",
      "[CV 4/5] END ...criterion=entropy, max_depth=12;, score=0.764 total time=  33.7s\n",
      "[CV 5/5] END ...criterion=entropy, max_depth=12;, score=0.760 total time=  32.3s\n",
      "[CV 1/5] END ...criterion=entropy, max_depth=13;, score=0.760 total time=  44.3s\n",
      "[CV 2/5] END ...criterion=entropy, max_depth=13;, score=0.759 total time=  32.1s\n",
      "[CV 3/5] END ...criterion=entropy, max_depth=13;, score=0.760 total time=  31.0s\n",
      "[CV 4/5] END ...criterion=entropy, max_depth=13;, score=0.767 total time=  29.4s\n",
      "[CV 5/5] END ...criterion=entropy, max_depth=13;, score=0.764 total time=  40.8s\n",
      "[CV 1/5] END ...criterion=entropy, max_depth=14;, score=0.763 total time=  41.7s\n",
      "[CV 2/5] END ...criterion=entropy, max_depth=14;, score=0.764 total time=  31.1s\n",
      "[CV 3/5] END ...criterion=entropy, max_depth=14;, score=0.763 total time=  47.2s\n",
      "[CV 4/5] END ...criterion=entropy, max_depth=14;, score=0.771 total time=  37.7s\n",
      "[CV 5/5] END ...criterion=entropy, max_depth=14;, score=0.769 total time=  32.8s\n",
      "[CV 1/5] END ...criterion=entropy, max_depth=15;, score=0.769 total time=  37.1s\n",
      "[CV 2/5] END ...criterion=entropy, max_depth=15;, score=0.766 total time=  34.3s\n",
      "[CV 3/5] END ...criterion=entropy, max_depth=15;, score=0.768 total time=  35.1s\n",
      "[CV 4/5] END ...criterion=entropy, max_depth=15;, score=0.774 total time=  34.8s\n",
      "[CV 5/5] END ...criterion=entropy, max_depth=15;, score=0.774 total time=  34.5s\n",
      "[CV 1/5] END ...criterion=entropy, max_depth=16;, score=0.771 total time=  37.6s\n",
      "[CV 2/5] END ...criterion=entropy, max_depth=16;, score=0.771 total time=  35.4s\n",
      "[CV 3/5] END ...criterion=entropy, max_depth=16;, score=0.771 total time=  35.9s\n",
      "[CV 4/5] END ...criterion=entropy, max_depth=16;, score=0.779 total time=  36.3s\n",
      "[CV 5/5] END ...criterion=entropy, max_depth=16;, score=0.777 total time=  35.9s\n",
      "[CV 1/5] END ...criterion=entropy, max_depth=17;, score=0.776 total time=  38.1s\n",
      "[CV 2/5] END ...criterion=entropy, max_depth=17;, score=0.775 total time=  38.6s\n",
      "[CV 3/5] END ...criterion=entropy, max_depth=17;, score=0.777 total time=  42.5s\n",
      "[CV 4/5] END ...criterion=entropy, max_depth=17;, score=0.783 total time=  38.3s\n",
      "[CV 5/5] END ...criterion=entropy, max_depth=17;, score=0.782 total time=  38.6s\n",
      "[CV 1/5] END ...criterion=entropy, max_depth=18;, score=0.780 total time=  40.8s\n",
      "[CV 2/5] END ...criterion=entropy, max_depth=18;, score=0.780 total time=  40.1s\n",
      "[CV 3/5] END ...criterion=entropy, max_depth=18;, score=0.779 total time=  41.3s\n",
      "[CV 4/5] END ...criterion=entropy, max_depth=18;, score=0.787 total time=  41.1s\n",
      "[CV 5/5] END ...criterion=entropy, max_depth=18;, score=0.785 total time=  43.9s\n",
      "[CV 1/5] END ...criterion=entropy, max_depth=19;, score=0.782 total time=  43.6s\n",
      "[CV 2/5] END ...criterion=entropy, max_depth=19;, score=0.784 total time=  43.1s\n",
      "[CV 3/5] END ...criterion=entropy, max_depth=19;, score=0.783 total time=  43.2s\n",
      "[CV 4/5] END ...criterion=entropy, max_depth=19;, score=0.789 total time=  43.5s\n",
      "[CV 5/5] END ...criterion=entropy, max_depth=19;, score=0.789 total time=  42.8s\n",
      "[CV 1/5] END ...criterion=entropy, max_depth=20;, score=0.785 total time=  45.5s\n",
      "[CV 2/5] END ...criterion=entropy, max_depth=20;, score=0.786 total time=  44.4s\n",
      "[CV 3/5] END ...criterion=entropy, max_depth=20;, score=0.786 total time= 1.0min\n",
      "[CV 4/5] END ...criterion=entropy, max_depth=20;, score=0.794 total time= 1.2min\n",
      "[CV 5/5] END ...criterion=entropy, max_depth=20;, score=0.792 total time=  57.7s\n",
      "best mean cross-validation score: 0.790\n",
      "best parameters: {'criterion': 'gini', 'max_depth': 20}\n"
     ]
    }
   ],
   "source": [
    "from sklearn.ensemble import RandomForestClassifier\n",
    "\n",
    "#hiper parámetros\n",
    "#criterion_rej=['gini','entropy']\n",
    "#max_depth_rej=np.linspace(1,20,20).astype(int)\n",
    "#h_parameters = {'criterion':criterion_rej, 'max_depth':max_depth_rej} \n",
    "\n",
    "#rf_f2 = GridSearchCV(RandomForestClassifier(n_estimators = 200), h_parameters, cv=5, scoring=my_f2_scorer(),verbose=3)\n",
    "#rf_f2.fit(df_train, y_train)\n",
    "#print(\"best mean cross-validation score: {:.3f}\".format(rf_f2.best_score_))\n",
    "#print(\"best parameters: {}\".format(rf_f2.best_params_))\n"
   ]
  },
  {
   "cell_type": "code",
   "execution_count": null,
   "metadata": {
    "id": "KHuww10o0vv_"
   },
   "outputs": [],
   "source": [
    "rf_f2_fit = RandomForestClassifier(n_estimators = 200, criterion=rf_f2.best_params_['criterion'], max_depth=rf_f2.best_params_['max_depth']).fit(df_train,y_train)\n",
    "y_predRF_f2=rf_f2_fit.predict(df_test)"
   ]
  },
  {
   "cell_type": "markdown",
   "metadata": {
    "id": "9Hao2BX8yHvc"
   },
   "source": [
    "### 3.3.1.1 Matriz de confusión"
   ]
  },
  {
   "cell_type": "code",
   "execution_count": null,
   "metadata": {
    "colab": {
     "base_uri": "https://localhost:8080/",
     "height": 439
    },
    "id": "eamNsmzO0ogu",
    "outputId": "dfaee7b6-6e01-4816-b15d-846278d24b71"
   },
   "outputs": [
    {
     "data": {
      "image/png": "[encoded data removed]",
      "text/plain": [
       "<Figure size 432x360 with 2 Axes>"
      ]
     },
     "metadata": {
      "needs_background": "light"
     },
     "output_type": "display_data"
    },
    {
     "name": "stdout",
     "output_type": "stream",
     "text": [
      "Accuracy: 0.7824120702253293 \n",
      "Precision SIN Fallecidos:  0.9961876007471279 \n",
      "Precision CON Fallecidos:  0.05928682707287519 \n",
      "Recall SIN Fallecidos:  0.7817601349316307 \n",
      "Recall CON Fallecidos:  0.8213429256594724\n"
     ]
    }
   ],
   "source": [
    "#Matriz:\n",
    "\n",
    "conf_matrixRF_f2 = confusion_matrix(y_test, y_predRF_f2)\n",
    "plt.figure(figsize=(6, 5))\n",
    "labels = ['0: SIN Fallecidos','1: CON Fallecidos']\n",
    "sns.heatmap(conf_matrixDT_pr, xticklabels=labels, yticklabels=labels, annot=True, fmt=\"d\");\n",
    "plt.title(\"Confusion matrix Random Forest F2-Score\")\n",
    "plt.ylabel('True class')\n",
    "plt.xlabel('Predicted class')\n",
    "plt.show()\n",
    "\n",
    "Accuracy_rf_f2 = (conf_matrixRF_f2[0][0]+conf_matrixRF_f2[1][1])/(conf_matrixRF_f2[0][0]+conf_matrixRF_f2[0][1]+conf_matrixRF_f2[1][0]+conf_matrixRF_f2[1][1])\n",
    "Precision_sin_fall_rf_f2=(conf_matrixRF_f2[0][0])/(conf_matrixRF_f2[0][0]+conf_matrixRF_f2[1][0])\n",
    "Precision_con_fall_rf_f2=(conf_matrixRF_f2[1][1])/(conf_matrixRF_f2[1][1]+conf_matrixRF_f2[0][1])\n",
    "Recall_sin_fall_rf_f2=(conf_matrixRF_f2[0][0])/(conf_matrixRF_f2[0][0]+conf_matrixRF_f2[0][1])\n",
    "Recall_con_fall_rf_f2=(conf_matrixRF_f2[1][1])/(conf_matrixRF_f2[1][1]+conf_matrixRF_f2[1][0])\n",
    "\n",
    "\n",
    "print('Accuracy:', Accuracy_rf_f2, '\\n'\n",
    "      'Precision SIN Fallecidos: ', Precision_sin_fall_rf_f2, '\\n'\n",
    "      'Precision CON Fallecidos: ', Precision_con_fall_rf_f2, '\\n'\n",
    "      'Recall SIN Fallecidos: ', Recall_sin_fall_rf_f2, '\\n'\n",
    "      'Recall CON Fallecidos: ', Recall_con_fall_rf_f2) "
   ]
  },
  {
   "cell_type": "markdown",
   "metadata": {
    "id": "JO4z2xre8tpz"
   },
   "source": [
    "Vemos cómo los resultados son muy similares a los del apartado anterior, debido a que el árbol óptimo , con las pequeñas muestras aleatorias que ha sido generado, ha resultado ser similar, por lo que el análisis es el mismo."
   ]
  },
  {
   "cell_type": "markdown",
   "metadata": {
    "id": "0afNAntYyL2A"
   },
   "source": [
    "### 3.3.1.2 Curva Precision-recall"
   ]
  },
  {
   "cell_type": "code",
   "execution_count": null,
   "metadata": {
    "colab": {
     "base_uri": "https://localhost:8080/",
     "height": 297
    },
    "id": "pIAMe2HOAfex",
    "outputId": "071ffd69-0ca6-4866-9f3f-9066b052d1dc"
   },
   "outputs": [
    {
     "data": {
      "image/png": "[encoded data removed]",
      "text/plain": [
       "<Figure size 432x288 with 1 Axes>"
      ]
     },
     "metadata": {
      "needs_background": "light"
     },
     "output_type": "display_data"
    },
    {
     "name": "stdout",
     "output_type": "stream",
     "text": [
      "0.20122525748566672\n"
     ]
    }
   ],
   "source": [
    "#curva precision-recall\n",
    "\n",
    "#estimamos probabilidades:\n",
    "y_scoresRF_f2_prob = rf_f2_fit.predict_proba(df_test)\n",
    "\n",
    "precision_rf_f2, recall_rf_f2, thresholds_rf_f2 = precision_recall_curve(y_test, y_scoresRF_f2_prob[:, 1])\n",
    "\n",
    "no_skill = len(y_test[y_test==1]) / len(y_test)\n",
    "plt.plot([0,1], [no_skill,no_skill], linestyle='--', label='No Skill')\n",
    "plt.plot(recall, precision, marker='.', label='Random Forest F2-Score')\n",
    "\n",
    "plt.xlabel('Recall')\n",
    "plt.ylabel('Precision')\n",
    "plt.legend()\n",
    "\n",
    "plt.show()\n",
    "\n",
    "auc_precision_recall_rf_f2 = auc(recall_rf_f2, precision_rf_f2)\n",
    "print(auc_precision_recall_rf_f2)"
   ]
  },
  {
   "cell_type": "markdown",
   "metadata": {
    "id": "JAZk_b219GDo"
   },
   "source": [
    "Sin embargo, el área bajo la curva es mayor, lo que muestra que este modelo tiene un menor tradeoff entre precisión y recall y por tanto sería preferible al utilizado anteriormente a la hora de elaborar predicciones."
   ]
  },
  {
   "cell_type": "markdown",
   "metadata": {
    "id": "HtBKwqKJCA3b"
   },
   "source": [
    "## 3.3.2 Random Forest con Average-precision"
   ]
  },
  {
   "cell_type": "markdown",
   "metadata": {
    "id": "c_1PmmNd9Tlh"
   },
   "source": [
    "Ahora repetimos el procedimiento mediante average-precision, con n=200."
   ]
  },
  {
   "cell_type": "code",
   "execution_count": null,
   "metadata": {
    "colab": {
     "base_uri": "https://localhost:8080/"
    },
    "id": "VyVGAL2gCA3b",
    "outputId": "e44cfd59-d390-433f-8a0c-a2d0ad7cf7be"
   },
   "outputs": [
    {
     "name": "stdout",
     "output_type": "stream",
     "text": [
      "Fitting 5 folds for each of 40 candidates, totalling 200 fits\n",
      "[CV 1/5] END .......criterion=gini, max_depth=1;, score=0.709 total time=   8.1s\n",
      "[CV 2/5] END .......criterion=gini, max_depth=1;, score=0.715 total time=   8.0s\n",
      "[CV 3/5] END .......criterion=gini, max_depth=1;, score=0.713 total time=   8.1s\n",
      "[CV 4/5] END .......criterion=gini, max_depth=1;, score=0.715 total time=   7.9s\n",
      "[CV 5/5] END .......criterion=gini, max_depth=1;, score=0.713 total time=   7.8s\n",
      "[CV 1/5] END .......criterion=gini, max_depth=2;, score=0.746 total time=  10.0s\n",
      "[CV 2/5] END .......criterion=gini, max_depth=2;, score=0.750 total time=   9.9s\n",
      "[CV 3/5] END .......criterion=gini, max_depth=2;, score=0.747 total time=   9.9s\n",
      "[CV 4/5] END .......criterion=gini, max_depth=2;, score=0.749 total time=   9.9s\n",
      "[CV 5/5] END .......criterion=gini, max_depth=2;, score=0.756 total time=  10.9s\n",
      "[CV 1/5] END .......criterion=gini, max_depth=3;, score=0.764 total time=  12.5s\n",
      "[CV 2/5] END .......criterion=gini, max_depth=3;, score=0.770 total time=  16.0s\n",
      "[CV 3/5] END .......criterion=gini, max_depth=3;, score=0.768 total time=  13.9s\n",
      "[CV 4/5] END .......criterion=gini, max_depth=3;, score=0.770 total time=  11.9s\n",
      "[CV 5/5] END .......criterion=gini, max_depth=3;, score=0.777 total time=  11.4s\n",
      "[CV 1/5] END .......criterion=gini, max_depth=4;, score=0.788 total time=  13.9s\n",
      "[CV 2/5] END .......criterion=gini, max_depth=4;, score=0.787 total time=  13.9s\n",
      "[CV 3/5] END .......criterion=gini, max_depth=4;, score=0.788 total time=  14.1s\n",
      "[CV 4/5] END .......criterion=gini, max_depth=4;, score=0.784 total time=  13.9s\n",
      "[CV 5/5] END .......criterion=gini, max_depth=4;, score=0.794 total time=  13.8s\n",
      "[CV 1/5] END .......criterion=gini, max_depth=5;, score=0.794 total time=  15.9s\n",
      "[CV 2/5] END .......criterion=gini, max_depth=5;, score=0.799 total time=  15.7s\n",
      "[CV 3/5] END .......criterion=gini, max_depth=5;, score=0.795 total time=  16.5s\n",
      "[CV 4/5] END .......criterion=gini, max_depth=5;, score=0.797 total time=  15.5s\n",
      "[CV 5/5] END .......criterion=gini, max_depth=5;, score=0.805 total time=  15.7s\n",
      "[CV 1/5] END .......criterion=gini, max_depth=6;, score=0.805 total time=  17.8s\n",
      "[CV 2/5] END .......criterion=gini, max_depth=6;, score=0.808 total time=  17.4s\n",
      "[CV 3/5] END .......criterion=gini, max_depth=6;, score=0.804 total time=  17.6s\n",
      "[CV 4/5] END .......criterion=gini, max_depth=6;, score=0.806 total time=  17.6s\n",
      "[CV 5/5] END .......criterion=gini, max_depth=6;, score=0.812 total time=  17.7s\n",
      "[CV 1/5] END .......criterion=gini, max_depth=7;, score=0.812 total time=  19.4s\n",
      "[CV 2/5] END .......criterion=gini, max_depth=7;, score=0.815 total time=  19.6s\n",
      "[CV 3/5] END .......criterion=gini, max_depth=7;, score=0.815 total time=  19.5s\n",
      "[CV 4/5] END .......criterion=gini, max_depth=7;, score=0.813 total time=  19.2s\n",
      "[CV 5/5] END .......criterion=gini, max_depth=7;, score=0.819 total time=  19.2s\n",
      "[CV 1/5] END .......criterion=gini, max_depth=8;, score=0.819 total time=  21.7s\n",
      "[CV 2/5] END .......criterion=gini, max_depth=8;, score=0.822 total time=  21.3s\n",
      "[CV 3/5] END .......criterion=gini, max_depth=8;, score=0.820 total time=  21.5s\n",
      "[CV 4/5] END .......criterion=gini, max_depth=8;, score=0.820 total time=  21.6s\n",
      "[CV 5/5] END .......criterion=gini, max_depth=8;, score=0.827 total time=  21.3s\n",
      "[CV 1/5] END .......criterion=gini, max_depth=9;, score=0.824 total time=  23.1s\n",
      "[CV 2/5] END .......criterion=gini, max_depth=9;, score=0.828 total time=  23.4s\n",
      "[CV 3/5] END .......criterion=gini, max_depth=9;, score=0.826 total time=  23.3s\n",
      "[CV 4/5] END .......criterion=gini, max_depth=9;, score=0.825 total time=  24.0s\n",
      "[CV 5/5] END .......criterion=gini, max_depth=9;, score=0.832 total time=  23.1s\n",
      "[CV 1/5] END ......criterion=gini, max_depth=10;, score=0.829 total time=  25.5s\n",
      "[CV 2/5] END ......criterion=gini, max_depth=10;, score=0.832 total time=  26.4s\n",
      "[CV 3/5] END ......criterion=gini, max_depth=10;, score=0.832 total time=  27.3s\n",
      "[CV 4/5] END ......criterion=gini, max_depth=10;, score=0.831 total time=  25.2s\n",
      "[CV 5/5] END ......criterion=gini, max_depth=10;, score=0.838 total time=  25.3s\n",
      "[CV 1/5] END ......criterion=gini, max_depth=11;, score=0.835 total time=  27.0s\n",
      "[CV 2/5] END ......criterion=gini, max_depth=11;, score=0.838 total time=  27.5s\n",
      "[CV 3/5] END ......criterion=gini, max_depth=11;, score=0.837 total time=  27.7s\n",
      "[CV 4/5] END ......criterion=gini, max_depth=11;, score=0.836 total time=  27.7s\n",
      "[CV 5/5] END ......criterion=gini, max_depth=11;, score=0.843 total time=  27.6s\n",
      "[CV 1/5] END ......criterion=gini, max_depth=12;, score=0.839 total time=  28.7s\n",
      "[CV 2/5] END ......criterion=gini, max_depth=12;, score=0.843 total time=  29.0s\n",
      "[CV 3/5] END ......criterion=gini, max_depth=12;, score=0.842 total time=  28.7s\n",
      "[CV 4/5] END ......criterion=gini, max_depth=12;, score=0.840 total time=  28.6s\n",
      "[CV 5/5] END ......criterion=gini, max_depth=12;, score=0.847 total time=  28.9s\n",
      "[CV 1/5] END ......criterion=gini, max_depth=13;, score=0.843 total time=  29.5s\n",
      "[CV 2/5] END ......criterion=gini, max_depth=13;, score=0.847 total time=  29.7s\n",
      "[CV 3/5] END ......criterion=gini, max_depth=13;, score=0.846 total time=  29.2s\n",
      "[CV 4/5] END ......criterion=gini, max_depth=13;, score=0.844 total time=  29.5s\n",
      "[CV 5/5] END ......criterion=gini, max_depth=13;, score=0.852 total time=  29.1s\n",
      "[CV 1/5] END ......criterion=gini, max_depth=14;, score=0.847 total time=  30.9s\n",
      "[CV 2/5] END ......criterion=gini, max_depth=14;, score=0.851 total time=  30.8s\n",
      "[CV 3/5] END ......criterion=gini, max_depth=14;, score=0.850 total time=  31.1s\n",
      "[CV 4/5] END ......criterion=gini, max_depth=14;, score=0.848 total time=  31.3s\n",
      "[CV 5/5] END ......criterion=gini, max_depth=14;, score=0.855 total time=  32.6s\n",
      "[CV 1/5] END ......criterion=gini, max_depth=15;, score=0.851 total time=  33.3s\n",
      "[CV 2/5] END ......criterion=gini, max_depth=15;, score=0.855 total time=  32.7s\n",
      "[CV 3/5] END ......criterion=gini, max_depth=15;, score=0.853 total time=  32.7s\n",
      "[CV 4/5] END ......criterion=gini, max_depth=15;, score=0.853 total time=  32.5s\n",
      "[CV 5/5] END ......criterion=gini, max_depth=15;, score=0.858 total time=  32.4s\n",
      "[CV 1/5] END ......criterion=gini, max_depth=16;, score=0.853 total time=  35.1s\n",
      "[CV 2/5] END ......criterion=gini, max_depth=16;, score=0.858 total time=  34.5s\n",
      "[CV 3/5] END ......criterion=gini, max_depth=16;, score=0.856 total time=  39.1s\n",
      "[CV 4/5] END ......criterion=gini, max_depth=16;, score=0.856 total time=  34.3s\n",
      "[CV 5/5] END ......criterion=gini, max_depth=16;, score=0.862 total time=  34.2s\n",
      "[CV 1/5] END ......criterion=gini, max_depth=17;, score=0.856 total time=  36.4s\n",
      "[CV 2/5] END ......criterion=gini, max_depth=17;, score=0.860 total time=  36.0s\n",
      "[CV 3/5] END ......criterion=gini, max_depth=17;, score=0.859 total time=  36.7s\n",
      "[CV 4/5] END ......criterion=gini, max_depth=17;, score=0.859 total time=  35.5s\n",
      "[CV 5/5] END ......criterion=gini, max_depth=17;, score=0.864 total time=  36.2s\n",
      "[CV 1/5] END ......criterion=gini, max_depth=18;, score=0.859 total time=  38.4s\n",
      "[CV 2/5] END ......criterion=gini, max_depth=18;, score=0.863 total time=  37.4s\n",
      "[CV 3/5] END ......criterion=gini, max_depth=18;, score=0.861 total time=  37.2s\n",
      "[CV 4/5] END ......criterion=gini, max_depth=18;, score=0.861 total time=  38.0s\n",
      "[CV 5/5] END ......criterion=gini, max_depth=18;, score=0.867 total time=  38.2s\n",
      "[CV 1/5] END ......criterion=gini, max_depth=19;, score=0.861 total time=  39.5s\n",
      "[CV 2/5] END ......criterion=gini, max_depth=19;, score=0.866 total time=  39.0s\n",
      "[CV 3/5] END ......criterion=gini, max_depth=19;, score=0.863 total time=  39.1s\n",
      "[CV 4/5] END ......criterion=gini, max_depth=19;, score=0.864 total time=  39.2s\n",
      "[CV 5/5] END ......criterion=gini, max_depth=19;, score=0.869 total time=  39.1s\n",
      "[CV 1/5] END ......criterion=gini, max_depth=20;, score=0.863 total time=  40.7s\n",
      "[CV 2/5] END ......criterion=gini, max_depth=20;, score=0.868 total time=  40.5s\n",
      "[CV 3/5] END ......criterion=gini, max_depth=20;, score=0.865 total time=  40.5s\n",
      "[CV 4/5] END ......criterion=gini, max_depth=20;, score=0.866 total time=  40.5s\n",
      "[CV 5/5] END ......criterion=gini, max_depth=20;, score=0.871 total time=  40.5s\n",
      "[CV 1/5] END ....criterion=entropy, max_depth=1;, score=0.718 total time=   8.2s\n",
      "[CV 2/5] END ....criterion=entropy, max_depth=1;, score=0.718 total time=   8.4s\n",
      "[CV 3/5] END ....criterion=entropy, max_depth=1;, score=0.713 total time=   8.2s\n",
      "[CV 4/5] END ....criterion=entropy, max_depth=1;, score=0.714 total time=   8.2s\n",
      "[CV 5/5] END ....criterion=entropy, max_depth=1;, score=0.720 total time=   7.9s\n",
      "[CV 1/5] END ....criterion=entropy, max_depth=2;, score=0.751 total time=  10.5s\n",
      "[CV 2/5] END ....criterion=entropy, max_depth=2;, score=0.749 total time=  10.3s\n",
      "[CV 3/5] END ....criterion=entropy, max_depth=2;, score=0.746 total time=   9.9s\n",
      "[CV 4/5] END ....criterion=entropy, max_depth=2;, score=0.748 total time=   9.9s\n",
      "[CV 5/5] END ....criterion=entropy, max_depth=2;, score=0.753 total time=  10.1s\n",
      "[CV 1/5] END ....criterion=entropy, max_depth=3;, score=0.775 total time=  12.4s\n",
      "[CV 2/5] END ....criterion=entropy, max_depth=3;, score=0.770 total time=  12.3s\n",
      "[CV 3/5] END ....criterion=entropy, max_depth=3;, score=0.768 total time=  11.9s\n",
      "[CV 4/5] END ....criterion=entropy, max_depth=3;, score=0.774 total time=  12.2s\n",
      "[CV 5/5] END ....criterion=entropy, max_depth=3;, score=0.779 total time=  12.1s\n",
      "[CV 1/5] END ....criterion=entropy, max_depth=4;, score=0.784 total time=  14.2s\n",
      "[CV 2/5] END ....criterion=entropy, max_depth=4;, score=0.788 total time=  13.9s\n",
      "[CV 3/5] END ....criterion=entropy, max_depth=4;, score=0.785 total time=  14.2s\n",
      "[CV 4/5] END ....criterion=entropy, max_depth=4;, score=0.784 total time=  13.6s\n",
      "[CV 5/5] END ....criterion=entropy, max_depth=4;, score=0.788 total time=  14.2s\n",
      "[CV 1/5] END ....criterion=entropy, max_depth=5;, score=0.796 total time=  15.9s\n",
      "[CV 2/5] END ....criterion=entropy, max_depth=5;, score=0.798 total time=  16.0s\n",
      "[CV 3/5] END ....criterion=entropy, max_depth=5;, score=0.796 total time=  15.8s\n",
      "[CV 4/5] END ....criterion=entropy, max_depth=5;, score=0.799 total time=  16.4s\n",
      "[CV 5/5] END ....criterion=entropy, max_depth=5;, score=0.804 total time=  15.9s\n",
      "[CV 1/5] END ....criterion=entropy, max_depth=6;, score=0.806 total time=  18.1s\n",
      "[CV 2/5] END ....criterion=entropy, max_depth=6;, score=0.809 total time=  17.7s\n",
      "[CV 3/5] END ....criterion=entropy, max_depth=6;, score=0.805 total time=  18.0s\n",
      "[CV 4/5] END ....criterion=entropy, max_depth=6;, score=0.806 total time=  18.0s\n",
      "[CV 5/5] END ....criterion=entropy, max_depth=6;, score=0.812 total time=  17.8s\n",
      "[CV 1/5] END ....criterion=entropy, max_depth=7;, score=0.813 total time=  19.9s\n",
      "[CV 2/5] END ....criterion=entropy, max_depth=7;, score=0.814 total time=  19.7s\n",
      "[CV 3/5] END ....criterion=entropy, max_depth=7;, score=0.813 total time=  19.7s\n",
      "[CV 4/5] END ....criterion=entropy, max_depth=7;, score=0.814 total time=  20.0s\n",
      "[CV 5/5] END ....criterion=entropy, max_depth=7;, score=0.819 total time=  20.4s\n",
      "[CV 1/5] END ....criterion=entropy, max_depth=8;, score=0.819 total time=  21.8s\n",
      "[CV 2/5] END ....criterion=entropy, max_depth=8;, score=0.821 total time=  22.4s\n",
      "[CV 3/5] END ....criterion=entropy, max_depth=8;, score=0.820 total time=  22.2s\n",
      "[CV 4/5] END ....criterion=entropy, max_depth=8;, score=0.819 total time=  21.5s\n",
      "[CV 5/5] END ....criterion=entropy, max_depth=8;, score=0.826 total time=  22.2s\n",
      "[CV 1/5] END ....criterion=entropy, max_depth=9;, score=0.824 total time=  23.4s\n",
      "[CV 2/5] END ....criterion=entropy, max_depth=9;, score=0.828 total time=  23.7s\n",
      "[CV 3/5] END ....criterion=entropy, max_depth=9;, score=0.826 total time=  23.7s\n",
      "[CV 4/5] END ....criterion=entropy, max_depth=9;, score=0.826 total time=  23.6s\n",
      "[CV 5/5] END ....criterion=entropy, max_depth=9;, score=0.833 total time=  23.5s\n",
      "[CV 1/5] END ...criterion=entropy, max_depth=10;, score=0.830 total time=  26.0s\n",
      "[CV 2/5] END ...criterion=entropy, max_depth=10;, score=0.833 total time=  25.9s\n",
      "[CV 3/5] END ...criterion=entropy, max_depth=10;, score=0.831 total time=  26.0s\n",
      "[CV 4/5] END ...criterion=entropy, max_depth=10;, score=0.831 total time=  25.8s\n",
      "[CV 5/5] END ...criterion=entropy, max_depth=10;, score=0.838 total time=  25.8s\n",
      "[CV 1/5] END ...criterion=entropy, max_depth=11;, score=0.834 total time=  27.5s\n",
      "[CV 2/5] END ...criterion=entropy, max_depth=11;, score=0.837 total time=  27.6s\n",
      "[CV 3/5] END ...criterion=entropy, max_depth=11;, score=0.836 total time=  27.7s\n",
      "[CV 4/5] END ...criterion=entropy, max_depth=11;, score=0.837 total time=  27.7s\n",
      "[CV 5/5] END ...criterion=entropy, max_depth=11;, score=0.842 total time=  27.9s\n",
      "[CV 1/5] END ...criterion=entropy, max_depth=12;, score=0.839 total time=  30.0s\n",
      "[CV 2/5] END ...criterion=entropy, max_depth=12;, score=0.842 total time=  29.8s\n",
      "[CV 3/5] END ...criterion=entropy, max_depth=12;, score=0.842 total time=  29.6s\n",
      "[CV 4/5] END ...criterion=entropy, max_depth=12;, score=0.841 total time=  29.9s\n",
      "[CV 5/5] END ...criterion=entropy, max_depth=12;, score=0.846 total time=  29.7s\n",
      "[CV 1/5] END ...criterion=entropy, max_depth=13;, score=0.843 total time=  30.5s\n",
      "[CV 2/5] END ...criterion=entropy, max_depth=13;, score=0.847 total time=  30.4s\n",
      "[CV 3/5] END ...criterion=entropy, max_depth=13;, score=0.845 total time=  30.3s\n",
      "[CV 4/5] END ...criterion=entropy, max_depth=13;, score=0.846 total time=  30.5s\n",
      "[CV 5/5] END ...criterion=entropy, max_depth=13;, score=0.851 total time=  30.3s\n",
      "[CV 1/5] END ...criterion=entropy, max_depth=14;, score=0.847 total time=  32.1s\n",
      "[CV 2/5] END ...criterion=entropy, max_depth=14;, score=0.851 total time=  31.7s\n",
      "[CV 3/5] END ...criterion=entropy, max_depth=14;, score=0.849 total time=  31.9s\n",
      "[CV 4/5] END ...criterion=entropy, max_depth=14;, score=0.849 total time=  31.9s\n",
      "[CV 5/5] END ...criterion=entropy, max_depth=14;, score=0.854 total time=  32.0s\n",
      "[CV 1/5] END ...criterion=entropy, max_depth=15;, score=0.850 total time=  34.1s\n",
      "[CV 2/5] END ...criterion=entropy, max_depth=15;, score=0.854 total time=  34.6s\n",
      "[CV 3/5] END ...criterion=entropy, max_depth=15;, score=0.852 total time=  34.3s\n",
      "[CV 4/5] END ...criterion=entropy, max_depth=15;, score=0.852 total time=  34.5s\n",
      "[CV 5/5] END ...criterion=entropy, max_depth=15;, score=0.858 total time=  34.6s\n",
      "[CV 1/5] END ...criterion=entropy, max_depth=16;, score=0.854 total time=  36.2s\n",
      "[CV 2/5] END ...criterion=entropy, max_depth=16;, score=0.857 total time=  36.6s\n",
      "[CV 3/5] END ...criterion=entropy, max_depth=16;, score=0.855 total time=  36.7s\n",
      "[CV 4/5] END ...criterion=entropy, max_depth=16;, score=0.856 total time=  36.4s\n",
      "[CV 5/5] END ...criterion=entropy, max_depth=16;, score=0.861 total time=  36.4s\n",
      "[CV 1/5] END ...criterion=entropy, max_depth=17;, score=0.856 total time=  38.3s\n",
      "[CV 2/5] END ...criterion=entropy, max_depth=17;, score=0.860 total time=  38.4s\n",
      "[CV 3/5] END ...criterion=entropy, max_depth=17;, score=0.858 total time=  38.6s\n",
      "[CV 4/5] END ...criterion=entropy, max_depth=17;, score=0.859 total time=  38.6s\n",
      "[CV 5/5] END ...criterion=entropy, max_depth=17;, score=0.863 total time=  39.1s\n",
      "[CV 1/5] END ...criterion=entropy, max_depth=18;, score=0.859 total time=  40.6s\n",
      "[CV 2/5] END ...criterion=entropy, max_depth=18;, score=0.863 total time=  39.9s\n",
      "[CV 3/5] END ...criterion=entropy, max_depth=18;, score=0.861 total time=  39.8s\n",
      "[CV 4/5] END ...criterion=entropy, max_depth=18;, score=0.861 total time=  39.9s\n",
      "[CV 5/5] END ...criterion=entropy, max_depth=18;, score=0.867 total time=  39.6s\n",
      "[CV 1/5] END ...criterion=entropy, max_depth=19;, score=0.861 total time=  42.1s\n",
      "[CV 2/5] END ...criterion=entropy, max_depth=19;, score=0.866 total time=  41.8s\n",
      "[CV 3/5] END ...criterion=entropy, max_depth=19;, score=0.862 total time=  42.1s\n",
      "[CV 4/5] END ...criterion=entropy, max_depth=19;, score=0.864 total time=  42.0s\n",
      "[CV 5/5] END ...criterion=entropy, max_depth=19;, score=0.868 total time=  41.7s\n",
      "[CV 1/5] END ...criterion=entropy, max_depth=20;, score=0.863 total time=  44.6s\n",
      "[CV 2/5] END ...criterion=entropy, max_depth=20;, score=0.868 total time=  43.5s\n",
      "[CV 3/5] END ...criterion=entropy, max_depth=20;, score=0.865 total time=  43.4s\n",
      "[CV 4/5] END ...criterion=entropy, max_depth=20;, score=0.866 total time=  43.9s\n",
      "[CV 5/5] END ...criterion=entropy, max_depth=20;, score=0.870 total time=  43.8s\n",
      "best mean cross-validation score: 0.867\n",
      "best parameters: {'criterion': 'gini', 'max_depth': 20}\n"
     ]
    }
   ],
   "source": [
    "#hiper parámetros\n",
    "#criterion_rej=['gini','entropy']\n",
    "#max_depth_rej=np.linspace(1,20,20).astype(int)\n",
    "#h_parameters = {'criterion':criterion_rej, 'max_depth':max_depth_rej} \n",
    "\n",
    "#Esta vez el scoring será average precision:\n",
    "#rf_pr = GridSearchCV(RandomForestClassifier(n_estimators = 200), h_parameters, cv=5, scoring='average_precision',verbose=3)\n",
    "#rf_pr.fit(df_train, y_train)\n",
    "#print(\"best mean cross-validation score: {:.3f}\".format(rf_pr.best_score_))\n",
    "#print(\"best parameters: {}\".format(rf_pr.best_params_))\n"
   ]
  },
  {
   "cell_type": "code",
   "execution_count": null,
   "metadata": {
    "id": "NAt_ZSsdCA3c"
   },
   "outputs": [],
   "source": [
    "rf_pr_fit = RandomForestClassifier(n_estimators = 200, criterion='gini', max_depth=20).fit(df_train,y_train)\n",
    "y_predRF_pr=rf_pr_fit.predict(df_test)"
   ]
  },
  {
   "cell_type": "markdown",
   "metadata": {
    "id": "rS3IPDzbCA3c"
   },
   "source": [
    "### 3.3.2.1 Matriz de confusión"
   ]
  },
  {
   "cell_type": "code",
   "execution_count": null,
   "metadata": {
    "colab": {
     "base_uri": "https://localhost:8080/",
     "height": 439
    },
    "id": "pnIuTrR9CA3c",
    "outputId": "f9f2ea2c-29d5-48be-cd90-27cf923deb04"
   },
   "outputs": [
    {
     "data": {
      "image/png": "[encoded data removed]",
      "text/plain": [
       "<Figure size 432x360 with 2 Axes>"
      ]
     },
     "metadata": {
      "needs_background": "light"
     },
     "output_type": "display_data"
    },
    {
     "name": "stdout",
     "output_type": "stream",
     "text": [
      "Accuracy: 0.7826885478997571 \n",
      "Precision SIN Fallecidos:  0.996214349661082 \n",
      "Precision CON Fallecidos:  0.05943510656731935 \n",
      "Recall SIN Fallecidos:  0.782021163383732 \n",
      "Recall CON Fallecidos:  0.8225419664268585\n"
     ]
    }
   ],
   "source": [
    "#Matriz:\n",
    "\n",
    "conf_matrixRF_pr = confusion_matrix(y_test, y_predRF_pr)\n",
    "plt.figure(figsize=(6, 5))\n",
    "labels = ['0: SIN Fallecidos','1: CON Fallecidos']\n",
    "sns.heatmap(conf_matrixRF_pr, xticklabels=labels, yticklabels=labels, annot=True, fmt=\"d\");\n",
    "plt.title(\"Confusion matrix Random Forest Average Precision\")\n",
    "plt.ylabel('True class')\n",
    "plt.xlabel('Predicted class')\n",
    "plt.show()\n",
    "\n",
    "Accuracy_rf_pr = (conf_matrixRF_pr[0][0]+conf_matrixRF_pr[1][1])/(conf_matrixRF_pr[0][0]+conf_matrixRF_pr[0][1]+conf_matrixRF_pr[1][0]+conf_matrixRF_pr[1][1])\n",
    "Precision_sin_fall_rf_pr=(conf_matrixRF_pr[0][0])/(conf_matrixRF_pr[0][0]+conf_matrixRF_pr[1][0])\n",
    "Precision_con_fall_rf_pr=(conf_matrixRF_pr[1][1])/(conf_matrixRF_pr[1][1]+conf_matrixRF_pr[0][1])\n",
    "Recall_sin_fall_rf_pr=(conf_matrixRF_pr[0][0])/(conf_matrixRF_pr[0][0]+conf_matrixRF_pr[0][1])\n",
    "Recall_con_fall_rf_pr=(conf_matrixRF_pr[1][1])/(conf_matrixRF_pr[1][1]+conf_matrixRF_pr[1][0])\n",
    "\n",
    "\n",
    "print('Accuracy:', Accuracy_rf_pr, '\\n'\n",
    "      'Precision SIN Fallecidos: ', Precision_sin_fall_rf_pr, '\\n'\n",
    "      'Precision CON Fallecidos: ', Precision_con_fall_rf_pr, '\\n'\n",
    "      'Recall SIN Fallecidos: ', Recall_sin_fall_rf_pr, '\\n'\n",
    "      'Recall CON Fallecidos: ', Recall_con_fall_rf_pr) "
   ]
  },
  {
   "cell_type": "markdown",
   "metadata": {
    "id": "zP9aTelv9dqO"
   },
   "source": [
    "Los resultados obtenidos son los más equilibrados hasta ahora, ya que como vemos, wl número de fallecidos predicho es ligeramente más preciso que en los modelos anteriores, y a la vez el número de falsos fallecidos predichos es significativamente menor, por lo que es el mejor modelo que tenemos hasta este punto en térmnos de equilibrio. El de árbol de decisión con F2-score continúa teniendo el mayor ratio de fallecidos predichos."
   ]
  },
  {
   "cell_type": "markdown",
   "metadata": {
    "id": "VexDMI0YCA3c"
   },
   "source": [
    "### 3.3.2.2 Curva Precision-recall"
   ]
  },
  {
   "cell_type": "code",
   "execution_count": null,
   "metadata": {
    "colab": {
     "base_uri": "https://localhost:8080/",
     "height": 297
    },
    "id": "tNnt5nIGCA3c",
    "outputId": "f7b6cd79-d945-4e73-f762-5d8fbd95d9eb"
   },
   "outputs": [
    {
     "data": {
      "image/png": "[encoded data removed]",
      "text/plain": [
       "<Figure size 432x288 with 1 Axes>"
      ]
     },
     "metadata": {
      "needs_background": "light"
     },
     "output_type": "display_data"
    },
    {
     "name": "stdout",
     "output_type": "stream",
     "text": [
      "0.19431063548791216\n"
     ]
    }
   ],
   "source": [
    "#curva precision-recall\n",
    "\n",
    "#estimamos probabilidades:\n",
    "y_scoresRF_pr_prob = rf_pr_fit.predict_proba(df_test)\n",
    "\n",
    "precision_rf_pr, recall_rf_pr, thresholds_rf_pr = precision_recall_curve(y_test, y_scoresRF_pr_prob[:, 1])\n",
    "\n",
    "no_skill = len(y_test[y_test==1]) / len(y_test)\n",
    "plt.plot([0,1], [no_skill,no_skill], linestyle='--', label='No Skill')\n",
    "plt.plot(recall_rf_pr, precision_rf_pr, marker='.', label='Random Forest Average Precision')\n",
    "\n",
    "plt.xlabel('Recall')\n",
    "plt.ylabel('Precision')\n",
    "plt.legend()\n",
    "\n",
    "plt.show()\n",
    "\n",
    "auc_precision_recall_rf_pr = auc(recall_rf_pr, precision_rf_pr)\n",
    "print(auc_precision_recall_rf_pr)"
   ]
  },
  {
   "cell_type": "markdown",
   "metadata": {
    "id": "rcdHMESp-Nnk"
   },
   "source": [
    "Como es natural, este modelo, al ser muy equilibrado, presenta un área bajo la curva muy alta para lo que hemos observado hasta ahora, de 0.19, sugiriendo que podemos alcanzar una precisión razonable sin reducir demasiado el recall. Por todo ello, este modelo es satisfactorio."
   ]
  },
  {
   "cell_type": "markdown",
   "metadata": {
    "id": "4Bu9XPzooDVU"
   },
   "source": [
    "# 3.4 KNN\n",
    "\n",
    "Es un método de clasificación no paramétrico que se basa en asignar a cada punto del hiperespacio de datos la categoría que esté más representada en sus alrededores. Esto es, para un k, Se va considerando la categoría de las observaciones más cercanas al punto estudiado hasta encontrar k, momento en el que se le asigna al punto la categoría más numerosa en esas k observaciones. Por tanto, para evitar empates entre las categorías 0 y 1, el valor de k será impar.\n",
    "\n",
    "Como ventajas destacan la simplicidad del algoritmo, la idea intuirtiva en la que se fundamenta, por la que la clase de un dato será la de sus vecinos más cercanos, y que puede ser utilizado para clasificación multiclase sin tener que hacer ningún ajuste complejo.\n",
    "\n",
    "Sin embargo, es posible que este algoritmo no funcione adecuadamente porque requiere que todos los datos estén en la misma escala, ya que si no puede interpretar que algunos están más lejos cuando no es así. Además, requiere que los datos del test de ambas categorías sean similares en número, ya que si no dará prioridad a la clase más numerosa. Por último, es muy sensible a outliers y escoger el k óptimo a veces puede resultar complicado o estar injustificado."
   ]
  },
  {
   "cell_type": "markdown",
   "metadata": {
    "id": "lounFkbjOnX3"
   },
   "source": [
    "El algoritmo KNN es conocido por su sencillez pero también por su mayor costo computacional en comparación con otros algoritmos.\n",
    "\n",
    "A fin de hacer más rápida la detección del número óptimo de vecinos en el intervalo [1,60], hemos decidido utilizar un método iterativo de la siguiente manera:\n",
    "\n",
    "mirar primero los valores [1,30,60]\n",
    "\n",
    "2) seleccionar el valor del parámetro que mejor accuracy da en el intervalo: x\n",
    "\n",
    "3) proceder de nuevo en ese subintervalo: [x+10,x,x-10]\n",
    "\n",
    "4) escoger el valor del parámetro que mejor accuracy da en el nuevo subintervalo y repetir con un intervalo de la mitad de tamaño: [x+5,x,x-5]"
   ]
  },
  {
   "cell_type": "markdown",
   "metadata": {
    "id": "T-mBAo3n-cfQ"
   },
   "source": [
    "## 3.4.1 KNN con F2-score"
   ]
  },
  {
   "cell_type": "markdown",
   "metadata": {
    "id": "kJCxW2Hc-kZE"
   },
   "source": [
    "Generamos el KNN con F2-score como hemos indicado. Creamos un proceso iterativo para escoger un n adecuado."
   ]
  },
  {
   "cell_type": "code",
   "execution_count": null,
   "metadata": {
    "colab": {
     "base_uri": "https://localhost:8080/"
    },
    "id": "asPPhcJZoRKj",
    "outputId": "16788b17-fca1-4a53-b760-9705b47b4b6a"
   },
   "outputs": [
    {
     "name": "stdout",
     "output_type": "stream",
     "text": [
      "Fitting 3 folds for each of 3 candidates, totalling 9 fits\n",
      "[CV 1/3] END .....................n_neighbors=1;, score=0.650 total time=  53.1s\n",
      "[CV 2/3] END .....................n_neighbors=1;, score=0.657 total time=  53.2s\n",
      "[CV 3/3] END .....................n_neighbors=1;, score=0.663 total time=  58.9s\n",
      "[CV 1/3] END ....................n_neighbors=30;, score=0.674 total time= 1.9min\n",
      "[CV 2/3] END ....................n_neighbors=30;, score=0.675 total time= 2.0min\n",
      "[CV 3/3] END ....................n_neighbors=30;, score=0.676 total time= 2.1min\n",
      "[CV 1/3] END ....................n_neighbors=60;, score=0.671 total time= 1.8min\n",
      "[CV 2/3] END ....................n_neighbors=60;, score=0.675 total time= 1.8min\n",
      "[CV 3/3] END ....................n_neighbors=60;, score=0.675 total time= 2.2min\n"
     ]
    },
    {
     "data": {
      "text/plain": [
       "GridSearchCV(cv=3, estimator=KNeighborsClassifier(),\n",
       "             param_grid={'n_neighbors': array([ 1, 30, 60])},\n",
       "             scoring=make_scorer(f2_func), verbose=3)"
      ]
     },
     "execution_count": 48,
     "metadata": {},
     "output_type": "execute_result"
    }
   ],
   "source": [
    "KNN=KNeighborsClassifier() \n",
    "n_neighbors=np.linspace(1,60,3).astype(int)\n",
    "h_parameters = {'n_neighbors':n_neighbors} \n",
    "cv = GridSearchCV(KNN, h_parameters, cv=3, scoring=my_f2_scorer(),verbose=3) \n",
    "cv.fit(df_train_normal, y_train)\n"
   ]
  },
  {
   "cell_type": "code",
   "execution_count": null,
   "metadata": {
    "colab": {
     "base_uri": "https://localhost:8080/",
     "height": 320
    },
    "id": "UFOOQZIkoWsC",
    "outputId": "baced827-a786-4933-b8c6-24c36b76fd68"
   },
   "outputs": [
    {
     "name": "stdout",
     "output_type": "stream",
     "text": [
      "best mean cross-validation score: 0.675\n",
      "best parameters: {'n_neighbors': 30}\n"
     ]
    },
    {
     "data": {
      "image/png": "[encoded data removed]",
      "text/plain": [
       "<Figure size 432x288 with 1 Axes>"
      ]
     },
     "metadata": {
      "needs_background": "light"
     },
     "output_type": "display_data"
    }
   ],
   "source": [
    "print(\"best mean cross-validation score: {:.3f}\".format(cv.best_score_))\n",
    "print(\"best parameters: {}\".format(cv.best_params_))\n",
    "maxDepth = range(1,60,29)\n",
    "scores = np.array(cv.cv_results_['mean_test_score'])\n",
    "plt.plot(maxDepth,scores,'-o')\n",
    "plt.xlabel('max depth',fontsize=16)\n",
    "plt.ylabel('5-Fold Acc')\n",
    "plt.show()"
   ]
  },
  {
   "cell_type": "markdown",
   "metadata": {
    "id": "PBVc8i-eCgd4"
   },
   "source": [
    "Estos son los resultados de la primera iteración."
   ]
  },
  {
   "cell_type": "code",
   "execution_count": null,
   "metadata": {
    "colab": {
     "base_uri": "https://localhost:8080/"
    },
    "id": "iWnkGDrLmMhp",
    "outputId": "11a54e70-26cd-4059-ed75-5fdfdc0986da"
   },
   "outputs": [
    {
     "name": "stdout",
     "output_type": "stream",
     "text": [
      "Fitting 3 folds for each of 3 candidates, totalling 9 fits\n",
      "[CV 1/3] END ....................n_neighbors=20;, score=0.668 total time= 2.1min\n",
      "[CV 2/3] END ....................n_neighbors=20;, score=0.670 total time= 2.0min\n",
      "[CV 3/3] END ....................n_neighbors=20;, score=0.673 total time= 2.0min\n",
      "[CV 1/3] END ....................n_neighbors=30;, score=0.674 total time= 2.1min\n",
      "[CV 2/3] END ....................n_neighbors=30;, score=0.675 total time= 2.0min\n",
      "[CV 3/3] END ....................n_neighbors=30;, score=0.676 total time= 2.2min\n",
      "[CV 1/3] END ....................n_neighbors=40;, score=0.675 total time= 2.2min\n",
      "[CV 2/3] END ....................n_neighbors=40;, score=0.677 total time= 2.1min\n",
      "[CV 3/3] END ....................n_neighbors=40;, score=0.678 total time= 2.1min\n"
     ]
    },
    {
     "data": {
      "text/plain": [
       "GridSearchCV(cv=3, estimator=KNeighborsClassifier(),\n",
       "             param_grid={'n_neighbors': array([20, 30, 40])},\n",
       "             scoring=make_scorer(f2_func), verbose=3)"
      ]
     },
     "execution_count": 27,
     "metadata": {},
     "output_type": "execute_result"
    }
   ],
   "source": [
    "KNN=KNeighborsClassifier() \n",
    "n_neighbors=np.linspace(20,40,3).astype(int)\n",
    "h_parameters = {'n_neighbors':n_neighbors} \n",
    "cv = GridSearchCV(KNN, h_parameters, cv=3, scoring=my_f2_scorer(),verbose=3) \n",
    "cv.fit(df_train_normal, y_train)\n"
   ]
  },
  {
   "cell_type": "code",
   "execution_count": null,
   "metadata": {
    "colab": {
     "base_uri": "https://localhost:8080/",
     "height": 323
    },
    "id": "JR8rE-Lkrvp-",
    "outputId": "71375332-6b32-4c40-8611-22f51e407460"
   },
   "outputs": [
    {
     "name": "stdout",
     "output_type": "stream",
     "text": [
      "best mean cross-validation score: 0.677\n",
      "best parameters: {'n_neighbors': 40}\n"
     ]
    },
    {
     "data": {
      "image/png": "[encoded data removed]",
      "text/plain": [
       "<Figure size 432x288 with 1 Axes>"
      ]
     },
     "metadata": {
      "needs_background": "light"
     },
     "output_type": "display_data"
    }
   ],
   "source": [
    "print(\"best mean cross-validation score: {:.3f}\".format(cv.best_score_))\n",
    "print(\"best parameters: {}\".format(cv.best_params_))\n",
    "maxDepth = range(20,40,9)\n",
    "scores = np.array(cv.cv_results_['mean_test_score'])\n",
    "plt.plot(maxDepth,scores,'-o')\n",
    "plt.xlabel('max depth',fontsize=16)\n",
    "plt.ylabel('5-Fold Acc')\n",
    "plt.show()"
   ]
  },
  {
   "cell_type": "markdown",
   "metadata": {
    "id": "5Vs85SKLCr-K"
   },
   "source": [
    "Estos son los resultados de la segunda iteración."
   ]
  },
  {
   "cell_type": "code",
   "execution_count": null,
   "metadata": {
    "colab": {
     "base_uri": "https://localhost:8080/"
    },
    "id": "U4vE1k5ksWIM",
    "outputId": "9dd9e18c-68b2-4aeb-dd19-db2f88ccf7fb"
   },
   "outputs": [
    {
     "name": "stdout",
     "output_type": "stream",
     "text": [
      "Fitting 3 folds for each of 3 candidates, totalling 9 fits\n",
      "[CV 1/3] END ....................n_neighbors=35;, score=0.692 total time= 2.2min\n",
      "[CV 2/3] END ....................n_neighbors=35;, score=0.694 total time= 2.0min\n",
      "[CV 3/3] END ....................n_neighbors=35;, score=0.693 total time= 2.0min\n",
      "[CV 1/3] END ....................n_neighbors=40;, score=0.675 total time= 2.1min\n",
      "[CV 2/3] END ....................n_neighbors=40;, score=0.677 total time= 2.0min\n",
      "[CV 3/3] END ....................n_neighbors=40;, score=0.678 total time= 2.1min\n",
      "[CV 1/3] END ....................n_neighbors=45;, score=0.687 total time= 2.2min\n",
      "[CV 2/3] END ....................n_neighbors=45;, score=0.690 total time= 2.1min\n",
      "[CV 3/3] END ....................n_neighbors=45;, score=0.690 total time= 2.1min\n"
     ]
    },
    {
     "data": {
      "text/plain": [
       "GridSearchCV(cv=3, estimator=KNeighborsClassifier(),\n",
       "             param_grid={'n_neighbors': array([35, 40, 45])},\n",
       "             scoring=make_scorer(f2_func), verbose=3)"
      ]
     },
     "execution_count": 36,
     "metadata": {},
     "output_type": "execute_result"
    }
   ],
   "source": [
    "KNN=KNeighborsClassifier() \n",
    "n_neighbors=np.linspace(35,45,3).astype(int)\n",
    "h_parameters = {'n_neighbors':n_neighbors} \n",
    "cv = GridSearchCV(KNN, h_parameters, cv=3, scoring=my_f2_scorer(),verbose=3) \n",
    "cv.fit(df_train_normal, y_train)"
   ]
  },
  {
   "cell_type": "code",
   "execution_count": null,
   "metadata": {
    "colab": {
     "base_uri": "https://localhost:8080/",
     "height": 320
    },
    "id": "vGYtt1F9xU0w",
    "outputId": "f6b46ebb-4a2e-4090-9046-52d769682199"
   },
   "outputs": [
    {
     "name": "stdout",
     "output_type": "stream",
     "text": [
      "best mean cross-validation score: 0.693\n",
      "best parameters: {'n_neighbors': 35}\n"
     ]
    },
    {
     "data": {
      "image/png": "[encoded data removed]",
      "text/plain": [
       "<Figure size 432x288 with 1 Axes>"
      ]
     },
     "metadata": {
      "needs_background": "light"
     },
     "output_type": "display_data"
    }
   ],
   "source": [
    "print(\"best mean cross-validation score: {:.3f}\".format(cv.best_score_))\n",
    "print(\"best parameters: {}\".format(cv.best_params_))\n",
    "maxDepth = range(35,45,4)\n",
    "scores = np.array(cv.cv_results_['mean_test_score'])\n",
    "plt.plot(maxDepth,scores,'-o')\n",
    "plt.xlabel('max depth',fontsize=16)\n",
    "plt.ylabel('5-Fold Acc')\n",
    "plt.show()"
   ]
  },
  {
   "cell_type": "markdown",
   "metadata": {
    "id": "Zi1yfxtPxvx2"
   },
   "source": [
    "Tras este proceso iterativo escogemos n=35"
   ]
  },
  {
   "cell_type": "code",
   "execution_count": null,
   "metadata": {
    "id": "WjOj6P0az2VB"
   },
   "outputs": [],
   "source": [
    "knn_final_f2=KNeighborsClassifier(n_neighbors=35).fit(df_train_normal,y_train)\n",
    "y_pred_knn_f2=knn_final_f2.predict(df_test_normal)"
   ]
  },
  {
   "cell_type": "markdown",
   "metadata": {
    "id": "IZYnyKx151D-"
   },
   "source": [
    "### 3.4.1.1 Matriz de confusión"
   ]
  },
  {
   "cell_type": "code",
   "execution_count": null,
   "metadata": {
    "colab": {
     "base_uri": "https://localhost:8080/",
     "height": 439
    },
    "id": "O8ubpFl54tot",
    "outputId": "e6e10303-1057-42c1-dc2c-61c950d03306"
   },
   "outputs": [
    {
     "data": {
      "image/png": "[encoded data removed]",
      "text/plain": [
       "<Figure size 432x360 with 2 Axes>"
      ]
     },
     "metadata": {
      "needs_background": "light"
     },
     "output_type": "display_data"
    },
    {
     "name": "stdout",
     "output_type": "stream",
     "text": [
      "Accuracy: 0.6563777474968896 \n",
      "Precision SIN Fallecidos:  0.9937825729176191 \n",
      "Precision CON Fallecidos:  0.035341635812857625 \n",
      "Recall SIN Fallecidos:  0.6547195952051081 \n",
      "Recall CON Fallecidos:  0.7553956834532374\n"
     ]
    }
   ],
   "source": [
    "#Matriz:\n",
    "\n",
    "conf_matrix_knn_f2 = confusion_matrix(y_test, y_pred_knn_f2)\n",
    "plt.figure(figsize=(6, 5))\n",
    "labels = ['0: SIN Fallecidos','1: CON Fallecidos']\n",
    "sns.heatmap(conf_matrix_knn_f2, xticklabels=labels, yticklabels=labels, annot=True, fmt=\"d\");\n",
    "plt.title(\"Confusion matrix KNN F2-Score\")\n",
    "plt.ylabel('True class')\n",
    "plt.xlabel('Predicted class')\n",
    "plt.show()\n",
    "\n",
    "Accuracy_knn_f2 = (conf_matrix_knn_f2[0][0]+conf_matrix_knn_f2[1][1])/(conf_matrix_knn_f2[0][0]+conf_matrix_knn_f2[0][1]+conf_matrix_knn_f2[1][0]+conf_matrix_knn_f2[1][1])\n",
    "Precision_sin_fall_knn_f2=(conf_matrix_knn_f2[0][0])/(conf_matrix_knn_f2[0][0]+conf_matrix_knn_f2[1][0])\n",
    "Precision_con_fall_knn_f2=(conf_matrix_knn_f2[1][1])/(conf_matrix_knn_f2[1][1]+conf_matrix_knn_f2[0][1])\n",
    "Recall_sin_fall_knn_f2=(conf_matrix_knn_f2[0][0])/(conf_matrix_knn_f2[0][0]+conf_matrix_knn_f2[0][1])\n",
    "Recall_con_fall_knn_f2=(conf_matrix_knn_f2[1][1])/(conf_matrix_knn_f2[1][1]+conf_matrix_knn_f2[1][0])\n",
    "\n",
    "\n",
    "print('Accuracy:', Accuracy_knn_f2, '\\n'\n",
    "      'Precision SIN Fallecidos: ', Precision_sin_fall_knn_f2, '\\n'\n",
    "      'Precision CON Fallecidos: ', Precision_con_fall_knn_f2, '\\n'\n",
    "      'Recall SIN Fallecidos: ', Recall_sin_fall_knn_f2, '\\n'\n",
    "      'Recall CON Fallecidos: ', Recall_con_fall_knn_f2) "
   ]
  },
  {
   "cell_type": "markdown",
   "metadata": {
    "id": "BTUlcgaHC2-D"
   },
   "source": [
    "Vemos cómo los resultados no son del todo satisfactorio. Sin ser demasiado malos, no nos ofrecen tanta precisión como algunos estudiados anteriormente."
   ]
  },
  {
   "cell_type": "markdown",
   "metadata": {
    "id": "V8GG3p4NX-kS"
   },
   "source": [
    "### 3.4.1.2 Curva de Precisión-recall"
   ]
  },
  {
   "cell_type": "code",
   "execution_count": null,
   "metadata": {
    "colab": {
     "base_uri": "https://localhost:8080/",
     "height": 297
    },
    "id": "6Y4ylaQmYC48",
    "outputId": "31588508-6dcc-4624-fb8f-287dca432d54"
   },
   "outputs": [
    {
     "data": {
      "image/png": "[encoded data removed]",
      "text/plain": [
       "<Figure size 432x288 with 1 Axes>"
      ]
     },
     "metadata": {
      "needs_background": "light"
     },
     "output_type": "display_data"
    },
    {
     "name": "stdout",
     "output_type": "stream",
     "text": [
      "0.057416765354167426\n"
     ]
    }
   ],
   "source": [
    "y_scores_knn_f2 = knn_final_f2.predict_proba(df_test_normal)\n",
    "\n",
    "precision_knn_f2, recall_knn_f2, thresholds_knn_f2 = precision_recall_curve(y_test, y_scores_knn_f2[:, 1])\n",
    "\n",
    "no_skill = len(y_test[y_test==1]) / len(y_test)\n",
    "plt.plot([0,1], [no_skill,no_skill], linestyle='--', label='No Skill')\n",
    "plt.plot(recall_knn_f2, precision_knn_f2, marker='.', label='KNN F2-score')\n",
    "\n",
    "plt.xlabel('Recall')\n",
    "plt.ylabel('Precision')\n",
    "plt.legend()\n",
    "\n",
    "plt.show()\n",
    "\n",
    "auc_precision_recall_knn_f2 = auc(recall_knn_f2, precision_knn_f2)\n",
    "print(auc_precision_recall_knn_f2)"
   ]
  },
  {
   "cell_type": "markdown",
   "metadata": {
    "id": "rOcmOx7PDTrg"
   },
   "source": [
    "Vemos que además el área bajo la curva es muy pequeña, por lo que definitivamente este método no es el más indicado para nuestro problema de clasificación."
   ]
  },
  {
   "cell_type": "markdown",
   "metadata": {
    "id": "W6AuCIYT_S5g"
   },
   "source": [
    "## 3.4.2 KNN con Average Precision"
   ]
  },
  {
   "cell_type": "markdown",
   "metadata": {
    "id": "TCqrXn8ADfq9"
   },
   "source": [
    "Probamos ahora con average precision."
   ]
  },
  {
   "cell_type": "code",
   "execution_count": null,
   "metadata": {
    "colab": {
     "base_uri": "https://localhost:8080/"
    },
    "id": "IfuY-wLH_S5h",
    "outputId": "9d501b73-5ca5-467d-cd92-4514e41dbb2a"
   },
   "outputs": [
    {
     "name": "stdout",
     "output_type": "stream",
     "text": [
      "Fitting 3 folds for each of 3 candidates, totalling 9 fits\n",
      "[CV 1/3] END .....................n_neighbors=1;, score=0.598 total time= 1.1min\n",
      "[CV 2/3] END .....................n_neighbors=1;, score=0.603 total time= 1.0min\n",
      "[CV 3/3] END .....................n_neighbors=1;, score=0.602 total time= 1.0min\n",
      "[CV 1/3] END ....................n_neighbors=30;, score=0.730 total time= 2.2min\n",
      "[CV 2/3] END ....................n_neighbors=30;, score=0.731 total time= 2.1min\n",
      "[CV 3/3] END ....................n_neighbors=30;, score=0.730 total time= 2.1min\n",
      "[CV 1/3] END ....................n_neighbors=60;, score=0.730 total time= 2.2min\n",
      "[CV 2/3] END ....................n_neighbors=60;, score=0.731 total time= 2.0min\n",
      "[CV 3/3] END ....................n_neighbors=60;, score=0.731 total time= 2.1min\n"
     ]
    },
    {
     "data": {
      "text/plain": [
       "GridSearchCV(cv=3, estimator=KNeighborsClassifier(),\n",
       "             param_grid={'n_neighbors': array([ 1, 30, 60])},\n",
       "             scoring='average_precision', verbose=3)"
      ]
     },
     "execution_count": 51,
     "metadata": {},
     "output_type": "execute_result"
    }
   ],
   "source": [
    "KNN_pr=KNeighborsClassifier() \n",
    "n_neighbors=np.linspace(1,60,3).astype(int)\n",
    "h_parameters = {'n_neighbors':n_neighbors} \n",
    "cv_pr = GridSearchCV(KNN_pr, h_parameters, cv=3, scoring='average_precision',verbose=3) \n",
    "cv_pr.fit(df_train_normal, y_train)\n"
   ]
  },
  {
   "cell_type": "markdown",
   "metadata": {
    "id": "CVdMNEFBDksQ"
   },
   "source": [
    "El proceso iterativo es el indicado en la introducción y utilizado en el apartado anterior."
   ]
  },
  {
   "cell_type": "code",
   "execution_count": null,
   "metadata": {
    "colab": {
     "base_uri": "https://localhost:8080/",
     "height": 320
    },
    "id": "5u0UqU6B_S5h",
    "outputId": "393a9434-6247-473a-d39c-8eab6a0014f4"
   },
   "outputs": [
    {
     "name": "stdout",
     "output_type": "stream",
     "text": [
      "best mean cross-validation score: 0.731\n",
      "best parameters: {'n_neighbors': 60}\n"
     ]
    },
    {
     "data": {
      "image/png": "[encoded data removed]",
      "text/plain": [
       "<Figure size 432x288 with 1 Axes>"
      ]
     },
     "metadata": {
      "needs_background": "light"
     },
     "output_type": "display_data"
    }
   ],
   "source": [
    "print(\"best mean cross-validation score: {:.3f}\".format(cv_pr.best_score_))\n",
    "print(\"best parameters: {}\".format(cv_pr.best_params_))\n",
    "maxDepth = range(1,60,29)\n",
    "scores = np.array(cv_pr.cv_results_['mean_test_score'])\n",
    "plt.plot(maxDepth,scores,'-o')\n",
    "plt.xlabel('max depth',fontsize=16)\n",
    "plt.ylabel('5-Fold Acc')\n",
    "plt.show()"
   ]
  },
  {
   "cell_type": "markdown",
   "metadata": {
    "id": "6-4VvzYaDuUL"
   },
   "source": [
    "Primera iteración."
   ]
  },
  {
   "cell_type": "code",
   "execution_count": null,
   "metadata": {
    "colab": {
     "base_uri": "https://localhost:8080/"
    },
    "id": "LeKoBKyq_S5h",
    "outputId": "21c03736-9b50-43ba-a0ad-92e1e9968582"
   },
   "outputs": [
    {
     "name": "stdout",
     "output_type": "stream",
     "text": [
      "Fitting 3 folds for each of 4 candidates, totalling 12 fits\n",
      "[CV 1/3] END ....................n_neighbors=30;, score=0.730 total time= 2.1min\n",
      "[CV 2/3] END ....................n_neighbors=30;, score=0.731 total time= 2.0min\n",
      "[CV 3/3] END ....................n_neighbors=30;, score=0.730 total time= 2.0min\n",
      "[CV 1/3] END ....................n_neighbors=40;, score=0.731 total time= 2.1min\n",
      "[CV 2/3] END ....................n_neighbors=40;, score=0.731 total time= 2.0min\n",
      "[CV 3/3] END ....................n_neighbors=40;, score=0.730 total time= 2.0min\n",
      "[CV 1/3] END ....................n_neighbors=50;, score=0.731 total time= 2.1min\n",
      "[CV 2/3] END ....................n_neighbors=50;, score=0.732 total time= 2.0min\n",
      "[CV 3/3] END ....................n_neighbors=50;, score=0.730 total time= 2.0min\n",
      "[CV 1/3] END ....................n_neighbors=60;, score=0.730 total time= 2.1min\n",
      "[CV 2/3] END ....................n_neighbors=60;, score=0.731 total time= 2.0min\n",
      "[CV 3/3] END ....................n_neighbors=60;, score=0.731 total time= 2.0min\n"
     ]
    },
    {
     "data": {
      "text/plain": [
       "GridSearchCV(cv=3, estimator=KNeighborsClassifier(),\n",
       "             param_grid={'n_neighbors': array([30, 40, 50, 60])},\n",
       "             scoring='average_precision', verbose=3)"
      ]
     },
     "execution_count": 53,
     "metadata": {},
     "output_type": "execute_result"
    }
   ],
   "source": [
    "KNN_pr=KNeighborsClassifier() \n",
    "n_neighbors=np.linspace(30,60,4).astype(int)\n",
    "h_parameters = {'n_neighbors':n_neighbors} \n",
    "cv_pr = GridSearchCV(KNN_pr, h_parameters, cv=3, scoring='average_precision',verbose=3) \n",
    "cv_pr.fit(df_train_normal, y_train)\n"
   ]
  },
  {
   "cell_type": "code",
   "execution_count": null,
   "metadata": {
    "colab": {
     "base_uri": "https://localhost:8080/",
     "height": 320
    },
    "id": "yZkSN32E_S5h",
    "outputId": "853d2214-f5a1-4cc5-8a5a-1f06483d1914"
   },
   "outputs": [
    {
     "name": "stdout",
     "output_type": "stream",
     "text": [
      "best mean cross-validation score: 0.731\n",
      "best parameters: {'n_neighbors': 50}\n"
     ]
    },
    {
     "data": {
      "image/png": "[encoded data removed]",
      "text/plain": [
       "<Figure size 432x288 with 1 Axes>"
      ]
     },
     "metadata": {
      "needs_background": "light"
     },
     "output_type": "display_data"
    }
   ],
   "source": [
    "print(\"best mean cross-validation score: {:.3f}\".format(cv_pr.best_score_))\n",
    "print(\"best parameters: {}\".format(cv_pr.best_params_))\n",
    "maxDepth = range(30,60,9)\n",
    "scores = np.array(cv_pr.cv_results_['mean_test_score'])\n",
    "plt.plot(maxDepth,scores,'-o')\n",
    "plt.xlabel('max depth',fontsize=16)\n",
    "plt.ylabel('5-Fold Acc')\n",
    "plt.show()"
   ]
  },
  {
   "cell_type": "markdown",
   "metadata": {
    "id": "cMh0_zDFDwHp"
   },
   "source": [
    "Segunda iteración."
   ]
  },
  {
   "cell_type": "code",
   "execution_count": null,
   "metadata": {
    "colab": {
     "base_uri": "https://localhost:8080/"
    },
    "id": "81PjbeC2_S5i",
    "outputId": "277cfa7a-46b0-4ef8-de6d-1418658e9fde"
   },
   "outputs": [
    {
     "name": "stdout",
     "output_type": "stream",
     "text": [
      "Fitting 3 folds for each of 3 candidates, totalling 9 fits\n",
      "[CV 1/3] END ....................n_neighbors=45;, score=0.731 total time= 2.3min\n",
      "[CV 2/3] END ....................n_neighbors=45;, score=0.732 total time= 2.1min\n",
      "[CV 3/3] END ....................n_neighbors=45;, score=0.730 total time= 2.1min\n",
      "[CV 1/3] END ....................n_neighbors=50;, score=0.731 total time= 2.2min\n",
      "[CV 2/3] END ....................n_neighbors=50;, score=0.732 total time= 2.1min\n",
      "[CV 3/3] END ....................n_neighbors=50;, score=0.730 total time= 2.1min\n",
      "[CV 1/3] END ....................n_neighbors=55;, score=0.731 total time= 2.2min\n",
      "[CV 2/3] END ....................n_neighbors=55;, score=0.731 total time= 2.1min\n",
      "[CV 3/3] END ....................n_neighbors=55;, score=0.731 total time= 2.2min\n"
     ]
    },
    {
     "data": {
      "text/plain": [
       "GridSearchCV(cv=3, estimator=KNeighborsClassifier(),\n",
       "             param_grid={'n_neighbors': array([45, 50, 55])},\n",
       "             scoring='average_precision', verbose=3)"
      ]
     },
     "execution_count": 58,
     "metadata": {},
     "output_type": "execute_result"
    }
   ],
   "source": [
    "KNN_pr=KNeighborsClassifier() \n",
    "n_neighbors=np.linspace(45,55,3).astype(int)\n",
    "h_parameters = {'n_neighbors':n_neighbors} \n",
    "cv_pr = GridSearchCV(KNN_pr, h_parameters, cv=3, scoring='average_precision',verbose=3) \n",
    "cv_pr.fit(df_train_normal, y_train)"
   ]
  },
  {
   "cell_type": "code",
   "execution_count": null,
   "metadata": {
    "colab": {
     "base_uri": "https://localhost:8080/",
     "height": 320
    },
    "id": "BRtxCS5N_S5i",
    "outputId": "7712492a-ee44-4d56-90d0-b0aad28b1e7f"
   },
   "outputs": [
    {
     "name": "stdout",
     "output_type": "stream",
     "text": [
      "best mean cross-validation score: 0.731\n",
      "best parameters: {'n_neighbors': 50}\n"
     ]
    },
    {
     "data": {
      "image/png": "[encoded data removed]",
      "text/plain": [
       "<Figure size 432x288 with 1 Axes>"
      ]
     },
     "metadata": {
      "needs_background": "light"
     },
     "output_type": "display_data"
    }
   ],
   "source": [
    "print(\"best mean cross-validation score: {:.3f}\".format(cv_pr.best_score_))\n",
    "print(\"best parameters: {}\".format(cv_pr.best_params_))\n",
    "maxDepth = range(45,55,4)\n",
    "scores = np.array(cv_pr.cv_results_['mean_test_score'])\n",
    "plt.plot(maxDepth,scores,'-o')\n",
    "plt.xlabel('max depth',fontsize=16)\n",
    "plt.ylabel('5-Fold Acc')\n",
    "plt.show()"
   ]
  },
  {
   "cell_type": "markdown",
   "metadata": {
    "id": "FTzHZEqm_S5i"
   },
   "source": [
    "Tras este proceso iterativo escogemos n=50"
   ]
  },
  {
   "cell_type": "code",
   "execution_count": null,
   "metadata": {
    "id": "GBQw-Ro5_S5i"
   },
   "outputs": [],
   "source": [
    "knn_final_rp=KNeighborsClassifier(n_neighbors=50).fit(df_train_normal,y_train)\n",
    "y_pred_knn_rp=knn_final_rp.predict(df_test_normal)"
   ]
  },
  {
   "cell_type": "markdown",
   "metadata": {
    "id": "HsTUseV1_S5i"
   },
   "source": [
    "### 3.4.2.1 Matriz de confusión"
   ]
  },
  {
   "cell_type": "code",
   "execution_count": null,
   "metadata": {
    "colab": {
     "base_uri": "https://localhost:8080/",
     "height": 439
    },
    "id": "-Jj36Wl7_S5i",
    "outputId": "21945d11-f262-4a29-8c8a-c5fdb015f0ea"
   },
   "outputs": [
    {
     "data": {
      "image/png": "[encoded data removed]",
      "text/plain": [
       "<Figure size 432x360 with 2 Axes>"
      ]
     },
     "metadata": {
      "needs_background": "light"
     },
     "output_type": "display_data"
    },
    {
     "name": "stdout",
     "output_type": "stream",
     "text": [
      "Accuracy: 0.6711298062681439 \n",
      "Precision SIN Fallecidos:  0.993450431676094 \n",
      "Precision CON Fallecidos:  0.03601806769519564 \n",
      "Recall SIN Fallecidos:  0.6700399574322832 \n",
      "Recall CON Fallecidos:  0.7362110311750599\n"
     ]
    }
   ],
   "source": [
    "#Matriz:\n",
    "\n",
    "conf_matrix_knn_pr = confusion_matrix(y_test, y_pred_knn_rp)\n",
    "plt.figure(figsize=(6, 5))\n",
    "labels = ['0: SIN Fallecidos','1: CON Fallecidos']\n",
    "sns.heatmap(conf_matrix_knn_pr, xticklabels=labels, yticklabels=labels, annot=True, fmt=\"d\");\n",
    "plt.title(\"Confusion matrix KNN Avg Precision\")\n",
    "plt.ylabel('True class')\n",
    "plt.xlabel('Predicted class')\n",
    "plt.show()\n",
    "\n",
    "Accuracy_knn_pr = (conf_matrix_knn_pr[0][0]+conf_matrix_knn_pr[1][1])/(conf_matrix_knn_pr[0][0]+conf_matrix_knn_pr[0][1]+conf_matrix_knn_pr[1][0]+conf_matrix_knn_pr[1][1])\n",
    "Precision_sin_fall_knn_pr=(conf_matrix_knn_pr[0][0])/(conf_matrix_knn_pr[0][0]+conf_matrix_knn_pr[1][0])\n",
    "Precision_con_fall_knn_pr=(conf_matrix_knn_pr[1][1])/(conf_matrix_knn_pr[1][1]+conf_matrix_knn_pr[0][1])\n",
    "Recall_sin_fall_knn_pr=(conf_matrix_knn_pr[0][0])/(conf_matrix_knn_pr[0][0]+conf_matrix_knn_pr[0][1])\n",
    "Recall_con_fall_knn_pr=(conf_matrix_knn_pr[1][1])/(conf_matrix_knn_pr[1][1]+conf_matrix_knn_pr[1][0])\n",
    "\n",
    "\n",
    "print('Accuracy:', Accuracy_knn_pr, '\\n'\n",
    "      'Precision SIN Fallecidos: ', Precision_sin_fall_knn_pr, '\\n'\n",
    "      'Precision CON Fallecidos: ', Precision_con_fall_knn_pr, '\\n'\n",
    "      'Recall SIN Fallecidos: ', Recall_sin_fall_knn_pr, '\\n'\n",
    "      'Recall CON Fallecidos: ', Recall_con_fall_knn_pr) "
   ]
  },
  {
   "cell_type": "markdown",
   "metadata": {
    "id": "5JADUSdXD1eT"
   },
   "source": [
    "Los resultados vuelven a ser muy similares, y por tanto de calidad media-baja. Aunque precisión y recall estén equilibrrados, no es el algoritmo más eficiente para clasificar esta base de datos."
   ]
  },
  {
   "cell_type": "markdown",
   "metadata": {
    "id": "U6Y4omz8aD_Z"
   },
   "source": [
    "### 3.4.2.2 Curva Precisión-Recall"
   ]
  },
  {
   "cell_type": "code",
   "execution_count": null,
   "metadata": {
    "colab": {
     "base_uri": "https://localhost:8080/",
     "height": 297
    },
    "id": "sF1ljAWxaKPM",
    "outputId": "d0b9ceb9-7878-4740-8cbb-4ef3d316e51f"
   },
   "outputs": [
    {
     "data": {
      "image/png": "[encoded data removed]",
      "text/plain": [
       "<Figure size 432x288 with 1 Axes>"
      ]
     },
     "metadata": {
      "needs_background": "light"
     },
     "output_type": "display_data"
    },
    {
     "name": "stdout",
     "output_type": "stream",
     "text": [
      "0.05670426853005958\n"
     ]
    }
   ],
   "source": [
    "y_scores_knn_pr = knn_final_rp.predict_proba(df_test_normal)\n",
    "\n",
    "precision_knn_pr, recall_knn_pr, thresholds_knn_pr = precision_recall_curve(y_test, y_scores_knn_pr[:, 1])\n",
    "\n",
    "no_skill = len(y_test[y_test==1]) / len(y_test)\n",
    "plt.plot([0,1], [no_skill,no_skill], linestyle='--', label='No Skill')\n",
    "plt.plot(recall_knn_pr, precision_knn_pr, marker='.', label='KNN Average Precision')\n",
    "\n",
    "plt.xlabel('Recall')\n",
    "plt.ylabel('Precision')\n",
    "plt.legend()\n",
    "\n",
    "plt.show()\n",
    "\n",
    "auc_precision_recall_knn_pr = auc(recall_knn_pr, precision_knn_pr)\n",
    "print(auc_precision_recall_knn_pr)"
   ]
  },
  {
   "cell_type": "markdown",
   "metadata": {
    "id": "WMF2eJCDEDZD"
   },
   "source": [
    "En efecto, el área bajo la curva es muy reducida."
   ]
  },
  {
   "cell_type": "markdown",
   "metadata": {
    "id": "uI4vxycqxita"
   },
   "source": [
    "# 3.5 SVM\n",
    "\n",
    "El algoritmo support-vector machines (SVM) separa las clases de datos por un hiperplano, que puede ser de una dimensión muy grande, de tal manera que todos los datos que pertenecen a la primera clase (en nuestro caso, Y=0) se encuentran a un lado, y los de la otra (Y=1), en el otro. Para ello, elige como separación el hiperplano que separa los conjuntos de datos con más margen, es decir, aquel tal que maximiza la distandia de las dos observaciones de categorías distintas más cercanas a él, siendo estas dos iguales.\n",
    "\n",
    "El problema que presenta este método es que en ocasiones es imposible separar la muestra de manera perfecta en dos regiones, por lo que dependiendo del conjunto de datos a analizar, su eficacia puede disminuir ocnsiderablemente."
   ]
  },
  {
   "cell_type": "code",
   "execution_count": null,
   "metadata": {
    "id": "_-HazQVezq-1"
   },
   "outputs": [],
   "source": [
    "from sklearn.svm import SVC"
   ]
  },
  {
   "cell_type": "code",
   "execution_count": null,
   "metadata": {
    "colab": {
     "base_uri": "https://localhost:8080/"
    },
    "id": "WaIrcNAazcxY",
    "outputId": "9ed21d32-db49-4a50-d072-0d7466bd43e8"
   },
   "outputs": [
    {
     "name": "stdout",
     "output_type": "stream",
     "text": [
      "Fitting 5 folds for each of 5 candidates, totalling 25 fits\n",
      "[CV 1/5] END ...........................C=0.001;, score=0.737 total time=22.1min\n",
      "[CV 2/5] END ...........................C=0.001;, score=0.743 total time=26.6min\n",
      "[CV 3/5] END ...........................C=0.001;, score=0.739 total time=23.6min\n",
      "[CV 4/5] END ...........................C=0.001;, score=0.738 total time=22.6min\n",
      "[CV 5/5] END ...........................C=0.001;, score=0.746 total time=21.8min\n",
      "[CV 1/5] END .............C=0.03162277660168379;, score=0.716 total time=19.0min\n",
      "[CV 2/5] END .............C=0.03162277660168379;, score=0.727 total time=18.8min\n",
      "[CV 3/5] END .............C=0.03162277660168379;, score=0.719 total time=19.1min\n",
      "[CV 4/5] END .............C=0.03162277660168379;, score=0.724 total time=19.2min\n",
      "[CV 5/5] END .............C=0.03162277660168379;, score=0.724 total time=19.0min\n"
     ]
    }
   ],
   "source": [
    "vectorC = np.logspace(-3, 3, 5)\n",
    "param_grid = {'C': vectorC}\n",
    "\n",
    "svm_f2 = GridSearchCV(SVC(kernel='rbf'), scoring=my_f2_scorer(), param_grid=param_grid, cv=5, verbose=3).fit(df_train_normal, y_train)"
   ]
  },
  {
   "cell_type": "markdown",
   "metadata": {
    "id": "FUmE96yn1jt6"
   },
   "source": [
    "En primer lugar, observamos que el Score que obtenemos en cada iteración es bastante bueno, lo que implica que el modelo arroja unos resultados bastante satisfactorios. Sin embargo, cada paso de la validación cruzada nos requiere aproxidamente un tiempo medio de unos veinte minutos, lo que hace impracticable el uso de este modelo para resolver el problema de clasificación al que nos enfrentamos en la práctica pues necesitaríamos muchas más iteraciones para conseguir unos resultados robustos. "
   ]
  },
  {
   "cell_type": "markdown",
   "metadata": {
    "id": "GGILiGAR0P0R"
   },
   "source": [
    "# 4. Extra: Multi Layer Perceptron Clasifier (MLP) (Deep Learning)"
   ]
  },
  {
   "cell_type": "markdown",
   "metadata": {
    "id": "Lmh1Vqrr1eyI"
   },
   "source": []
  },
  {
   "cell_type": "markdown",
   "metadata": {
    "id": "5T9OxpK-0DaW"
   },
   "source": [
    "**Como añadido extra hemos añadido un algoritmo de clasifiación basado en perceptrón de múltiples capas** como el estudiado en la parte teórica de la asignatura.\n",
    "\n",
    "Si bien quedaba fuera del temario de la parte práctica, con el conocimiento de la teoría y un poco de información sobre las librerías en internet nos ha sido sencillo plantear el MLP.\n",
    "\n",
    "En esta ocasión no se ha hecho GridSearch para encontrar la mejor configuración, ya que el modelo MLP contempla muchos parámetros y la restricción computacional y de tiempo hace el GridSearch inviable. Hemos elegido por sentido práctico los siguientes parámetros, con los que se obtiene una estimación muy razonable en poco tiempo, lo que explica la eficiencia y el amplio uso de las redes neuronales en problemas de clasificación:\n",
    "\n",
    "1) **Capas**: hemos elegido una red de 2 capas ocultas, una con 200 neuronas y otra con 150.\n",
    "\n",
    "2) **Learning rate adaptativo**: es decir, el learning rate empieza en 0.001 (por defecto) pero irá disminuyendo conforme descienda el gradiente\n",
    "\n",
    "3) **Early stopping**: esto significa que hay una stopping rule por la cual si en la siguiente iteración la loss function no disminuye un threshold lo suficientemente distinto de 0, el modelo para, a fin de no entrar en la zona de overfitting del modelo.\n",
    "\n",
    "4) **Método de backpropagación**: adam, un algoritmo de descenso del gradiente estocástico ligeramente modificado, que es el que trae por defecto y que la literatura coincide en que se obtienen convergencias más rápidas."
   ]
  },
  {
   "cell_type": "code",
   "execution_count": null,
   "metadata": {
    "id": "HSX2EG4z0U8h"
   },
   "outputs": [],
   "source": [
    "from sklearn.neural_network import MLPClassifier\n",
    "\n",
    "mlp     = MLPClassifier(hidden_layer_sizes=(200,150), learning_rate='adaptive', early_stopping=True)\n",
    "mlp_fit = mlp.fit(np.array(df_train), y_train)"
   ]
  },
  {
   "cell_type": "code",
   "execution_count": null,
   "metadata": {
    "id": "enqfpGkL2d5V"
   },
   "outputs": [],
   "source": [
    "pred_mlp = mlp.predict(np.array(df_test))"
   ]
  },
  {
   "cell_type": "code",
   "execution_count": null,
   "metadata": {
    "colab": {
     "base_uri": "https://localhost:8080/",
     "height": 439
    },
    "id": "O-fmtyYG2a5N",
    "outputId": "ab3d54a5-1179-410e-a003-ee7e70c60538"
   },
   "outputs": [
    {
     "data": {
      "image/png": "[encoded data removed]",
      "text/plain": [
       "<Figure size 432x360 with 2 Axes>"
      ]
     },
     "metadata": {
      "needs_background": "light"
     },
     "output_type": "display_data"
    },
    {
     "name": "stdout",
     "output_type": "stream",
     "text": [
      "Accuracy: 0.7565021624503822 \n",
      "Precision SIN Fallecidos:  0.9949282827482367 \n",
      "Precision CON Fallecidos:  0.050234741784037557 \n",
      "Recall SIN Fallecidos:  0.7562797421842058 \n",
      "Recall CON Fallecidos:  0.7697841726618705\n"
     ]
    }
   ],
   "source": [
    "#Matriz:\n",
    "\n",
    "conf_matrixMLP = confusion_matrix(y_test, pred_mlp)\n",
    "plt.figure(figsize=(6, 5))\n",
    "labels = ['0: SIN Fallecidos','1: CON Fallecidos']\n",
    "sns.heatmap(conf_matrixMLP, xticklabels=labels, yticklabels=labels, annot=True, fmt=\"d\");\n",
    "plt.title(\"Confusion matrix MLP\")\n",
    "plt.ylabel('True class')\n",
    "plt.xlabel('Predicted class')\n",
    "plt.show()\n",
    "\n",
    "Accuracy_mlp = (conf_matrixMLP[0][0]+conf_matrixMLP[1][1])/(conf_matrixMLP[0][0]+conf_matrixMLP[0][1]+conf_matrixMLP[1][0]+conf_matrixMLP[1][1])\n",
    "Precision_sin_fall_mlp=(conf_matrixMLP[0][0])/(conf_matrixMLP[0][0]+conf_matrixMLP[1][0])\n",
    "Precision_con_fall_mlp=(conf_matrixMLP[1][1])/(conf_matrixMLP[1][1]+conf_matrixMLP[0][1])\n",
    "Recall_sin_fall_mlp=(conf_matrixMLP[0][0])/(conf_matrixMLP[0][0]+conf_matrixMLP[0][1])\n",
    "Recall_con_fall_mlp=(conf_matrixMLP[1][1])/(conf_matrixMLP[1][1]+conf_matrixMLP[1][0])\n",
    "\n",
    "\n",
    "print('Accuracy:', Accuracy_mlp, '\\n'\n",
    "      'Precision SIN Fallecidos: ', Precision_sin_fall_mlp, '\\n'\n",
    "      'Precision CON Fallecidos: ', Precision_con_fall_mlp, '\\n'\n",
    "      'Recall SIN Fallecidos: ', Recall_sin_fall_mlp, '\\n'\n",
    "      'Recall CON Fallecidos: ', Recall_con_fall_mlp) "
   ]
  },
  {
   "cell_type": "markdown",
   "metadata": {
    "id": "FjW2TvUmEVJZ"
   },
   "source": [
    "Vemos que precisiñon y recall son razonables y relativamente equilibraados, pero otra vez nos topamos con que no estamos frente al mejor de los algoritmos, a pesar de que sí puede servirnos para hacer predicciones en caso de necesitar algún tipo de apoyo al uso de otros modelos."
   ]
  },
  {
   "cell_type": "code",
   "execution_count": null,
   "metadata": {
    "colab": {
     "base_uri": "https://localhost:8080/",
     "height": 297
    },
    "id": "krNo8rl2CXmv",
    "outputId": "3aa4f9fd-c842-400e-db6a-2974bf6ddbc1"
   },
   "outputs": [
    {
     "data": {
      "image/png": "[encoded data removed]",
      "text/plain": [
       "<Figure size 432x288 with 1 Axes>"
      ]
     },
     "metadata": {
      "needs_background": "light"
     },
     "output_type": "display_data"
    },
    {
     "name": "stdout",
     "output_type": "stream",
     "text": [
      "0.11827762023036832\n"
     ]
    }
   ],
   "source": [
    "y_scoresMLP_prob = mlp.predict_proba(np.array(df_test))\n",
    "\n",
    "precision_mlp, recall_mlp, thresholds_mlp = precision_recall_curve(y_test, y_scoresMLP_prob[:, 1])\n",
    "\n",
    "no_skill = len(y_test[y_test==1]) / len(y_test)\n",
    "plt.plot([0,1], [no_skill,no_skill], linestyle='--', label='No Skill')\n",
    "plt.plot(recall_mlp, precision_mlp, marker='.', label='MLP Classifier')\n",
    "\n",
    "plt.xlabel('Recall')\n",
    "plt.ylabel('Precision')\n",
    "plt.legend()\n",
    "\n",
    "plt.show()\n",
    "\n",
    "auc_precision_recall_mlp = auc(recall_mlp, precision_mlp)\n",
    "print(auc_precision_recall_mlp)"
   ]
  },
  {
   "cell_type": "markdown",
   "metadata": {
    "id": "5RDVC_oM1lYf"
   },
   "source": [
    "Vemos que obtenemos resultados similares a otros algoritmos como el árbol de decisión, si bien algo menor en accuracy, pero sin el riesgo de overfitting en el que pueden caer Decision Tree y Random Forest y que aquí estamos evitando con nuestra stopping rule. El área bajo la curva es relativamente buena frente a la mayoría de modelos, pero no es la más alta que hemos visto."
   ]
  },
  {
   "cell_type": "markdown",
   "metadata": {
    "id": "TonZQb5rywf9"
   },
   "source": [
    "# 5. Conclusión: modelos de clasificación"
   ]
  },
  {
   "cell_type": "markdown",
   "metadata": {
    "id": "2g5vjcjP14n1"
   },
   "source": [
    "Modelo | Accuracy | Recall Accidentes Graves | PR-AUC\n",
    "--------|----------|--------------------------|-------|\n",
    "**Regresión Logística**|||| \n",
    "F2-score: C=0.5|0.53|           0.74          |  0.03\n",
    "Avg. Precision: C=3.98|same|    same          |  same\n",
    "**Árboles de decision**||||\n",
    "F2-score: gini, 2 ramas|0.29|   0.94          |0.14\n",
    "Avg. Precision: entropy, 10 ramas|0.75|0.77   |0.1|\n",
    "**Random Forest**||||\n",
    "F2-score: gini, 20 ramas|0.78|        0.82          |0.2|\n",
    "Avg. Precision: (same)|same|same|same|\n",
    "**KNN**||||\n",
    "F2-score: n=35|0.66|            0.76          |0.06|\n",
    "Avg. Precision: n=50|0.67|      0.74          |0.06|\n",
    "**MLP**|0.76|0.77|0.12|\n",
    "\n",
    "\n"
   ]
  },
  {
   "cell_type": "markdown",
   "metadata": {
    "id": "mbLhbpdodeLl"
   },
   "source": [
    "\n"
   ]
  },
  {
   "cell_type": "markdown",
   "metadata": {},
   "source": [
    "Recordemos que, tal y como expusimos en el notebook de preprocessing, la finalidad de este trabajo era emplear los algoritmos de Machine Learning y las técnicas de clasificación estudiadas durante el curso para la **detección de víctimas mortales** en siniestros de tráfico según una serie de características que definen las condiciones en las que ha ocurrido el suceso, el vehículo involucrado y al afectado. \n",
    "\n",
    "Además, tenemos como objetivo, **detectar que variables son las que más contribuyen a que existan fallecimientos** en un accidente y validar si las hipótesis de la Dirección General de Tráfico que hemos expuesto anteriormente son ciertas.\n",
    "\n",
    "\n",
    "Este estudio podría ayudar a definir mejores planes de acción de los servicios de emergencias cuando reciben una llamada sobre una colisión, así como a las agencias de seguros para definir que tipo de cobertura deben hacer a ciertos tipos de vehículos (si es que hay alguna clase de vehículos cuyos siniestros sean de una mayor gravedad) o, por ejemplo, a la DGT para enfocar sus campañas sobre seguridad en aquellas caracteríticas más relevantes que pueden reducir la mortalidad en la carretera.\n",
    "\n",
    "Vamos a revisar el accuracy de cada modelo que hemos empleado, esta métrica hace referencia al número de casos que el modelo ha acertado. El orden según el accuracy sería el siguiente: \n",
    "\n",
    "- **Random Forest:** *78%* de accuracy.\n",
    "- **MLP:** *76%* de accuracy.\n",
    "- **Árboles de decisión - Avg. Precision:** *75%* de accuracy.\n",
    "- **KNN:** *66%-67%* de accuracy.\n",
    "- **Regresión Logística:** *53%* de accuracy.\n",
    "- **Árboles de Decisión - F2 Score:** *57.50%* de accuracy. \n",
    "\n",
    "Una vez examinados los niveles de Accuracy donde vemos que Random Forest y MLP destacan por encima del resto, vamos a examinar brevemente el AUC de cada modelo. En este estudio nos hemos encontrado con unos AUC muy bajos. Teniendo el más alto un valor de **0.20** para el Modelo **Random Forest** mientras que para **MLP** tenemos **0.11**. \n",
    "\n",
    "Por tanto, podemos concluir que el mejor modelo para este estudio de clasificación es el Modelo **Random Forest**, donde a parte de tener el accuracy y el AUC más alto también tiene un Recall de 82%. Sin embargo, nos encontramos con la cuestión de que para ello se han utilizado 20 ramas de árbol, lo que significa que existe un riesgo latente de **overfitting**. Es decir, hay un riesgo de que se sobreentrene al algoritmo de aprendizaje y que provoca que no sea preciso a la hora de estimar datos con los que no ha sido entrenado.   \n",
    "\n",
    "Respecto al resto, destacar la pobre performance de los algoritmos KNN y Regresión. Ambos tienen un accuracy muy bajo con los peores recall para accidentes graves. Su AUC también roza los mínimos de este estudio. Son dos modelos que queda demostrado que son completamente inútiles para este trabajo.\n",
    "\n",
    "También habría que destacar los buenos resultados de MLP, que tal y como hemos comentado, a pesar de tener un AUC y accuracy menor que Random Forest, no tenemos el riesgo de overfitting, lo que le hace un modelo muy interesante para aplicar a nuestro estudio. En general, esto no nos pilla de sorpresa pues es bien conocida la buena performance de las redes neuronales y en concreto, del perceptrón multicapa. \n",
    "\n",
    "Por último, es curioso que si tomamos en cuenta el arbol de decisión con F2 tiene una accuracy pésima (la peor) no obstante, es el que mejor predice los accidentes graves. Utilizando únicamente dos ramas, siendo un modelo muy simple y sin riesgo de overfitting, lo que le hace muy exportable a otros datos. Por ello, este modelo no es un modelo que descartariamos en nuestro estudio ya que nos podría dar información muy relevante sobre los accidentes graves. \n"
   ]
  },
  {
   "cell_type": "markdown",
   "metadata": {
    "id": "_ZRY8PArh4HP"
   },
   "source": [
    "# 6. Reducción de Features"
   ]
  },
  {
   "cell_type": "markdown",
   "metadata": {
    "id": "iSi5-PfRlETa"
   },
   "source": [
    "### Recursive Feature Elimination (RFE)"
   ]
  },
  {
   "cell_type": "markdown",
   "metadata": {
    "id": "xDF38oEDlK5a"
   },
   "source": [
    "#### RFE para el modelo con mejores resultados: Random Forest"
   ]
  },
  {
   "cell_type": "markdown",
   "metadata": {
    "id": "0VAoHN_ple6H"
   },
   "source": [
    "Vamos a aplicar RFE al algoritmo que mejores resultados nos ha dado en términos de accuracy y precision recall AUC: Random Forest.\n",
    "\n",
    "RFE nos permitirá conocer si alguna de las 17 variables puede ser eliminada y así obtener un modelo más compacto\n",
    "\n",
    "(añadir algo más sobre el método RFE?)"
   ]
  },
  {
   "cell_type": "code",
   "execution_count": null,
   "metadata": {
    "colab": {
     "base_uri": "https://localhost:8080/"
    },
    "id": "pS8m18EeEEeA",
    "outputId": "42d978ef-1551-44c4-9b5a-265e0a504721"
   },
   "outputs": [
    {
     "data": {
      "text/plain": [
       "RFECV(cv=2, estimator=RandomForestClassifier(max_depth=20),\n",
       "      scoring=make_scorer(f2_func))"
      ]
     },
     "execution_count": 108,
     "metadata": {},
     "output_type": "execute_result"
    }
   ],
   "source": [
    "mejor_modelo = RandomForestClassifier(criterion='gini', max_depth=20)\n",
    "\n",
    "rfecv = RFECV(estimator=mejor_modelo, step=1, cv=2, scoring=my_f2_scorer())\n",
    "rfecv.fit(df_train, y_train)\n"
   ]
  },
  {
   "cell_type": "code",
   "execution_count": null,
   "metadata": {
    "colab": {
     "base_uri": "https://localhost:8080/",
     "height": 335
    },
    "id": "gL4dVk20K6en",
    "outputId": "7c11b9e1-3f84-4129-debe-27e558babcd4"
   },
   "outputs": [
    {
     "name": "stderr",
     "output_type": "stream",
     "text": [
      "/usr/local/lib/python3.7/dist-packages/sklearn/utils/deprecation.py:103: FutureWarning: The `grid_scores_` attribute is deprecated in version 1.0 in favor of `cv_results_` and will be removed in version 1.2.\n",
      "  warnings.warn(msg, category=FutureWarning)\n"
     ]
    },
    {
     "data": {
      "image/png": "[encoded data removed]",
      "text/plain": [
       "<Figure size 432x288 with 1 Axes>"
      ]
     },
     "metadata": {
      "needs_background": "light"
     },
     "output_type": "display_data"
    }
   ],
   "source": [
    "plt.figure()\n",
    "plt.xlabel(\"# variables\")\n",
    "plt.ylabel(\"5-fold ACC\")\n",
    "plt.plot(range(1, len(rfecv.grid_scores_) + 1), rfecv.grid_scores_, '-o')\n",
    "plt.show()"
   ]
  },
  {
   "cell_type": "code",
   "execution_count": null,
   "metadata": {
    "colab": {
     "base_uri": "https://localhost:8080/"
    },
    "id": "wE1ykN9DcXvV",
    "outputId": "f06e3ee8-b999-47cc-ddb5-59f9d2cc9124"
   },
   "outputs": [
    {
     "name": "stdout",
     "output_type": "stream",
     "text": [
      "Variables seleccionadas:  ['C_MNTH', 'C_WDAY', 'C_HOUR', 'C_VEHS', 'C_CONF', 'C_RCFG', 'C_WTHR', 'C_RSUR', 'C_RALN', 'C_TRAF', 'V_TYPE', 'P_AGE', 'P_SAFE', 'V_AGE']\n",
      "Acc (TEST): 0.79\n"
     ]
    }
   ],
   "source": [
    "print('Variables seleccionadas: ',[f for f in df_train.columns[rfecv.support_]] )\n",
    "print('Acc (TEST): %0.2f'%rfecv.score(df_test,y_test))"
   ]
  },
  {
   "cell_type": "code",
   "execution_count": null,
   "metadata": {
    "colab": {
     "base_uri": "https://localhost:8080/"
    },
    "id": "K8bhG9DhgERI",
    "outputId": "301aa6d1-f7bb-40f4-adc5-9b201bda2d06"
   },
   "outputs": [
    {
     "name": "stdout",
     "output_type": "stream",
     "text": [
      "Variables NO seleccionadas:  ['P_SEX', 'P_PSN', 'P_USER']\n"
     ]
    }
   ],
   "source": [
    "print('Variables NO seleccionadas: ',[f for f in df_train.columns[~rfecv.support_]] )"
   ]
  },
  {
   "cell_type": "markdown",
   "metadata": {
    "id": "Mjs9l3fMg34T"
   },
   "source": [
    "**Resultados**: \n",
    "\n",
    "Tras aplicar reducción de variables por el método RFE vemos que las variables: sexo de la persona, posición en el coche de la persona y usuario (conductor, acompañante) NO son significativas y pueden eliminarse.\n",
    "\n",
    "El resultado es especialmente importante para la primera de las variables mencionadas, ya que asegura que el sexo de la persona no tiene poder explicativo en predecir si tendrá un accidente o no."
   ]
  },
  {
   "cell_type": "markdown",
   "metadata": {
    "id": "_274x9_feUEt"
   },
   "source": [
    "#### RFE con clasificador MLP: comprobación robustez resultados\n",
    "Comprobamos ahora qué resultados obtenemos con MLP y eligiendo la métrica Average Precision. De esta manera comprobamos que los resultados de reducción de variables son robustos con un modelo que a priori presenta menos overfitting que Random Forest:"
   ]
  },
  {
   "cell_type": "code",
   "execution_count": null,
   "metadata": {
    "colab": {
     "base_uri": "https://localhost:8080/"
    },
    "id": "IHhknT3BeTBP",
    "outputId": "678ed0c9-48a6-43b4-f659-8965280d0893"
   },
   "outputs": [
    {
     "data": {
      "text/plain": [
       "RFECV(cv=2, estimator=RandomForestClassifier(max_depth=20),\n",
       "      scoring='average_precision')"
      ]
     },
     "execution_count": 118,
     "metadata": {},
     "output_type": "execute_result"
    }
   ],
   "source": [
    "modelo_mlp = MLPClassifier(hidden_layer_sizes=(200,150), learning_rate='adaptive', early_stopping=True)\n",
    "\n",
    "rfecv_mlp = RFECV(estimator=mejor_modelo, step=1, cv=2, scoring='average_precision')\n",
    "rfecv_mlp.fit(df_train, y_train)"
   ]
  },
  {
   "cell_type": "code",
   "execution_count": null,
   "metadata": {
    "colab": {
     "base_uri": "https://localhost:8080/",
     "height": 353
    },
    "id": "XyZxFJQigTt1",
    "outputId": "e8eaa9cb-bf2c-4762-aff0-51dac5aa33f2"
   },
   "outputs": [
    {
     "name": "stderr",
     "output_type": "stream",
     "text": [
      "/usr/local/lib/python3.7/dist-packages/sklearn/utils/deprecation.py:103: FutureWarning: The `grid_scores_` attribute is deprecated in version 1.0 in favor of `cv_results_` and will be removed in version 1.2.\n",
      "  warnings.warn(msg, category=FutureWarning)\n"
     ]
    },
    {
     "data": {
      "image/png": "[encoded data removed]",
      "text/plain": [
       "<Figure size 432x288 with 1 Axes>"
      ]
     },
     "metadata": {
      "needs_background": "light"
     },
     "output_type": "display_data"
    },
    {
     "name": "stdout",
     "output_type": "stream",
     "text": [
      "Acc (TEST): 0.79\n"
     ]
    }
   ],
   "source": [
    "plt.figure()\n",
    "plt.xlabel(\"# variables\")\n",
    "plt.ylabel(\"5-fold ACC\")\n",
    "plt.plot(range(1, len(rfecv_mlp.grid_scores_) + 1), rfecv_mlp.grid_scores_, '-o')\n",
    "plt.show()\n",
    "print('Acc (TEST): %0.2f'%rfecv_mlp.score(df_test,y_test))"
   ]
  },
  {
   "cell_type": "markdown",
   "metadata": {
    "id": "uZPs9TjDe8KB"
   },
   "source": [
    "De nuevo obtenemos los mismos resultados, con lo que la reducción de variables es robusta."
   ]
  },
  {
   "cell_type": "code",
   "execution_count": null,
   "metadata": {
    "id": "-Dlxkjokq0sY"
   },
   "outputs": [],
   "source": []
  },
  {
   "cell_type": "code",
   "execution_count": null,
   "metadata": {
    "id": "7odh0l_Uq00M"
   },
   "outputs": [],
   "source": []
  },
  {
   "cell_type": "markdown",
   "metadata": {
    "id": "iREAyIx9q1QF"
   },
   "source": [
    "# 7. Aprendizaje No supervisado\n",
    "Tratamos de ver cómo de adecuado es el algortimo de K-medias como primer ejemplo de aprendizaje no supervisado."
   ]
  },
  {
   "cell_type": "markdown",
   "metadata": {
    "id": "vYSBs2ISsMrZ"
   },
   "source": [
    "Es importante señalar que para usar k-medias necesitamos emplear nuestros datos estandarizados:"
   ]
  },
  {
   "cell_type": "code",
   "execution_count": null,
   "metadata": {
    "id": "YG6yAnOLq02z"
   },
   "outputs": [],
   "source": [
    "from scipy.cluster.hierarchy import linkage\n",
    "linkage_type = 'ward'\n",
    "linkage_matrix = linkage(df_train_normal, linkage_type)"
   ]
  },
  {
   "cell_type": "code",
   "execution_count": null,
   "metadata": {
    "id": "Zt473GF7szIS"
   },
   "outputs": [],
   "source": [
    "from scipy.cluster.hierarchy import dendrogram\n",
    "import matplotlib.pyplot as plt\n",
    "plt.figure(figsize=(22,18))\n",
    "\n",
    "# Gráficando con 'dendrogram()'\n",
    "dendrogram(linkage_matrix)\n",
    "\n",
    "plt.show()\n",
    "#seleccionamos 3 clusters"
   ]
  },
  {
   "cell_type": "code",
   "execution_count": null,
   "metadata": {
    "colab": {
     "base_uri": "https://localhost:8080/",
     "height": 295
    },
    "id": "NKvM9ZFqp2Lb",
    "outputId": "228f2b3f-16c3-46d6-f67b-5f32390f9c69"
   },
   "outputs": [
    {
     "data": {
      "image/png": "[encoded data removed]",
      "text/plain": [
       "<Figure size 432x288 with 1 Axes>"
      ]
     },
     "metadata": {
      "needs_background": "light"
     },
     "output_type": "display_data"
    }
   ],
   "source": [
    "from sklearn.cluster import KMeans\n",
    "wcss = []\n",
    "\n",
    "for i in range(1, 11):\n",
    "    kmeans = KMeans(n_clusters = i, init = 'k-means++', \n",
    "                    max_iter = 300, n_init = 10, random_state = 0)\n",
    "    kmeans.fit(df_train_normal)\n",
    "    wcss.append(kmeans.inertia_)\n",
    "    \n",
    "# Mostrando los resultados en un gráfico para determinar un codo 'The elbow'\n",
    "plt.plot(range(1, 11), wcss)\n",
    "plt.title('The elbow method')\n",
    "plt.xlabel('Número de clusters')\n",
    "plt.ylabel('WCSS') # Suma de cuadrados dentro del cluster\n",
    "plt.show()\n",
    "\n",
    "#salen 3 o 4 clusters, decido coger 3"
   ]
  },
  {
   "cell_type": "markdown",
   "metadata": {
    "id": "ystqod1YIT8L"
   },
   "source": [
    "Puesto que no vemos claro cuál es el número de clusters a elegir, incluso cuando variamos sensiblemente el número de clusters, tomamos la decisión de no emplear análisis no supervisado en nuestro trabajo. El problema está en que no somos capaces de encontrar el número de grupos a para el que la curva se hace convexa, ni siquiera cuando tomamos un número grande, por lo que concluimos que el uso de estos algoritmos no era apropiado."
   ]
  }
 ],
 "metadata": {
  "colab": {
   "collapsed_sections": [
    "_274x9_feUEt"
   ],
   "name": "Modelling_Practica_Final.ipynb",
   "provenance": []
  },
  "kernelspec": {
   "display_name": "Python 3 (ipykernel)",
   "language": "python",
   "name": "python3"
  },
  "language_info": {
   "codemirror_mode": {
    "name": "ipython",
    "version": 3
   },
   "file_extension": ".py",
   "mimetype": "text/x-python",
   "name": "python",
   "nbconvert_exporter": "python",
   "pygments_lexer": "ipython3",
   "version": "3.9.7"
  }
 },
 "nbformat": 4,
 "nbformat_minor": 1
}
